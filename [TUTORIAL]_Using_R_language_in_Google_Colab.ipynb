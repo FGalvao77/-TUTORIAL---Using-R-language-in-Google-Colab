{
  "nbformat": 4,
  "nbformat_minor": 0,
  "metadata": {
    "colab": {
      "name": "[TUTORIAL] - Using R language in Google Colab.ipynb",
      "provenance": [],
      "collapsed_sections": [],
      "authorship_tag": "ABX9TyMdH9hfrvkBFiB6KPaHqD8S",
      "include_colab_link": true
    },
    "kernelspec": {
      "name": "ir",
      "display_name": "R"
    },
    "gpuClass": "standard"
  },
  "cells": [
    {
      "cell_type": "markdown",
      "metadata": {
        "id": "view-in-github",
        "colab_type": "text"
      },
      "source": [
        "<a href=\"https://colab.research.google.com/github/FGalvao77/-TUTORIAL---Using-R-language-in-Google-Colab/blob/main/%5BTUTORIAL%5D_Using_R_language_in_Google_Colab.ipynb\" target=\"_parent\"><img src=\"https://colab.research.google.com/assets/colab-badge.svg\" alt=\"Open In Colab\"/></a>"
      ]
    },
    {
      "cell_type": "markdown",
      "source": [
        "## **[TUTORIAL] - Using `R language` in _Google Colab_**\n",
        "---"
      ],
      "metadata": {
        "id": "MtLKCs68Am04"
      }
    },
    {
      "cell_type": "markdown",
      "source": [
        "<center><img src=\"https://estatsite.com.br/wp-content/uploads/2020/07/cover.png\" width=\"500\">"
      ],
      "metadata": {
        "id": "P9KybFgxBLEF"
      }
    },
    {
      "cell_type": "markdown",
      "source": [
        "- Site oficial: https://www.r-project.org/"
      ],
      "metadata": {
        "id": "rK4HjWQkCuUK"
      }
    },
    {
      "cell_type": "markdown",
      "source": [
        "`R` é uma linguagem de programação multi-paradigma _orientada a objetos_, programação funcional, dinâmica, fracamente tipada, voltada à manipulação, análise e visualização de dados. Foi criado originalmente por Ross Ihaka e por Robert Gentleman no departamento de Estatística da Universidade de Auckland, Nova Zelândia.\n",
        "\n",
        "- fonte: [Wikipédia]('https://pt.wikipedia.org/wiki/R_(linguagem_de_programa%C3%A7%C3%A3o))"
      ],
      "metadata": {
        "id": "vjngvB8BCZVR"
      }
    },
    {
      "cell_type": "markdown",
      "source": [
        "Iremos conhecer a sintaxe básica do R e alguns funções/métodos mais comumente usados e, para isso utilizando o ambiente do [Google Colab](https://colab.research.google.com/notebooks/welcome.ipynb?hl=pt-BR)."
      ],
      "metadata": {
        "id": "1vBAej-MP4yZ"
      }
    },
    {
      "cell_type": "markdown",
      "source": [
        "- Segue o link de um notebook limpo para codificação em `R`:\n",
        " - [R no Google Colab](https://colab.to/r) <br><br>\n",
        "- Ou se você preferir, utilize o seguinte comando no browser:\n",
        " - https://colab.to/r\n",
        "\n",
        "<br><br>\n",
        "**OBS.:** Para utilização do ambiente do _Google Colab_, você deve possuir uma conta na Google e está logado."
      ],
      "metadata": {
        "id": "FXfS1wjPHwZ3"
      }
    },
    {
      "cell_type": "markdown",
      "metadata": {
        "id": "Y4f_auP6hg-3"
      },
      "source": [
        "### **Operadores aritméticos**"
      ]
    },
    {
      "cell_type": "markdown",
      "source": [
        "    Operador\tSignificado\n",
        "\n",
        "    +\t       adição\n",
        "    -\t       subtração\n",
        "    *\t       multiplicação\n",
        "    /\t       divisão\n",
        "    ^\t       potência\n",
        "    %%\t      resto da divisão\n",
        "    %/%         divisão inteira"
      ],
      "metadata": {
        "id": "C14O12Q_bZRR"
      }
    },
    {
      "cell_type": "code",
      "metadata": {
        "id": "3WhxguC-hK6p",
        "outputId": "b9a2437f-d2bb-48eb-d4ef-efb96981b7db",
        "colab": {
          "base_uri": "https://localhost:8080/",
          "height": 34
        }
      },
      "source": [
        "# \"+\" (adição)\n",
        "100 + 100"
      ],
      "execution_count": null,
      "outputs": [
        {
          "output_type": "display_data",
          "data": {
            "text/html": [
              "200"
            ],
            "text/markdown": "200",
            "text/latex": "200",
            "text/plain": [
              "[1] 200"
            ]
          },
          "metadata": {}
        }
      ]
    },
    {
      "cell_type": "code",
      "metadata": {
        "id": "u5544pXxhffx",
        "outputId": "e7d9edda-bcfa-47e5-bc4b-408a1baf7389",
        "colab": {
          "base_uri": "https://localhost:8080/",
          "height": 34
        }
      },
      "source": [
        "# \"-\" (subtração)\n",
        "100 - 10"
      ],
      "execution_count": null,
      "outputs": [
        {
          "output_type": "display_data",
          "data": {
            "text/html": [
              "90"
            ],
            "text/markdown": "90",
            "text/latex": "90",
            "text/plain": [
              "[1] 90"
            ]
          },
          "metadata": {}
        }
      ]
    },
    {
      "cell_type": "code",
      "metadata": {
        "id": "AYjuh0Arhft6",
        "outputId": "3ce6d3e7-69ec-48ed-99fb-dfcd8f51e62f",
        "colab": {
          "base_uri": "https://localhost:8080/",
          "height": 34
        }
      },
      "source": [
        "# \"*\" (multiplicação)\n",
        "100 * 2"
      ],
      "execution_count": null,
      "outputs": [
        {
          "output_type": "display_data",
          "data": {
            "text/html": [
              "200"
            ],
            "text/markdown": "200",
            "text/latex": "200",
            "text/plain": [
              "[1] 200"
            ]
          },
          "metadata": {}
        }
      ]
    },
    {
      "cell_type": "code",
      "source": [
        "# \"/\" (divisão)\n",
        "100 / 4"
      ],
      "metadata": {
        "colab": {
          "base_uri": "https://localhost:8080/",
          "height": 34
        },
        "id": "EmvGPmc-7d_U",
        "outputId": "7936d12d-72f1-4145-fdcc-8cc729f6995d"
      },
      "execution_count": null,
      "outputs": [
        {
          "output_type": "display_data",
          "data": {
            "text/html": [
              "25"
            ],
            "text/markdown": "25",
            "text/latex": "25",
            "text/plain": [
              "[1] 25"
            ]
          },
          "metadata": {}
        }
      ]
    },
    {
      "cell_type": "code",
      "metadata": {
        "id": "8kS2M8Iqhfw8",
        "outputId": "3f25d5e0-0da7-4bb9-f6f8-cd09c0defc2c",
        "colab": {
          "base_uri": "https://localhost:8080/",
          "height": 34
        }
      },
      "source": [
        "# \"^\" (potenciação)\n",
        "3 ^ 2"
      ],
      "execution_count": null,
      "outputs": [
        {
          "output_type": "display_data",
          "data": {
            "text/html": [
              "9"
            ],
            "text/markdown": "9",
            "text/latex": "9",
            "text/plain": [
              "[1] 9"
            ]
          },
          "metadata": {}
        }
      ]
    },
    {
      "cell_type": "code",
      "metadata": {
        "id": "SDg0Cxi7hfyu",
        "outputId": "c6bca1b0-8b6d-46d1-ccbd-bf6c1a634e98",
        "colab": {
          "base_uri": "https://localhost:8080/",
          "height": 34
        }
      },
      "source": [
        "# \"%%\" (retorna o resto da divisão)\n",
        "10 %% 3 "
      ],
      "execution_count": null,
      "outputs": [
        {
          "output_type": "display_data",
          "data": {
            "text/html": [
              "1"
            ],
            "text/markdown": "1",
            "text/latex": "1",
            "text/plain": [
              "[1] 1"
            ]
          },
          "metadata": {}
        }
      ]
    },
    {
      "cell_type": "code",
      "metadata": {
        "id": "QCBAlXVxiQwC",
        "outputId": "e6489258-e53d-427f-ba62-5eae561323be",
        "colab": {
          "base_uri": "https://localhost:8080/",
          "height": 34
        }
      },
      "source": [
        "# \"%/%\" (retorna a parte inteira da divisão)\n",
        "10 %/% 3 "
      ],
      "execution_count": null,
      "outputs": [
        {
          "output_type": "display_data",
          "data": {
            "text/html": [
              "3"
            ],
            "text/markdown": "3",
            "text/latex": "3",
            "text/plain": [
              "[1] 3"
            ]
          },
          "metadata": {}
        }
      ]
    },
    {
      "cell_type": "markdown",
      "source": [
        "### **Operadores relacionais**"
      ],
      "metadata": {
        "id": "Y1CjcIIoSXge"
      }
    },
    {
      "cell_type": "markdown",
      "source": [
        "    Operador\tSignificado\n",
        "\n",
        "    ==\t      igual a\n",
        "    !=\t      diferente de\n",
        "    >\t       maior que\n",
        "    <\t       menor que\n",
        "    >=\t      maior ou igual a\n",
        "    <=\t      menor ou igual a"
      ],
      "metadata": {
        "id": "f54KRNVaWbLE"
      }
    },
    {
      "cell_type": "markdown",
      "source": [
        "No caso de uso de operadores relacionais, temos como resposta um _valor lógico_ ou também conhecido como _boleano_, ou seja, `TRUE` (verdadeiro) ou `FALSE` (falso)."
      ],
      "metadata": {
        "id": "k08K7jZfS7eJ"
      }
    },
    {
      "cell_type": "code",
      "source": [
        "# \"==\" (igual a)\n",
        "5 == 3"
      ],
      "metadata": {
        "colab": {
          "base_uri": "https://localhost:8080/",
          "height": 34
        },
        "id": "SCYn29wgTwyB",
        "outputId": "957f4faa-eb51-4ced-949c-cae73ca8428d"
      },
      "execution_count": null,
      "outputs": [
        {
          "output_type": "display_data",
          "data": {
            "text/html": [
              "FALSE"
            ],
            "text/markdown": "FALSE",
            "text/latex": "FALSE",
            "text/plain": [
              "[1] FALSE"
            ]
          },
          "metadata": {}
        }
      ]
    },
    {
      "cell_type": "code",
      "source": [
        "# \"==\" (igual a)\n",
        "5 == 5"
      ],
      "metadata": {
        "colab": {
          "base_uri": "https://localhost:8080/",
          "height": 34
        },
        "id": "CzlYdSZ0UTUy",
        "outputId": "191adf76-da61-4e5e-ee7f-87386cb9d0a7"
      },
      "execution_count": null,
      "outputs": [
        {
          "output_type": "display_data",
          "data": {
            "text/html": [
              "TRUE"
            ],
            "text/markdown": "TRUE",
            "text/latex": "TRUE",
            "text/plain": [
              "[1] TRUE"
            ]
          },
          "metadata": {}
        }
      ]
    },
    {
      "cell_type": "code",
      "source": [
        "# \"!=\" (diferente de)\n",
        "5 != 3"
      ],
      "metadata": {
        "colab": {
          "base_uri": "https://localhost:8080/",
          "height": 34
        },
        "id": "20lRTXuMUVza",
        "outputId": "a62578a7-1787-4502-e777-e80b07ee57ec"
      },
      "execution_count": null,
      "outputs": [
        {
          "output_type": "display_data",
          "data": {
            "text/html": [
              "TRUE"
            ],
            "text/markdown": "TRUE",
            "text/latex": "TRUE",
            "text/plain": [
              "[1] TRUE"
            ]
          },
          "metadata": {}
        }
      ]
    },
    {
      "cell_type": "code",
      "source": [
        "# \"!=\" (diferente de)\n",
        "5 != 5"
      ],
      "metadata": {
        "colab": {
          "base_uri": "https://localhost:8080/",
          "height": 34
        },
        "id": "1HDUce_0Uc8S",
        "outputId": "a1394673-a5a1-4ab6-84bf-3c79cbc85748"
      },
      "execution_count": null,
      "outputs": [
        {
          "output_type": "display_data",
          "data": {
            "text/html": [
              "FALSE"
            ],
            "text/markdown": "FALSE",
            "text/latex": "FALSE",
            "text/plain": [
              "[1] FALSE"
            ]
          },
          "metadata": {}
        }
      ]
    },
    {
      "cell_type": "code",
      "source": [
        "# \">\" (maior que)\n",
        "3 > 0"
      ],
      "metadata": {
        "colab": {
          "base_uri": "https://localhost:8080/",
          "height": 34
        },
        "id": "-U05DWrOSsma",
        "outputId": "3ffc3171-9d18-457c-b173-0fcdd212fec2"
      },
      "execution_count": null,
      "outputs": [
        {
          "output_type": "display_data",
          "data": {
            "text/html": [
              "TRUE"
            ],
            "text/markdown": "TRUE",
            "text/latex": "TRUE",
            "text/plain": [
              "[1] TRUE"
            ]
          },
          "metadata": {}
        }
      ]
    },
    {
      "cell_type": "code",
      "source": [
        "# \"<\" (menor que)\n",
        "3 < 0"
      ],
      "metadata": {
        "colab": {
          "base_uri": "https://localhost:8080/",
          "height": 34
        },
        "id": "6WTo6DuiSspU",
        "outputId": "74c70a92-ebc2-4246-ea46-6d85c2db2b1f"
      },
      "execution_count": null,
      "outputs": [
        {
          "output_type": "display_data",
          "data": {
            "text/html": [
              "FALSE"
            ],
            "text/markdown": "FALSE",
            "text/latex": "FALSE",
            "text/plain": [
              "[1] FALSE"
            ]
          },
          "metadata": {}
        }
      ]
    },
    {
      "cell_type": "code",
      "source": [
        "# \">=\" (maior ou igual a)\n",
        "3 >= 5"
      ],
      "metadata": {
        "colab": {
          "base_uri": "https://localhost:8080/",
          "height": 34
        },
        "id": "vhySSgG8SsgR",
        "outputId": "3d87fcb9-2233-402d-c378-c028e6ced049"
      },
      "execution_count": null,
      "outputs": [
        {
          "output_type": "display_data",
          "data": {
            "text/html": [
              "FALSE"
            ],
            "text/markdown": "FALSE",
            "text/latex": "FALSE",
            "text/plain": [
              "[1] FALSE"
            ]
          },
          "metadata": {}
        }
      ]
    },
    {
      "cell_type": "code",
      "source": [
        "# \"<=\" (menor ou igual a)\n",
        "3 <= 3"
      ],
      "metadata": {
        "colab": {
          "base_uri": "https://localhost:8080/",
          "height": 34
        },
        "id": "Vwe0GFWwSsjQ",
        "outputId": "2f714a57-896c-4238-a5eb-7b9efe4afee5"
      },
      "execution_count": null,
      "outputs": [
        {
          "output_type": "display_data",
          "data": {
            "text/html": [
              "TRUE"
            ],
            "text/markdown": "TRUE",
            "text/latex": "TRUE",
            "text/plain": [
              "[1] TRUE"
            ]
          },
          "metadata": {}
        }
      ]
    },
    {
      "cell_type": "code",
      "source": [
        "# podemos também relacionar um valor boleano com um número\n",
        "FALSE == 3   # TRUE é igual a 3 (isso é falso)"
      ],
      "metadata": {
        "colab": {
          "base_uri": "https://localhost:8080/",
          "height": 34
        },
        "id": "saUbOlhnQ5BQ",
        "outputId": "22b51cba-e271-4892-bc93-e0cc2db4fa12"
      },
      "execution_count": null,
      "outputs": [
        {
          "output_type": "display_data",
          "data": {
            "text/html": [
              "FALSE"
            ],
            "text/markdown": "FALSE",
            "text/latex": "FALSE",
            "text/plain": [
              "[1] FALSE"
            ]
          },
          "metadata": {}
        }
      ]
    },
    {
      "cell_type": "code",
      "source": [
        "#  \"FALSE\" é igual a 0\n",
        "FALSE == 0  # verdadeiro"
      ],
      "metadata": {
        "colab": {
          "base_uri": "https://localhost:8080/",
          "height": 34
        },
        "id": "hTY1hgQe_Gfb",
        "outputId": "a74c26a7-072d-4656-c19b-de9eabb38a45"
      },
      "execution_count": null,
      "outputs": [
        {
          "output_type": "display_data",
          "data": {
            "text/html": [
              "TRUE"
            ],
            "text/markdown": "TRUE",
            "text/latex": "TRUE",
            "text/plain": [
              "[1] TRUE"
            ]
          },
          "metadata": {}
        }
      ]
    },
    {
      "cell_type": "markdown",
      "source": [
        "> Por que no caso acima temos uma resposta verdadeira?\n",
        "\n",
        "Isso se deve que, grosseiramente falando, valores boleanos se \"equivalem\" numericamente ao `0` para caso **FALSO** e `1` para **VERDADEIRO**.\n"
      ],
      "metadata": {
        "id": "kKkQFsjk_g-E"
      }
    },
    {
      "cell_type": "code",
      "source": [
        "# outro exemplo, 1 é igual \"TRUE\"\n",
        "1 == TRUE # também é verdadeiro "
      ],
      "metadata": {
        "colab": {
          "base_uri": "https://localhost:8080/",
          "height": 34
        },
        "id": "exRN01zWALvF",
        "outputId": "15fdd139-6b9f-4f03-e3a9-988836c62aac"
      },
      "execution_count": null,
      "outputs": [
        {
          "output_type": "display_data",
          "data": {
            "text/html": [
              "TRUE"
            ],
            "text/markdown": "TRUE",
            "text/latex": "TRUE",
            "text/plain": [
              "[1] TRUE"
            ]
          },
          "metadata": {}
        }
      ]
    },
    {
      "cell_type": "code",
      "source": [
        "# mais outro exemplo\n",
        "TRUE != FALSE   # TRUE é diferente que FALSE (isso é verdadeiro)"
      ],
      "metadata": {
        "colab": {
          "base_uri": "https://localhost:8080/",
          "height": 34
        },
        "id": "IvFHu1_KRv4Q",
        "outputId": "0192e464-348a-4650-f817-8972cbbfc9f8"
      },
      "execution_count": null,
      "outputs": [
        {
          "output_type": "display_data",
          "data": {
            "text/html": [
              "TRUE"
            ],
            "text/markdown": "TRUE",
            "text/latex": "TRUE",
            "text/plain": [
              "[1] TRUE"
            ]
          },
          "metadata": {}
        }
      ]
    },
    {
      "cell_type": "code",
      "source": [
        "# relacionando duas condições e comparando entre si\n",
        "(3 > 5) == (3 != 4) # 3 é maior que 5 (falso) | 3 é diferente de 4 (verdadeiro) e, dadas as condições eles são iguais (falso)"
      ],
      "metadata": {
        "colab": {
          "base_uri": "https://localhost:8080/",
          "height": 34
        },
        "id": "OKHM7_LERF8B",
        "outputId": "4f829d44-4bab-4140-f116-6a8544e40864"
      },
      "execution_count": null,
      "outputs": [
        {
          "output_type": "display_data",
          "data": {
            "text/html": [
              "FALSE"
            ],
            "text/markdown": "FALSE",
            "text/latex": "FALSE",
            "text/plain": [
              "[1] FALSE"
            ]
          },
          "metadata": {}
        }
      ]
    },
    {
      "cell_type": "code",
      "source": [
        "# relacionando duas condições e comparando entre si\n",
        "(5 > 2) != (4 == 5) # 5 é maior que 2 (verdadeiro) | 4 é igual a 5 (falso) e, dadas as condições eles são diferentes (verdadeiro)"
      ],
      "metadata": {
        "colab": {
          "base_uri": "https://localhost:8080/",
          "height": 34
        },
        "id": "MVniTgvNRhzQ",
        "outputId": "dee9bebc-a7a5-4972-fce4-d16ff885ca53"
      },
      "execution_count": null,
      "outputs": [
        {
          "output_type": "display_data",
          "data": {
            "text/html": [
              "TRUE"
            ],
            "text/markdown": "TRUE",
            "text/latex": "TRUE",
            "text/plain": [
              "[1] TRUE"
            ]
          },
          "metadata": {}
        }
      ]
    },
    {
      "cell_type": "markdown",
      "source": [
        "### **Operadores lógicos**"
      ],
      "metadata": {
        "id": "lr5MCEmTVKaq"
      }
    },
    {
      "cell_type": "markdown",
      "source": [
        "    Operador    Significado    Explicação\n",
        "\n",
        "    &\t       AND lógico      Versão vetorizada. \n",
        "                                Compara dois elementos do tipo vetor e \n",
        "                                retorna um vetor de TRUEs e FALSEs\n",
        "\n",
        "    &&\t      AND lógico      Versão não vetorizada. \n",
        "                                Compara dois elementos do tipo vetor e \n",
        "                                retorna um vetor de TRUEs e FALSEs\n",
        "\n",
        "    |\t       OR lógico       Versão vetorizada. \n",
        "                                Compara dois elementos do tipo vetor e \n",
        "                                retorna um vetor de TRUEs e FALSEs\n",
        "\n",
        "    ||\t      OR lógico       Versão não-vetorizada. \n",
        "                                Compara apenas o primeiro valor de cada vetor,\n",
        "                                retornando um valor lógico.\n",
        "\n",
        "    !\t       NOT lógico      Negação lógica. \n",
        "                                Retorna um valor lógico único ou um vetor de \n",
        "                                TRUE / FALSE.\n",
        "\n",
        "    xor\t     XOR             Ou Exclusivo. \n",
        "                                Retorna valor lógico TRUE se ambos os valores\n",
        "                                de entrada forem diferentes entre si, e retorna\n",
        "                                FALSE se os valores forem iguais."
      ],
      "metadata": {
        "id": "Thjn8uw9c61Y"
      }
    },
    {
      "cell_type": "code",
      "source": [
        "# declarando as variáveis \"x\" e \"y\"\n",
        "x <- 0:2 # iniciando do 0 até o 2\n",
        "y <- 2:0 # inciciando do 2 até o 0\n",
        "\n",
        "# visualizando o resultado em cada variável\n",
        "x; y"
      ],
      "metadata": {
        "colab": {
          "base_uri": "https://localhost:8080/",
          "height": 52
        },
        "id": "KZ5Zu9BZgd9_",
        "outputId": "f66e35d2-59e3-4b98-f716-027e2083e74b"
      },
      "execution_count": null,
      "outputs": [
        {
          "output_type": "display_data",
          "data": {
            "text/html": [
              "<style>\n",
              ".list-inline {list-style: none; margin:0; padding: 0}\n",
              ".list-inline>li {display: inline-block}\n",
              ".list-inline>li:not(:last-child)::after {content: \"\\00b7\"; padding: 0 .5ex}\n",
              "</style>\n",
              "<ol class=list-inline><li>0</li><li>1</li><li>2</li></ol>\n"
            ],
            "text/markdown": "1. 0\n2. 1\n3. 2\n\n\n",
            "text/latex": "\\begin{enumerate*}\n\\item 0\n\\item 1\n\\item 2\n\\end{enumerate*}\n",
            "text/plain": [
              "[1] 0 1 2"
            ]
          },
          "metadata": {}
        },
        {
          "output_type": "display_data",
          "data": {
            "text/html": [
              "<style>\n",
              ".list-inline {list-style: none; margin:0; padding: 0}\n",
              ".list-inline>li {display: inline-block}\n",
              ".list-inline>li:not(:last-child)::after {content: \"\\00b7\"; padding: 0 .5ex}\n",
              "</style>\n",
              "<ol class=list-inline><li>2</li><li>1</li><li>0</li></ol>\n"
            ],
            "text/markdown": "1. 2\n2. 1\n3. 0\n\n\n",
            "text/latex": "\\begin{enumerate*}\n\\item 2\n\\item 1\n\\item 0\n\\end{enumerate*}\n",
            "text/plain": [
              "[1] 2 1 0"
            ]
          },
          "metadata": {}
        }
      ]
    },
    {
      "cell_type": "code",
      "source": [
        "# \"&\" (AND lógico - versão vetorizada)\n",
        "print((x < 1) & (y > 1))"
      ],
      "metadata": {
        "colab": {
          "base_uri": "https://localhost:8080/"
        },
        "id": "E__LiQeeVXuD",
        "outputId": "57b3f6c4-e4cd-4226-9826-cf92993735e3"
      },
      "execution_count": null,
      "outputs": [
        {
          "output_type": "stream",
          "name": "stdout",
          "text": [
            "[1]  TRUE FALSE FALSE\n"
          ]
        }
      ]
    },
    {
      "cell_type": "code",
      "source": [
        "# \"&&\" (AND lógico - versão não vetorizada)\n",
        "print((x < 1) && (y > 1))"
      ],
      "metadata": {
        "colab": {
          "base_uri": "https://localhost:8080/"
        },
        "id": "FuQrphvhVXq3",
        "outputId": "56c0ba7c-11c8-42ba-f0d9-4c6bac5d86dc"
      },
      "execution_count": null,
      "outputs": [
        {
          "output_type": "stream",
          "name": "stderr",
          "text": [
            "Warning message in (x < 1) && (y > 1):\n",
            "“'length(x) = 3 > 1' in coercion to 'logical(1)'”\n",
            "Warning message in (x < 1) && (y > 1):\n",
            "“'length(x) = 3 > 1' in coercion to 'logical(1)'”\n"
          ]
        },
        {
          "output_type": "stream",
          "name": "stdout",
          "text": [
            "[1] TRUE\n"
          ]
        }
      ]
    },
    {
      "cell_type": "code",
      "source": [
        "# \"|\" (OR lógico - versão vetorizada)\n",
        "print( (x < 1) | (y > 1))"
      ],
      "metadata": {
        "colab": {
          "base_uri": "https://localhost:8080/"
        },
        "id": "BiMpBy6WVXno",
        "outputId": "1ae7112a-83a1-4c89-de3b-033e2e9147a7"
      },
      "execution_count": null,
      "outputs": [
        {
          "output_type": "stream",
          "name": "stdout",
          "text": [
            "[1]  TRUE FALSE FALSE\n"
          ]
        }
      ]
    },
    {
      "cell_type": "code",
      "source": [
        "# \"|\" (OR lógico - versão não vetorizada)\n",
        "print( (x < 1) || (y > 1))"
      ],
      "metadata": {
        "colab": {
          "base_uri": "https://localhost:8080/"
        },
        "id": "erKAS4fpVXkG",
        "outputId": "6596a1b6-14bd-43d2-9da1-d5fc8a8f758d"
      },
      "execution_count": null,
      "outputs": [
        {
          "output_type": "stream",
          "name": "stderr",
          "text": [
            "Warning message in (x < 1) || (y > 1):\n",
            "“'length(x) = 3 > 1' in coercion to 'logical(1)'”\n"
          ]
        },
        {
          "output_type": "stream",
          "name": "stdout",
          "text": [
            "[1] TRUE\n"
          ]
        }
      ]
    },
    {
      "cell_type": "code",
      "source": [
        "# \"!\" (NOT lógico - negação lógica)\n",
        "print(!y == x)"
      ],
      "metadata": {
        "colab": {
          "base_uri": "https://localhost:8080/"
        },
        "id": "9YNAJKqYVXgm",
        "outputId": "01ef9e97-a918-4a47-83d5-e2589878bbda"
      },
      "execution_count": null,
      "outputs": [
        {
          "output_type": "stream",
          "name": "stdout",
          "text": [
            "[1]  TRUE FALSE  TRUE\n"
          ]
        }
      ]
    },
    {
      "cell_type": "code",
      "source": [
        "# \"xor\" (XOR - ou Exclusivo)\n",
        "print(xor(x,y))"
      ],
      "metadata": {
        "colab": {
          "base_uri": "https://localhost:8080/"
        },
        "id": "JN8hDlaNVXdu",
        "outputId": "75c9fe08-8f1f-4009-88c9-d4136c75a769"
      },
      "execution_count": null,
      "outputs": [
        {
          "output_type": "stream",
          "name": "stdout",
          "text": [
            "[1]  TRUE FALSE  TRUE\n"
          ]
        }
      ]
    },
    {
      "cell_type": "markdown",
      "metadata": {
        "id": "QoWR8j8wjFuX"
      },
      "source": [
        "### **Declaração de variávies**"
      ]
    },
    {
      "cell_type": "markdown",
      "metadata": {
        "id": "mG9BiaH0jlKK"
      },
      "source": [
        "#### Existe duas formas de declarar variaveis em R\n",
        "\n",
        "1) com o uso do `<-` \n",
        "\n",
        "2) e com uso do `=`\n",
        "\n",
        "Segue os exemplos:\n",
        "\n",
        "```r\n",
        "x <- 3\n",
        "y = 5\n",
        "````"
      ]
    },
    {
      "cell_type": "code",
      "metadata": {
        "id": "fapJkAYbiQ9a"
      },
      "source": [
        "# declarando duas variáveis, cada qual utilizando um método\n",
        "x <- 16\n",
        "y = 5"
      ],
      "execution_count": null,
      "outputs": []
    },
    {
      "cell_type": "code",
      "source": [
        "# visualizando o conteúdo das variáveis\n",
        "x\n",
        "y"
      ],
      "metadata": {
        "colab": {
          "base_uri": "https://localhost:8080/",
          "height": 52
        },
        "id": "sRT-wY9tOCjO",
        "outputId": "1a7cbacb-9899-47a1-88e7-424225e1f41b"
      },
      "execution_count": null,
      "outputs": [
        {
          "output_type": "display_data",
          "data": {
            "text/html": [
              "16"
            ],
            "text/markdown": "16",
            "text/latex": "16",
            "text/plain": [
              "[1] 16"
            ]
          },
          "metadata": {}
        },
        {
          "output_type": "display_data",
          "data": {
            "text/html": [
              "5"
            ],
            "text/markdown": "5",
            "text/latex": "5",
            "text/plain": [
              "[1] 5"
            ]
          },
          "metadata": {}
        }
      ]
    },
    {
      "cell_type": "code",
      "metadata": {
        "id": "6jKi9LERkzAG",
        "outputId": "62d6f4d3-f8dc-4330-8ded-4f391328f019",
        "colab": {
          "base_uri": "https://localhost:8080/",
          "height": 34
        }
      },
      "source": [
        "# realizando operação de adição com as variáveis \"x\" e \"y\" e, instanciando o \n",
        "# resultado em uma nova variável e visualizando o resultado final\n",
        " resultado <- x + y\n",
        " resultado"
      ],
      "execution_count": null,
      "outputs": [
        {
          "output_type": "display_data",
          "data": {
            "text/html": [
              "21"
            ],
            "text/markdown": "21",
            "text/latex": "21",
            "text/plain": [
              "[1] 21"
            ]
          },
          "metadata": {}
        }
      ]
    },
    {
      "cell_type": "code",
      "source": [
        "# visualizando o resto da divisão\n",
        "x %% y"
      ],
      "metadata": {
        "colab": {
          "base_uri": "https://localhost:8080/",
          "height": 34
        },
        "id": "ifXB_luyT7nl",
        "outputId": "0798acd7-6dae-4a67-81b6-0ca61bee47aa"
      },
      "execution_count": null,
      "outputs": [
        {
          "output_type": "display_data",
          "data": {
            "text/html": [
              "1"
            ],
            "text/markdown": "1",
            "text/latex": "1",
            "text/plain": [
              "[1] 1"
            ]
          },
          "metadata": {}
        }
      ]
    },
    {
      "cell_type": "code",
      "source": [
        "# visualizando a parte inteira da divisão\n",
        "x %/% y"
      ],
      "metadata": {
        "colab": {
          "base_uri": "https://localhost:8080/",
          "height": 34
        },
        "id": "albkty24TvD7",
        "outputId": "bba8913b-cda0-49a3-f30f-babc26d54f06"
      },
      "execution_count": null,
      "outputs": [
        {
          "output_type": "display_data",
          "data": {
            "text/html": [
              "3"
            ],
            "text/markdown": "3",
            "text/latex": "3",
            "text/plain": [
              "[1] 3"
            ]
          },
          "metadata": {}
        }
      ]
    },
    {
      "cell_type": "markdown",
      "source": [
        "Para declarar variáveis do tipo caracter podemos utilizar as aspas simples ou duplas."
      ],
      "metadata": {
        "id": "FszqzkgCDFsJ"
      }
    },
    {
      "cell_type": "code",
      "source": [
        "# instanciando duas variáveis do tipo caracter, utilizando aspas simples e duplas\n",
        "msg_1 = 'Hello world!'\n",
        "msg_2 = \"R Language\""
      ],
      "metadata": {
        "id": "xvincEoa_CiM"
      },
      "execution_count": null,
      "outputs": []
    },
    {
      "cell_type": "code",
      "source": [
        "# com a função \"class\" podemos consultar o tipo de dado de um objeto\n",
        "class(msg_1)\n",
        "class(msg_2)"
      ],
      "metadata": {
        "colab": {
          "base_uri": "https://localhost:8080/",
          "height": 52
        },
        "id": "pEgEbi7BJGug",
        "outputId": "c4fbdbdc-2207-4d4b-98e4-9713c8320953"
      },
      "execution_count": null,
      "outputs": [
        {
          "output_type": "display_data",
          "data": {
            "text/html": [
              "'character'"
            ],
            "text/markdown": "'character'",
            "text/latex": "'character'",
            "text/plain": [
              "[1] \"character\""
            ]
          },
          "metadata": {}
        },
        {
          "output_type": "display_data",
          "data": {
            "text/html": [
              "'character'"
            ],
            "text/markdown": "'character'",
            "text/latex": "'character'",
            "text/plain": [
              "[1] \"character\""
            ]
          },
          "metadata": {}
        }
      ]
    },
    {
      "cell_type": "markdown",
      "source": [
        "Realizando atribuição de uma variável via teclado."
      ],
      "metadata": {
        "id": "AQyeDYc1JdQZ"
      }
    },
    {
      "cell_type": "code",
      "metadata": {
        "id": "GwyHDl3GlRoj",
        "outputId": "525eac50-02fa-4503-9b66-8b53e28f5b95",
        "colab": {
          "base_uri": "https://localhost:8080/"
        }
      },
      "source": [
        "# com a função \"readline\" podemos entrar com dado e atribuir em uma variável\n",
        "nome = readline(prompt='Qual seu nome? ') "
      ],
      "execution_count": null,
      "outputs": [
        {
          "name": "stdout",
          "output_type": "stream",
          "text": [
            "Qual seu nome? Fernando\n"
          ]
        }
      ]
    },
    {
      "cell_type": "code",
      "source": [
        "# tambem podemos realizar sem a função \"prompt\"\n",
        "sobrenome <- readline('Qual seu sobrenome? ')"
      ],
      "metadata": {
        "colab": {
          "base_uri": "https://localhost:8080/"
        },
        "id": "AqVw0cho9vz5",
        "outputId": "935ba6ea-4d91-4388-e890-e9cd4ca8a05b"
      },
      "execution_count": null,
      "outputs": [
        {
          "name": "stdout",
          "output_type": "stream",
          "text": [
            "Qual seu sobrenome? Galvão\n"
          ]
        }
      ]
    },
    {
      "cell_type": "code",
      "metadata": {
        "id": "Vg5uAUzqlR0j",
        "outputId": "2bf1713f-3476-468c-a36a-22fbf8043755",
        "colab": {
          "base_uri": "https://localhost:8080/"
        }
      },
      "source": [
        "# com a função \"print\" podemos imprimir o resultado da variável\n",
        "print(msg_1) # retorna a variavel x\n",
        "print(msg_2) # retorna a variável y"
      ],
      "execution_count": null,
      "outputs": [
        {
          "output_type": "stream",
          "name": "stdout",
          "text": [
            "[1] \"Hello world!\"\n",
            "[1] \"R Language\"\n"
          ]
        }
      ]
    },
    {
      "cell_type": "code",
      "metadata": {
        "id": "tMVNXYFqnNpT",
        "outputId": "3c4418e5-ed9d-40d7-8f11-637bbe621472",
        "colab": {
          "base_uri": "https://localhost:8080/",
          "height": 52
        }
      },
      "source": [
        "# ou podemos simplesmente chamar direto a variável\n",
        "nome; sobrenome  # retorna o resultado das variáveis, nome e o sobrenome"
      ],
      "execution_count": null,
      "outputs": [
        {
          "output_type": "display_data",
          "data": {
            "text/html": [
              "'Fernando'"
            ],
            "text/markdown": "'Fernando'",
            "text/latex": "'Fernando'",
            "text/plain": [
              "[1] \"Fernando\""
            ]
          },
          "metadata": {}
        },
        {
          "output_type": "display_data",
          "data": {
            "text/html": [
              "'Galvão'"
            ],
            "text/markdown": "'Galvão'",
            "text/latex": "'Galvão'",
            "text/plain": [
              "[1] \"Galvão\""
            ]
          },
          "metadata": {}
        }
      ]
    },
    {
      "cell_type": "code",
      "source": [
        "# instanciando um objeto do tipo númerico, para isso utilizamos o método/função \"as.numeric()\"\n",
        "idade <- as.numeric(readline('Digite a sua idade: '))\n",
        "\n",
        "# visualizando a classe do dado do objeto \"idade\"\n",
        "class(idade)"
      ],
      "metadata": {
        "colab": {
          "base_uri": "https://localhost:8080/",
          "height": 52
        },
        "id": "J0U2v0e7KfLy",
        "outputId": "1c8ac519-0870-4d8b-e107-1f4e08b08bba"
      },
      "execution_count": null,
      "outputs": [
        {
          "name": "stdout",
          "output_type": "stream",
          "text": [
            "Digite a sua idade: 38\n"
          ]
        },
        {
          "output_type": "display_data",
          "data": {
            "text/html": [
              "'numeric'"
            ],
            "text/markdown": "'numeric'",
            "text/latex": "'numeric'",
            "text/plain": [
              "[1] \"numeric\""
            ]
          },
          "metadata": {}
        }
      ]
    },
    {
      "cell_type": "code",
      "source": [
        "# visualizando o resultado da variável \"idade\"\n",
        "idade"
      ],
      "metadata": {
        "colab": {
          "base_uri": "https://localhost:8080/",
          "height": 34
        },
        "id": "RzK7wtfmU4s0",
        "outputId": "1facacc9-8bf7-4deb-d1e5-591c0919dcb4"
      },
      "execution_count": null,
      "outputs": [
        {
          "output_type": "display_data",
          "data": {
            "text/html": [
              "38"
            ],
            "text/markdown": "38",
            "text/latex": "38",
            "text/plain": [
              "[1] 38"
            ]
          },
          "metadata": {}
        }
      ]
    },
    {
      "cell_type": "markdown",
      "source": [
        "**Exercicio:**"
      ],
      "metadata": {
        "id": "TlQuLOskb65-"
      }
    },
    {
      "cell_type": "code",
      "metadata": {
        "id": "5k_QwSDTjszq",
        "colab": {
          "base_uri": "https://localhost:8080/"
        },
        "outputId": "73cdd348-d2f4-4546-d575-c8e566f974b3"
      },
      "source": [
        "# realizando a entrada de um valor em metros e realizando a transformação para centímetros\n",
        "met <- as.numeric(readline('Digite o valor (m): '))\n",
        "cent <- round(met * 100, digits = 2)\n",
        "\n",
        "resp <- paste('Para', met, 'metros temos', cent, 'centímetros.')\n",
        "print(resp)"
      ],
      "execution_count": null,
      "outputs": [
        {
          "output_type": "stream",
          "name": "stdout",
          "text": [
            "Digite o valor (m): 1.68\n",
            "[1] \"Para 1.68 metros temos 168 centímetros.\"\n"
          ]
        }
      ]
    },
    {
      "cell_type": "markdown",
      "metadata": {
        "id": "Pwm2PVEXnswE"
      },
      "source": [
        "### **Estrutura de dados**"
      ]
    },
    {
      "cell_type": "markdown",
      "metadata": {
        "id": "9d1K5SoypS49"
      },
      "source": [
        "#### Vetor"
      ]
    },
    {
      "cell_type": "markdown",
      "source": [
        "**Vetor (matemática)**\n",
        "\n",
        "Em [geometria analítica](https://pt.wikipedia.org/wiki/Geometria_anal%C3%ADtica), um **vetor** é uma [classe](https://pt.wikipedia.org/wiki/Classe_(teoria_dos_conjuntos)) de [equipolência](https://pt.wikipedia.org/wiki/Equipol%C3%AAncia) de [segmentos de reta](https://pt.wikipedia.org/wiki/Segmento_de_recta) orientados, que possuem todos a mesma intensidade (também designada por norma ou módulo), mesma direção e mesmo sentido. Em alguns dos casos, a expressão **vetor espacial** também é utilizada.\n",
        "\n",
        "Neste contexto, um vetor ${\\mathbf{a}}$ pode ser representado por qualquer segmento de [reta](https://pt.wikipedia.org/wiki/Reta) orientado, que seja membro da classe deste vetor (isto é, por qualquer segmento de reta orientado que possua o mesmo módulo, mesma direção e mesmo sentido de qualquer outro segmento da referida classe). Se o segmento ${{\\overline {AB}}}$ (segmento de reta orientado do ponto _A_ para o ponto _B_) for um representante do vetor ${\\mathbf {a}}$, então podemos dizer que o vetor ${\\mathbf{a}}$ é igual ao vetor ${{\\overrightarrow {AB}}}$.\n",
        "\n",
        "Podemos ainda representar um vetor como um número complexo na forma ${z=a+bi}$, onde ${a}$ representa a abcissa e ${b}$ representa a ordenada desse vetor.\n",
        "\n",
        "![image.png](data:image/png;base64,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)\n",
        "\n",
        "Representação gráfica de um vetor.\n",
        "\n",
        "- fonte: [Wikipédia](https://pt.wikipedia.org/wiki/Vetor_(matem%C3%A1tica))\n"
      ],
      "metadata": {
        "id": "Irpo4GgVpTTR"
      }
    },
    {
      "cell_type": "code",
      "metadata": {
        "id": "FziooZsepYy8",
        "outputId": "841bb963-d2a8-4b3b-d2c9-70419a387344",
        "colab": {
          "base_uri": "https://localhost:8080/",
          "height": 34
        }
      },
      "source": [
        "# instanciando o valor 3 para objeto \"vet\"\n",
        "vet = 3\n",
        "\n",
        "# com a função \"is.vector()\" realizamos uma pergunta lógica se o objeto em questão é um vetor\n",
        "is.vector(vet) # retorna TRUE | Verdadeiro"
      ],
      "execution_count": null,
      "outputs": [
        {
          "output_type": "display_data",
          "data": {
            "text/html": [
              "TRUE"
            ],
            "text/markdown": "TRUE",
            "text/latex": "TRUE",
            "text/plain": [
              "[1] TRUE"
            ]
          },
          "metadata": {}
        }
      ]
    },
    {
      "cell_type": "markdown",
      "source": [
        "Para adicionar diversos elementos em uma variável do tipo vetor, utilizamos o método `c()`."
      ],
      "metadata": {
        "id": "uylniMS6WBm6"
      }
    },
    {
      "cell_type": "code",
      "metadata": {
        "id": "QEk98ZzMpxok"
      },
      "source": [
        "# adicionado diversos elementos em uma variável do tipo vetor\n",
        "vet_2 = c(1, 2, 3, 'texto')"
      ],
      "execution_count": null,
      "outputs": []
    },
    {
      "cell_type": "code",
      "source": [
        "# note que, ainda é um vetor o objeto\n",
        "is.vector(vet_2) # retorna TRUE | Verdadeiro"
      ],
      "metadata": {
        "colab": {
          "base_uri": "https://localhost:8080/",
          "height": 34
        },
        "id": "QTNuJao8Mjmd",
        "outputId": "1c402e60-8203-43ad-81e7-1fa6fbfb7e9a"
      },
      "execution_count": null,
      "outputs": [
        {
          "output_type": "display_data",
          "data": {
            "text/html": [
              "TRUE"
            ],
            "text/markdown": "TRUE",
            "text/latex": "TRUE",
            "text/plain": [
              "[1] TRUE"
            ]
          },
          "metadata": {}
        }
      ]
    },
    {
      "cell_type": "code",
      "source": [
        "# consultando o tipo de dados do objeto\n",
        "class(vet_2) # retorna \"character\" pois todos elementos serão do mesmo tipo"
      ],
      "metadata": {
        "colab": {
          "base_uri": "https://localhost:8080/",
          "height": 34
        },
        "id": "-FnjjNPzMZXM",
        "outputId": "1d265686-270b-472f-bd5a-d63390f66fec"
      },
      "execution_count": null,
      "outputs": [
        {
          "output_type": "display_data",
          "data": {
            "text/html": [
              "'character'"
            ],
            "text/markdown": "'character'",
            "text/latex": "'character'",
            "text/plain": [
              "[1] \"character\""
            ]
          },
          "metadata": {}
        }
      ]
    },
    {
      "cell_type": "code",
      "source": [
        "# imprimindo o conteúdo do objeto\n",
        "print(vet_2)"
      ],
      "metadata": {
        "colab": {
          "base_uri": "https://localhost:8080/"
        },
        "id": "j6A7dBgWMz6b",
        "outputId": "e2cc4a00-e742-4404-dd4e-d47601ec4e42"
      },
      "execution_count": null,
      "outputs": [
        {
          "output_type": "stream",
          "name": "stdout",
          "text": [
            "[1] \"1\"     \"2\"     \"3\"     \"texto\"\n"
          ]
        }
      ]
    },
    {
      "cell_type": "code",
      "metadata": {
        "id": "uX1qZJUWpxw8",
        "outputId": "8245af3d-03c5-4c56-bcfd-66ae2ecf3afc",
        "colab": {
          "base_uri": "https://localhost:8080/",
          "height": 69
        }
      },
      "source": [
        "# declarando três vetores, cada qual com um tipo de dados\n",
        "x = c('texto1', 'texto2')   # caracter\n",
        "y = c(1, 2, 3)              # numérico\n",
        "z = c(T, F, T)              # lógico\n",
        "# para valores lógicos, ou seja, verdadeiro ou falso, podemos declarar de duas formas\n",
        "# TRUE ou FALSE, ou da forma simplicada, T ou F\n",
        "\n",
        "# verificando se os objetos são do tipo vetor\n",
        "is.vector(x); is.vector(y); is.vector(z)"
      ],
      "execution_count": null,
      "outputs": [
        {
          "output_type": "display_data",
          "data": {
            "text/html": [
              "TRUE"
            ],
            "text/markdown": "TRUE",
            "text/latex": "TRUE",
            "text/plain": [
              "[1] TRUE"
            ]
          },
          "metadata": {}
        },
        {
          "output_type": "display_data",
          "data": {
            "text/html": [
              "TRUE"
            ],
            "text/markdown": "TRUE",
            "text/latex": "TRUE",
            "text/plain": [
              "[1] TRUE"
            ]
          },
          "metadata": {}
        },
        {
          "output_type": "display_data",
          "data": {
            "text/html": [
              "TRUE"
            ],
            "text/markdown": "TRUE",
            "text/latex": "TRUE",
            "text/plain": [
              "[1] TRUE"
            ]
          },
          "metadata": {}
        }
      ]
    },
    {
      "cell_type": "code",
      "source": [
        "# visualizando o tipo de dado de cada vetor\n",
        "class(x); class(y); class(z)    # caracter | numérico | lógico"
      ],
      "metadata": {
        "colab": {
          "base_uri": "https://localhost:8080/",
          "height": 69
        },
        "id": "xQuZ8lsNOxty",
        "outputId": "cbdb18ce-7fe4-4cab-ac51-3afc422f4ab3"
      },
      "execution_count": null,
      "outputs": [
        {
          "output_type": "display_data",
          "data": {
            "text/html": [
              "'character'"
            ],
            "text/markdown": "'character'",
            "text/latex": "'character'",
            "text/plain": [
              "[1] \"character\""
            ]
          },
          "metadata": {}
        },
        {
          "output_type": "display_data",
          "data": {
            "text/html": [
              "'numeric'"
            ],
            "text/markdown": "'numeric'",
            "text/latex": "'numeric'",
            "text/plain": [
              "[1] \"numeric\""
            ]
          },
          "metadata": {}
        },
        {
          "output_type": "display_data",
          "data": {
            "text/html": [
              "'logical'"
            ],
            "text/markdown": "'logical'",
            "text/latex": "'logical'",
            "text/plain": [
              "[1] \"logical\""
            ]
          },
          "metadata": {}
        }
      ]
    },
    {
      "cell_type": "code",
      "source": [
        "# concantenando os três vetores e, instanciando o resultado em um novo objeto (vetor), chamado \"dados\"\n",
        "dados = c(x, y, z)\n",
        "\n",
        "# visualizando os elementos do objeto\n",
        "print(dados)"
      ],
      "metadata": {
        "colab": {
          "base_uri": "https://localhost:8080/"
        },
        "id": "FX6mBmYrOxkS",
        "outputId": "2977cccb-1a70-4781-bc3f-dead0fbd3d2d"
      },
      "execution_count": null,
      "outputs": [
        {
          "output_type": "stream",
          "name": "stdout",
          "text": [
            "[1] \"texto1\" \"texto2\" \"1\"      \"2\"      \"3\"      \"TRUE\"   \"FALSE\"  \"TRUE\"  \n"
          ]
        }
      ]
    },
    {
      "cell_type": "code",
      "source": [
        "# visualizando a classe do novo vetor\n",
        "class(dados)"
      ],
      "metadata": {
        "colab": {
          "base_uri": "https://localhost:8080/",
          "height": 34
        },
        "id": "_mkyb-Zns5qT",
        "outputId": "fd2e6db1-096a-4141-bfe0-b88b30751aaa"
      },
      "execution_count": null,
      "outputs": [
        {
          "output_type": "display_data",
          "data": {
            "text/html": [
              "'character'"
            ],
            "text/markdown": "'character'",
            "text/latex": "'character'",
            "text/plain": [
              "[1] \"character\""
            ]
          },
          "metadata": {}
        }
      ]
    },
    {
      "cell_type": "code",
      "source": [
        "# verificando se o novo objeto é um vetor\n",
        "is.vector(dados)"
      ],
      "metadata": {
        "colab": {
          "base_uri": "https://localhost:8080/",
          "height": 34
        },
        "id": "u3AtGbBEN3o1",
        "outputId": "43fd5b27-f22a-4cf9-f867-69a34b198b49"
      },
      "execution_count": null,
      "outputs": [
        {
          "output_type": "display_data",
          "data": {
            "text/html": [
              "TRUE"
            ],
            "text/markdown": "TRUE",
            "text/latex": "TRUE",
            "text/plain": [
              "[1] TRUE"
            ]
          },
          "metadata": {}
        }
      ]
    },
    {
      "cell_type": "markdown",
      "metadata": {
        "id": "2PAnRP1xqo9_"
      },
      "source": [
        "#### Lista (elementos de tipos diferentes)"
      ]
    },
    {
      "cell_type": "markdown",
      "source": [
        "**Lista**\n",
        "\n",
        "Uma lista pode conter números, caracteres ou uma mistura de dataframes, sub-listas, matrizes e vetores. Listas podem ser criadas com a função list().\n",
        "\n",
        "- fonte: https://lhmet.github.io/adar-ebook/listas.html"
      ],
      "metadata": {
        "id": "CrkoBhT3sSei"
      }
    },
    {
      "cell_type": "code",
      "source": [
        "# instanciando uma lista\n",
        "infos <- list('R Language', 2022, 'Data Science', c(1:10), TRUE)\n",
        "\n",
        "# visualizando o conteúdo do objeto (lista)\n",
        "infos"
      ],
      "metadata": {
        "colab": {
          "base_uri": "https://localhost:8080/",
          "height": 132
        },
        "id": "i7qI6bVxsjcC",
        "outputId": "ce1726b1-ff4e-40e6-eaaa-35f00e2496e7"
      },
      "execution_count": null,
      "outputs": [
        {
          "output_type": "display_data",
          "data": {
            "text/html": [
              "<ol>\n",
              "\t<li>'R Language'</li>\n",
              "\t<li>2022</li>\n",
              "\t<li>'Data Science'</li>\n",
              "\t<li><style>\n",
              ".list-inline {list-style: none; margin:0; padding: 0}\n",
              ".list-inline>li {display: inline-block}\n",
              ".list-inline>li:not(:last-child)::after {content: \"\\00b7\"; padding: 0 .5ex}\n",
              "</style>\n",
              "<ol class=list-inline><li>1</li><li>2</li><li>3</li><li>4</li><li>5</li><li>6</li><li>7</li><li>8</li><li>9</li><li>10</li></ol>\n",
              "</li>\n",
              "\t<li>TRUE</li>\n",
              "</ol>\n"
            ],
            "text/markdown": "1. 'R Language'\n2. 2022\n3. 'Data Science'\n4. 1. 1\n2. 2\n3. 3\n4. 4\n5. 5\n6. 6\n7. 7\n8. 8\n9. 9\n10. 10\n\n\n\n5. TRUE\n\n\n",
            "text/latex": "\\begin{enumerate}\n\\item 'R Language'\n\\item 2022\n\\item 'Data Science'\n\\item \\begin{enumerate*}\n\\item 1\n\\item 2\n\\item 3\n\\item 4\n\\item 5\n\\item 6\n\\item 7\n\\item 8\n\\item 9\n\\item 10\n\\end{enumerate*}\n\n\\item TRUE\n\\end{enumerate}\n",
            "text/plain": [
              "[[1]]\n",
              "[1] \"R Language\"\n",
              "\n",
              "[[2]]\n",
              "[1] 2022\n",
              "\n",
              "[[3]]\n",
              "[1] \"Data Science\"\n",
              "\n",
              "[[4]]\n",
              " [1]  1  2  3  4  5  6  7  8  9 10\n",
              "\n",
              "[[5]]\n",
              "[1] TRUE\n"
            ]
          },
          "metadata": {}
        }
      ]
    },
    {
      "cell_type": "code",
      "source": [
        "# realizando uma pergunta lógica sobre o objeto\n",
        "is.list(infos)  # é uma lista? | retorna TRUE"
      ],
      "metadata": {
        "colab": {
          "base_uri": "https://localhost:8080/",
          "height": 34
        },
        "id": "UQ1VoTpfsxXb",
        "outputId": "a49b439d-8995-4429-8353-e35cc15f8b69"
      },
      "execution_count": null,
      "outputs": [
        {
          "output_type": "display_data",
          "data": {
            "text/html": [
              "TRUE"
            ],
            "text/markdown": "TRUE",
            "text/latex": "TRUE",
            "text/plain": [
              "[1] TRUE"
            ]
          },
          "metadata": {}
        }
      ]
    },
    {
      "cell_type": "code",
      "source": [
        "# realizando uma pergunta lógica sobre o objeto\n",
        "is.vector(infos)    # é um vetor? | retorna TRUE"
      ],
      "metadata": {
        "colab": {
          "base_uri": "https://localhost:8080/",
          "height": 34
        },
        "id": "JyZIw0Y1tr91",
        "outputId": "68297504-5c0d-4e8d-b739-a26aef82bbb6"
      },
      "execution_count": null,
      "outputs": [
        {
          "output_type": "display_data",
          "data": {
            "text/html": [
              "TRUE"
            ],
            "text/markdown": "TRUE",
            "text/latex": "TRUE",
            "text/plain": [
              "[1] TRUE"
            ]
          },
          "metadata": {}
        }
      ]
    },
    {
      "cell_type": "code",
      "source": [
        "# realizando uma pergunta lógica sobre o objeto \"dados\"\n",
        "is.list(dados)  # é uma lista? | retorna FALSE"
      ],
      "metadata": {
        "colab": {
          "base_uri": "https://localhost:8080/",
          "height": 34
        },
        "id": "jOUMH9q2t1qO",
        "outputId": "2e8333f4-b2cb-4ccc-b9bc-1a6641564c7d"
      },
      "execution_count": null,
      "outputs": [
        {
          "output_type": "display_data",
          "data": {
            "text/html": [
              "FALSE"
            ],
            "text/markdown": "FALSE",
            "text/latex": "FALSE",
            "text/plain": [
              "[1] FALSE"
            ]
          },
          "metadata": {}
        }
      ]
    },
    {
      "cell_type": "markdown",
      "source": [
        "> Perceba que, uma lista também é um vetor, pórem um vetor não é uma lista."
      ],
      "metadata": {
        "id": "KwKU_aGIXT_q"
      }
    },
    {
      "cell_type": "markdown",
      "metadata": {
        "id": "TKkgqYhurqy3"
      },
      "source": [
        "#### Matriz (todos elementos serão do mesmo tipo)"
      ]
    },
    {
      "cell_type": "markdown",
      "source": [
        "**Matriz (matemática)**\n",
        "\n",
        "Na [álgebra linear](https://pt.wikipedia.org/wiki/%C3%81lgebra_linear), uma **matriz** é um quadro [rectangular](https://pt.wikipedia.org/wiki/Rect%C3%A2ngulo) composto por [números](https://pt.wikipedia.org/wiki/N%C3%BAmero). Uma matriz costuma ser representada por uma [letra maiúscula](https://pt.wikipedia.org/wiki/Letra_mai%C3%BAscula), tal como _A_, e tem um determinado número de linhas _(m)_ e de colunas _(n)_. Neste caso, representa-se por ${A_{m\\times n}}$.\n",
        "\n",
        "Os termos individuais da Matriz ${A}$ geralmente denotados por ${A_{ij}}$ onde ${max[i]=m}$ e ${max[j]=n}$ são as entradas da matriz. Quando as matrizes têm o mesmo tamanho, ou seja, têm o mesmo número de linhas e colunas que a outra, então essas duas matrizes podem ter seus elementos somados e subtraídos 1 a 1. Para multiplicar, no entanto, deve-se prestar atenção se o número de colunas da primeira matriz é igual ao número de linhas da segunda matriz. Dessa forma, percebe-se que as matrizes não comutam, logo (${A*B\\neq B*A}$). Toda matriz pode ser multiplicada por um escalar, novamente elemento por elemento. A mais importante aplicação de matrizes é para representar transformações lineares.\n",
        "\n",
        "- fonte: [Wikipédia](https://pt.wikipedia.org/wiki/Matriz_(matem%C3%A1tica))"
      ],
      "metadata": {
        "id": "30sdK8Ipnh_n"
      }
    },
    {
      "cell_type": "code",
      "metadata": {
        "id": "5ENrkrgspx4z",
        "outputId": "68308dbe-1d81-4fc9-dbab-71dadbf883f7",
        "colab": {
          "base_uri": "https://localhost:8080/"
        }
      },
      "source": [
        "# instanciando uma matriz com três linhas e cinco colunas\n",
        "mat = matrix(c(1:15), nrow=3, ncol=5, byrow=TRUE)\n",
        "\n",
        "# imprimindo a matriz\n",
        "print(mat)"
      ],
      "execution_count": null,
      "outputs": [
        {
          "output_type": "stream",
          "name": "stdout",
          "text": [
            "     [,1] [,2] [,3] [,4] [,5]\n",
            "[1,]    1    2    3    4    5\n",
            "[2,]    6    7    8    9   10\n",
            "[3,]   11   12   13   14   15\n"
          ]
        }
      ]
    },
    {
      "cell_type": "code",
      "source": [
        "# chamando diretamente o objeto e imprimindo-o\n",
        "mat"
      ],
      "metadata": {
        "colab": {
          "base_uri": "https://localhost:8080/",
          "height": 146
        },
        "id": "033eWnchR30d",
        "outputId": "4a13eb8a-180a-4564-eb6f-5dbc53192d3c"
      },
      "execution_count": null,
      "outputs": [
        {
          "output_type": "display_data",
          "data": {
            "text/html": [
              "<table class=\"dataframe\">\n",
              "<caption>A matrix: 3 × 5 of type int</caption>\n",
              "<tbody>\n",
              "\t<tr><td> 1</td><td> 2</td><td> 3</td><td> 4</td><td> 5</td></tr>\n",
              "\t<tr><td> 6</td><td> 7</td><td> 8</td><td> 9</td><td>10</td></tr>\n",
              "\t<tr><td>11</td><td>12</td><td>13</td><td>14</td><td>15</td></tr>\n",
              "</tbody>\n",
              "</table>\n"
            ],
            "text/markdown": "\nA matrix: 3 × 5 of type int\n\n|  1 |  2 |  3 |  4 |  5 |\n|  6 |  7 |  8 |  9 | 10 |\n| 11 | 12 | 13 | 14 | 15 |\n\n",
            "text/latex": "A matrix: 3 × 5 of type int\n\\begin{tabular}{lllll}\n\t  1 &  2 &  3 &  4 &  5\\\\\n\t  6 &  7 &  8 &  9 & 10\\\\\n\t 11 & 12 & 13 & 14 & 15\\\\\n\\end{tabular}\n",
            "text/plain": [
              "     [,1] [,2] [,3] [,4] [,5]\n",
              "[1,]  1    2    3    4    5  \n",
              "[2,]  6    7    8    9   10  \n",
              "[3,] 11   12   13   14   15  "
            ]
          },
          "metadata": {}
        }
      ]
    },
    {
      "cell_type": "code",
      "source": [
        "nrow(mat) # retorna número de linhas do dataframe\n",
        "ncol(mat) # retorna número de colunas do dataframe\n",
        "dim(mat)  # retorna número de linhas e colunas"
      ],
      "metadata": {
        "colab": {
          "base_uri": "https://localhost:8080/",
          "height": 69
        },
        "id": "_btM5JWmap-y",
        "outputId": "a4dee2d9-7b12-49d7-b8aa-d7c62ec8b36b"
      },
      "execution_count": null,
      "outputs": [
        {
          "output_type": "display_data",
          "data": {
            "text/html": [
              "3"
            ],
            "text/markdown": "3",
            "text/latex": "3",
            "text/plain": [
              "[1] 3"
            ]
          },
          "metadata": {}
        },
        {
          "output_type": "display_data",
          "data": {
            "text/html": [
              "5"
            ],
            "text/markdown": "5",
            "text/latex": "5",
            "text/plain": [
              "[1] 5"
            ]
          },
          "metadata": {}
        },
        {
          "output_type": "display_data",
          "data": {
            "text/html": [
              "<style>\n",
              ".list-inline {list-style: none; margin:0; padding: 0}\n",
              ".list-inline>li {display: inline-block}\n",
              ".list-inline>li:not(:last-child)::after {content: \"\\00b7\"; padding: 0 .5ex}\n",
              "</style>\n",
              "<ol class=list-inline><li>3</li><li>5</li></ol>\n"
            ],
            "text/markdown": "1. 3\n2. 5\n\n\n",
            "text/latex": "\\begin{enumerate*}\n\\item 3\n\\item 5\n\\end{enumerate*}\n",
            "text/plain": [
              "[1] 3 5"
            ]
          },
          "metadata": {}
        }
      ]
    },
    {
      "cell_type": "code",
      "source": [
        "# visualizando o sumário da matriz\n",
        "summary(mat)"
      ],
      "metadata": {
        "colab": {
          "base_uri": "https://localhost:8080/",
          "height": 139
        },
        "id": "97MPxnyQvqvO",
        "outputId": "796f0298-afae-4f45-c9c8-1c1641628656"
      },
      "execution_count": null,
      "outputs": [
        {
          "output_type": "display_data",
          "data": {
            "text/plain": [
              "       V1             V2             V3             V4             V5      \n",
              " Min.   : 1.0   Min.   : 2.0   Min.   : 3.0   Min.   : 4.0   Min.   : 5.0  \n",
              " 1st Qu.: 3.5   1st Qu.: 4.5   1st Qu.: 5.5   1st Qu.: 6.5   1st Qu.: 7.5  \n",
              " Median : 6.0   Median : 7.0   Median : 8.0   Median : 9.0   Median :10.0  \n",
              " Mean   : 6.0   Mean   : 7.0   Mean   : 8.0   Mean   : 9.0   Mean   :10.0  \n",
              " 3rd Qu.: 8.5   3rd Qu.: 9.5   3rd Qu.:10.5   3rd Qu.:11.5   3rd Qu.:12.5  \n",
              " Max.   :11.0   Max.   :12.0   Max.   :13.0   Max.   :14.0   Max.   :15.0  "
            ]
          },
          "metadata": {}
        }
      ]
    },
    {
      "cell_type": "markdown",
      "metadata": {
        "id": "Hy439TEuurn0"
      },
      "source": [
        "#### Data frame (estrutura para armazenar dados em forma de tabela)\n",
        "\n",
        "\n"
      ]
    },
    {
      "cell_type": "markdown",
      "source": [
        "Um **data frame** é semelhante a uma matriz mas as suas _colunas têm nomes_ e podem conter _dados de tipo diferente_. Um data frame pode ser visto _como uma tabela de uma base de dados_, em que cada linha corresponde a um registo (linha) da tabela.\n",
        "\n",
        "- fonte: [Data Frames](https://www.dcc.fc.up.pt/~ltorgo/SebentaR/HTML/node16.html#:~:text=Um%20data%20frame%20%C3%A9%20semelhante,registo%20(linha)%20da%20tabela.)"
      ],
      "metadata": {
        "id": "RNw-PjZduhH7"
      }
    },
    {
      "cell_type": "code",
      "metadata": {
        "id": "m59tOAt-px7X"
      },
      "source": [
        "# instanciando um data frame com informações de diversos tipos de dados\n",
        "df = data.frame(nome = c('Charles Babbage', 'Ada Lovelace', 'George Boole', 'Grace Hopper', 'Alan Turing', \n",
        "                         'Hedy Lamarr', 'Katherine Johnson', 'Annie Easley', 'Anita Borg'),\n",
        "                nacionalidade = c('inglês', 'inglesa', 'inglês', 'estadunidense', 'inglês', 'austríaca', \n",
        "                                  'estadunidense', 'estadunidense', 'estadunidense'),\n",
        "                ano_nasc = c(1791L, 1815L, 1815L, 1906L, 1912L, 1914L, 1918L, 1933L, 1949L),\n",
        "                ano_morte = c(1871L, 1852L, 1864L, 1992L, 1954L, 2000L, 2020L, 2011L, 2003L),\n",
        "                ocupacao = c('Cientista, filósofo e etc', \n",
        "                             'Matemática e escritora', \n",
        "                             'Filósofo, criador da álgebra booleana e etc',\n",
        "                             'Almirante e analista de sistemas',\n",
        "                             'Matemático, cientista da computação e etc', \n",
        "                             'Atriz e inventora',\n",
        "                             'Matemática, física e cientista espacial',\n",
        "                             'Cientista da computação, matemática e cientista de foguetes',\n",
        "                             'Cientista da computação'))"
      ],
      "execution_count": null,
      "outputs": []
    },
    {
      "cell_type": "code",
      "source": [
        "# visualizando a classe do objeto \"df\"\n",
        "class(df)"
      ],
      "metadata": {
        "colab": {
          "base_uri": "https://localhost:8080/",
          "height": 34
        },
        "id": "XLw4IJkNQ9zI",
        "outputId": "3ff2e52d-abfc-492d-c2dc-3e9fa40c5781"
      },
      "execution_count": null,
      "outputs": [
        {
          "output_type": "display_data",
          "data": {
            "text/html": [
              "'data.frame'"
            ],
            "text/markdown": "'data.frame'",
            "text/latex": "'data.frame'",
            "text/plain": [
              "[1] \"data.frame\""
            ]
          },
          "metadata": {}
        }
      ]
    },
    {
      "cell_type": "code",
      "source": [
        "# visualizando o contéudo do data frame\n",
        "df"
      ],
      "metadata": {
        "colab": {
          "base_uri": "https://localhost:8080/",
          "height": 380
        },
        "id": "oImfQKAdi8_W",
        "outputId": "d02ad350-e03b-47c1-9ca2-c57a669430b5"
      },
      "execution_count": null,
      "outputs": [
        {
          "output_type": "display_data",
          "data": {
            "text/html": [
              "<table class=\"dataframe\">\n",
              "<caption>A data.frame: 9 × 5</caption>\n",
              "<thead>\n",
              "\t<tr><th scope=col>nome</th><th scope=col>nacionalidade</th><th scope=col>ano_nasc</th><th scope=col>ano_morte</th><th scope=col>ocupacao</th></tr>\n",
              "\t<tr><th scope=col>&lt;chr&gt;</th><th scope=col>&lt;chr&gt;</th><th scope=col>&lt;int&gt;</th><th scope=col>&lt;int&gt;</th><th scope=col>&lt;chr&gt;</th></tr>\n",
              "</thead>\n",
              "<tbody>\n",
              "\t<tr><td>Charles Babbage  </td><td>inglês       </td><td>1791</td><td>1871</td><td>Cientista, filósofo e etc                                  </td></tr>\n",
              "\t<tr><td>Ada Lovelace     </td><td>inglesa      </td><td>1815</td><td>1852</td><td>Matemática e escritora                                     </td></tr>\n",
              "\t<tr><td>George Boole     </td><td>inglês       </td><td>1815</td><td>1864</td><td>Filósofo, criador da álgebra booleana e etc                </td></tr>\n",
              "\t<tr><td>Grace Hopper     </td><td>estadunidense</td><td>1906</td><td>1992</td><td>Almirante e analista de sistemas                           </td></tr>\n",
              "\t<tr><td>Alan Turing      </td><td>inglês       </td><td>1912</td><td>1954</td><td>Matemático, cientista da computação e etc                  </td></tr>\n",
              "\t<tr><td>Hedy Lamarr      </td><td>austríaca    </td><td>1914</td><td>2000</td><td>Atriz e inventora                                          </td></tr>\n",
              "\t<tr><td>Katherine Johnson</td><td>estadunidense</td><td>1918</td><td>2020</td><td>Matemática, física e cientista espacial                    </td></tr>\n",
              "\t<tr><td>Annie Easley     </td><td>estadunidense</td><td>1933</td><td>2011</td><td>Cientista da computação, matemática e cientista de foguetes</td></tr>\n",
              "\t<tr><td>Anita Borg       </td><td>estadunidense</td><td>1949</td><td>2003</td><td>Cientista da computação                                    </td></tr>\n",
              "</tbody>\n",
              "</table>\n"
            ],
            "text/markdown": "\nA data.frame: 9 × 5\n\n| nome &lt;chr&gt; | nacionalidade &lt;chr&gt; | ano_nasc &lt;int&gt; | ano_morte &lt;int&gt; | ocupacao &lt;chr&gt; |\n|---|---|---|---|---|\n| Charles Babbage   | inglês        | 1791 | 1871 | Cientista, filósofo e etc                                   |\n| Ada Lovelace      | inglesa       | 1815 | 1852 | Matemática e escritora                                      |\n| George Boole      | inglês        | 1815 | 1864 | Filósofo, criador da álgebra booleana e etc                 |\n| Grace Hopper      | estadunidense | 1906 | 1992 | Almirante e analista de sistemas                            |\n| Alan Turing       | inglês        | 1912 | 1954 | Matemático, cientista da computação e etc                   |\n| Hedy Lamarr       | austríaca     | 1914 | 2000 | Atriz e inventora                                           |\n| Katherine Johnson | estadunidense | 1918 | 2020 | Matemática, física e cientista espacial                     |\n| Annie Easley      | estadunidense | 1933 | 2011 | Cientista da computação, matemática e cientista de foguetes |\n| Anita Borg        | estadunidense | 1949 | 2003 | Cientista da computação                                     |\n\n",
            "text/latex": "A data.frame: 9 × 5\n\\begin{tabular}{lllll}\n nome & nacionalidade & ano\\_nasc & ano\\_morte & ocupacao\\\\\n <chr> & <chr> & <int> & <int> & <chr>\\\\\n\\hline\n\t Charles Babbage   & inglês        & 1791 & 1871 & Cientista, filósofo e etc                                  \\\\\n\t Ada Lovelace      & inglesa       & 1815 & 1852 & Matemática e escritora                                     \\\\\n\t George Boole      & inglês        & 1815 & 1864 & Filósofo, criador da álgebra booleana e etc                \\\\\n\t Grace Hopper      & estadunidense & 1906 & 1992 & Almirante e analista de sistemas                           \\\\\n\t Alan Turing       & inglês        & 1912 & 1954 & Matemático, cientista da computação e etc                  \\\\\n\t Hedy Lamarr       & austríaca     & 1914 & 2000 & Atriz e inventora                                          \\\\\n\t Katherine Johnson & estadunidense & 1918 & 2020 & Matemática, física e cientista espacial                    \\\\\n\t Annie Easley      & estadunidense & 1933 & 2011 & Cientista da computação, matemática e cientista de foguetes\\\\\n\t Anita Borg        & estadunidense & 1949 & 2003 & Cientista da computação                                    \\\\\n\\end{tabular}\n",
            "text/plain": [
              "  nome              nacionalidade ano_nasc ano_morte\n",
              "1 Charles Babbage   inglês        1791     1871     \n",
              "2 Ada Lovelace      inglesa       1815     1852     \n",
              "3 George Boole      inglês        1815     1864     \n",
              "4 Grace Hopper      estadunidense 1906     1992     \n",
              "5 Alan Turing       inglês        1912     1954     \n",
              "6 Hedy Lamarr       austríaca     1914     2000     \n",
              "7 Katherine Johnson estadunidense 1918     2020     \n",
              "8 Annie Easley      estadunidense 1933     2011     \n",
              "9 Anita Borg        estadunidense 1949     2003     \n",
              "  ocupacao                                                   \n",
              "1 Cientista, filósofo e etc                                  \n",
              "2 Matemática e escritora                                     \n",
              "3 Filósofo, criador da álgebra booleana e etc                \n",
              "4 Almirante e analista de sistemas                           \n",
              "5 Matemático, cientista da computação e etc                  \n",
              "6 Atriz e inventora                                          \n",
              "7 Matemática, física e cientista espacial                    \n",
              "8 Cientista da computação, matemática e cientista de foguetes\n",
              "9 Cientista da computação                                    "
            ]
          },
          "metadata": {}
        }
      ]
    },
    {
      "cell_type": "code",
      "source": [
        "# com a função \"head\" visualizamos as 6 primeiras observações\n",
        "head(df)"
      ],
      "metadata": {
        "colab": {
          "base_uri": "https://localhost:8080/",
          "height": 286
        },
        "id": "cfTRZiXv2rCv",
        "outputId": "a393b4c3-24be-47f8-9b27-d9f82d0e2a3e"
      },
      "execution_count": null,
      "outputs": [
        {
          "output_type": "display_data",
          "data": {
            "text/html": [
              "<table class=\"dataframe\">\n",
              "<caption>A data.frame: 6 × 5</caption>\n",
              "<thead>\n",
              "\t<tr><th></th><th scope=col>nome</th><th scope=col>nacionalidade</th><th scope=col>ano_nasc</th><th scope=col>ano_morte</th><th scope=col>ocupacao</th></tr>\n",
              "\t<tr><th></th><th scope=col>&lt;chr&gt;</th><th scope=col>&lt;chr&gt;</th><th scope=col>&lt;int&gt;</th><th scope=col>&lt;int&gt;</th><th scope=col>&lt;chr&gt;</th></tr>\n",
              "</thead>\n",
              "<tbody>\n",
              "\t<tr><th scope=row>1</th><td>Charles Babbage</td><td>inglês       </td><td>1791</td><td>1871</td><td>Cientista, filósofo e etc                  </td></tr>\n",
              "\t<tr><th scope=row>2</th><td>Ada Lovelace   </td><td>inglesa      </td><td>1815</td><td>1852</td><td>Matemática e escritora                     </td></tr>\n",
              "\t<tr><th scope=row>3</th><td>George Boole   </td><td>inglês       </td><td>1815</td><td>1864</td><td>Filósofo, criador da álgebra booleana e etc</td></tr>\n",
              "\t<tr><th scope=row>4</th><td>Grace Hopper   </td><td>estadunidense</td><td>1906</td><td>1992</td><td>Almirante e analista de sistemas           </td></tr>\n",
              "\t<tr><th scope=row>5</th><td>Alan Turing    </td><td>inglês       </td><td>1912</td><td>1954</td><td>Matemático, cientista da computação e etc  </td></tr>\n",
              "\t<tr><th scope=row>6</th><td>Hedy Lamarr    </td><td>austríaca    </td><td>1914</td><td>2000</td><td>Atriz e inventora                          </td></tr>\n",
              "</tbody>\n",
              "</table>\n"
            ],
            "text/markdown": "\nA data.frame: 6 × 5\n\n| <!--/--> | nome &lt;chr&gt; | nacionalidade &lt;chr&gt; | ano_nasc &lt;int&gt; | ano_morte &lt;int&gt; | ocupacao &lt;chr&gt; |\n|---|---|---|---|---|---|\n| 1 | Charles Babbage | inglês        | 1791 | 1871 | Cientista, filósofo e etc                   |\n| 2 | Ada Lovelace    | inglesa       | 1815 | 1852 | Matemática e escritora                      |\n| 3 | George Boole    | inglês        | 1815 | 1864 | Filósofo, criador da álgebra booleana e etc |\n| 4 | Grace Hopper    | estadunidense | 1906 | 1992 | Almirante e analista de sistemas            |\n| 5 | Alan Turing     | inglês        | 1912 | 1954 | Matemático, cientista da computação e etc   |\n| 6 | Hedy Lamarr     | austríaca     | 1914 | 2000 | Atriz e inventora                           |\n\n",
            "text/latex": "A data.frame: 6 × 5\n\\begin{tabular}{r|lllll}\n  & nome & nacionalidade & ano\\_nasc & ano\\_morte & ocupacao\\\\\n  & <chr> & <chr> & <int> & <int> & <chr>\\\\\n\\hline\n\t1 & Charles Babbage & inglês        & 1791 & 1871 & Cientista, filósofo e etc                  \\\\\n\t2 & Ada Lovelace    & inglesa       & 1815 & 1852 & Matemática e escritora                     \\\\\n\t3 & George Boole    & inglês        & 1815 & 1864 & Filósofo, criador da álgebra booleana e etc\\\\\n\t4 & Grace Hopper    & estadunidense & 1906 & 1992 & Almirante e analista de sistemas           \\\\\n\t5 & Alan Turing     & inglês        & 1912 & 1954 & Matemático, cientista da computação e etc  \\\\\n\t6 & Hedy Lamarr     & austríaca     & 1914 & 2000 & Atriz e inventora                          \\\\\n\\end{tabular}\n",
            "text/plain": [
              "  nome            nacionalidade ano_nasc ano_morte\n",
              "1 Charles Babbage inglês        1791     1871     \n",
              "2 Ada Lovelace    inglesa       1815     1852     \n",
              "3 George Boole    inglês        1815     1864     \n",
              "4 Grace Hopper    estadunidense 1906     1992     \n",
              "5 Alan Turing     inglês        1912     1954     \n",
              "6 Hedy Lamarr     austríaca     1914     2000     \n",
              "  ocupacao                                   \n",
              "1 Cientista, filósofo e etc                  \n",
              "2 Matemática e escritora                     \n",
              "3 Filósofo, criador da álgebra booleana e etc\n",
              "4 Almirante e analista de sistemas           \n",
              "5 Matemático, cientista da computação e etc  \n",
              "6 Atriz e inventora                          "
            ]
          },
          "metadata": {}
        }
      ]
    },
    {
      "cell_type": "code",
      "source": [
        "# com a função \"head\", e passando argumento numérico podemos definir a quantidade de observações a serem visualizadas\n",
        "head(df, 3)"
      ],
      "metadata": {
        "colab": {
          "base_uri": "https://localhost:8080/",
          "height": 192
        },
        "id": "PH97XAFSgxDY",
        "outputId": "eaf2bc5f-47b1-4d39-df4d-b44b909a7481"
      },
      "execution_count": null,
      "outputs": [
        {
          "output_type": "display_data",
          "data": {
            "text/html": [
              "<table class=\"dataframe\">\n",
              "<caption>A data.frame: 3 × 5</caption>\n",
              "<thead>\n",
              "\t<tr><th></th><th scope=col>nome</th><th scope=col>nacionalidade</th><th scope=col>ano_nasc</th><th scope=col>ano_morte</th><th scope=col>ocupacao</th></tr>\n",
              "\t<tr><th></th><th scope=col>&lt;chr&gt;</th><th scope=col>&lt;chr&gt;</th><th scope=col>&lt;int&gt;</th><th scope=col>&lt;int&gt;</th><th scope=col>&lt;chr&gt;</th></tr>\n",
              "</thead>\n",
              "<tbody>\n",
              "\t<tr><th scope=row>1</th><td>Charles Babbage</td><td>inglês </td><td>1791</td><td>1871</td><td>Cientista, filósofo e etc                  </td></tr>\n",
              "\t<tr><th scope=row>2</th><td>Ada Lovelace   </td><td>inglesa</td><td>1815</td><td>1852</td><td>Matemática e escritora                     </td></tr>\n",
              "\t<tr><th scope=row>3</th><td>George Boole   </td><td>inglês </td><td>1815</td><td>1864</td><td>Filósofo, criador da álgebra booleana e etc</td></tr>\n",
              "</tbody>\n",
              "</table>\n"
            ],
            "text/markdown": "\nA data.frame: 3 × 5\n\n| <!--/--> | nome &lt;chr&gt; | nacionalidade &lt;chr&gt; | ano_nasc &lt;int&gt; | ano_morte &lt;int&gt; | ocupacao &lt;chr&gt; |\n|---|---|---|---|---|---|\n| 1 | Charles Babbage | inglês  | 1791 | 1871 | Cientista, filósofo e etc                   |\n| 2 | Ada Lovelace    | inglesa | 1815 | 1852 | Matemática e escritora                      |\n| 3 | George Boole    | inglês  | 1815 | 1864 | Filósofo, criador da álgebra booleana e etc |\n\n",
            "text/latex": "A data.frame: 3 × 5\n\\begin{tabular}{r|lllll}\n  & nome & nacionalidade & ano\\_nasc & ano\\_morte & ocupacao\\\\\n  & <chr> & <chr> & <int> & <int> & <chr>\\\\\n\\hline\n\t1 & Charles Babbage & inglês  & 1791 & 1871 & Cientista, filósofo e etc                  \\\\\n\t2 & Ada Lovelace    & inglesa & 1815 & 1852 & Matemática e escritora                     \\\\\n\t3 & George Boole    & inglês  & 1815 & 1864 & Filósofo, criador da álgebra booleana e etc\\\\\n\\end{tabular}\n",
            "text/plain": [
              "  nome            nacionalidade ano_nasc ano_morte\n",
              "1 Charles Babbage inglês        1791     1871     \n",
              "2 Ada Lovelace    inglesa       1815     1852     \n",
              "3 George Boole    inglês        1815     1864     \n",
              "  ocupacao                                   \n",
              "1 Cientista, filósofo e etc                  \n",
              "2 Matemática e escritora                     \n",
              "3 Filósofo, criador da álgebra booleana e etc"
            ]
          },
          "metadata": {}
        }
      ]
    },
    {
      "cell_type": "code",
      "source": [
        "# com a função \"tail\" visualizamos as 6 últimas observações\n",
        "tail(df)"
      ],
      "metadata": {
        "colab": {
          "base_uri": "https://localhost:8080/",
          "height": 286
        },
        "id": "AlCMKusGgo3_",
        "outputId": "f6a45e13-43ed-4b77-cce9-6ffa4311800f"
      },
      "execution_count": null,
      "outputs": [
        {
          "output_type": "display_data",
          "data": {
            "text/html": [
              "<table class=\"dataframe\">\n",
              "<caption>A data.frame: 6 × 5</caption>\n",
              "<thead>\n",
              "\t<tr><th></th><th scope=col>nome</th><th scope=col>nacionalidade</th><th scope=col>ano_nasc</th><th scope=col>ano_morte</th><th scope=col>ocupacao</th></tr>\n",
              "\t<tr><th></th><th scope=col>&lt;chr&gt;</th><th scope=col>&lt;chr&gt;</th><th scope=col>&lt;int&gt;</th><th scope=col>&lt;int&gt;</th><th scope=col>&lt;chr&gt;</th></tr>\n",
              "</thead>\n",
              "<tbody>\n",
              "\t<tr><th scope=row>4</th><td>Grace Hopper     </td><td>estadunidense</td><td>1906</td><td>1992</td><td>Almirante e analista de sistemas                           </td></tr>\n",
              "\t<tr><th scope=row>5</th><td>Alan Turing      </td><td>inglês       </td><td>1912</td><td>1954</td><td>Matemático, cientista da computação e etc                  </td></tr>\n",
              "\t<tr><th scope=row>6</th><td>Hedy Lamarr      </td><td>austríaca    </td><td>1914</td><td>2000</td><td>Atriz e inventora                                          </td></tr>\n",
              "\t<tr><th scope=row>7</th><td>Katherine Johnson</td><td>estadunidense</td><td>1918</td><td>2020</td><td>Matemática, física e cientista espacial                    </td></tr>\n",
              "\t<tr><th scope=row>8</th><td>Annie Easley     </td><td>estadunidense</td><td>1933</td><td>2011</td><td>Cientista da computação, matemática e cientista de foguetes</td></tr>\n",
              "\t<tr><th scope=row>9</th><td>Anita Borg       </td><td>estadunidense</td><td>1949</td><td>2003</td><td>Cientista da computação                                    </td></tr>\n",
              "</tbody>\n",
              "</table>\n"
            ],
            "text/markdown": "\nA data.frame: 6 × 5\n\n| <!--/--> | nome &lt;chr&gt; | nacionalidade &lt;chr&gt; | ano_nasc &lt;int&gt; | ano_morte &lt;int&gt; | ocupacao &lt;chr&gt; |\n|---|---|---|---|---|---|\n| 4 | Grace Hopper      | estadunidense | 1906 | 1992 | Almirante e analista de sistemas                            |\n| 5 | Alan Turing       | inglês        | 1912 | 1954 | Matemático, cientista da computação e etc                   |\n| 6 | Hedy Lamarr       | austríaca     | 1914 | 2000 | Atriz e inventora                                           |\n| 7 | Katherine Johnson | estadunidense | 1918 | 2020 | Matemática, física e cientista espacial                     |\n| 8 | Annie Easley      | estadunidense | 1933 | 2011 | Cientista da computação, matemática e cientista de foguetes |\n| 9 | Anita Borg        | estadunidense | 1949 | 2003 | Cientista da computação                                     |\n\n",
            "text/latex": "A data.frame: 6 × 5\n\\begin{tabular}{r|lllll}\n  & nome & nacionalidade & ano\\_nasc & ano\\_morte & ocupacao\\\\\n  & <chr> & <chr> & <int> & <int> & <chr>\\\\\n\\hline\n\t4 & Grace Hopper      & estadunidense & 1906 & 1992 & Almirante e analista de sistemas                           \\\\\n\t5 & Alan Turing       & inglês        & 1912 & 1954 & Matemático, cientista da computação e etc                  \\\\\n\t6 & Hedy Lamarr       & austríaca     & 1914 & 2000 & Atriz e inventora                                          \\\\\n\t7 & Katherine Johnson & estadunidense & 1918 & 2020 & Matemática, física e cientista espacial                    \\\\\n\t8 & Annie Easley      & estadunidense & 1933 & 2011 & Cientista da computação, matemática e cientista de foguetes\\\\\n\t9 & Anita Borg        & estadunidense & 1949 & 2003 & Cientista da computação                                    \\\\\n\\end{tabular}\n",
            "text/plain": [
              "  nome              nacionalidade ano_nasc ano_morte\n",
              "4 Grace Hopper      estadunidense 1906     1992     \n",
              "5 Alan Turing       inglês        1912     1954     \n",
              "6 Hedy Lamarr       austríaca     1914     2000     \n",
              "7 Katherine Johnson estadunidense 1918     2020     \n",
              "8 Annie Easley      estadunidense 1933     2011     \n",
              "9 Anita Borg        estadunidense 1949     2003     \n",
              "  ocupacao                                                   \n",
              "4 Almirante e analista de sistemas                           \n",
              "5 Matemático, cientista da computação e etc                  \n",
              "6 Atriz e inventora                                          \n",
              "7 Matemática, física e cientista espacial                    \n",
              "8 Cientista da computação, matemática e cientista de foguetes\n",
              "9 Cientista da computação                                    "
            ]
          },
          "metadata": {}
        }
      ]
    },
    {
      "cell_type": "code",
      "source": [
        "# com a função \"tail\", e passando argumento numérico podemos definir a quantidade de observações a serem visualizadas\n",
        "tail(df, 3)"
      ],
      "metadata": {
        "colab": {
          "base_uri": "https://localhost:8080/",
          "height": 192
        },
        "id": "SgGV4TxzhCpd",
        "outputId": "c58ba0fe-2fd9-4c34-f8aa-2ebfd4d1b8bd"
      },
      "execution_count": null,
      "outputs": [
        {
          "output_type": "display_data",
          "data": {
            "text/html": [
              "<table class=\"dataframe\">\n",
              "<caption>A data.frame: 3 × 5</caption>\n",
              "<thead>\n",
              "\t<tr><th></th><th scope=col>nome</th><th scope=col>nacionalidade</th><th scope=col>ano_nasc</th><th scope=col>ano_morte</th><th scope=col>ocupacao</th></tr>\n",
              "\t<tr><th></th><th scope=col>&lt;chr&gt;</th><th scope=col>&lt;chr&gt;</th><th scope=col>&lt;int&gt;</th><th scope=col>&lt;int&gt;</th><th scope=col>&lt;chr&gt;</th></tr>\n",
              "</thead>\n",
              "<tbody>\n",
              "\t<tr><th scope=row>7</th><td>Katherine Johnson</td><td>estadunidense</td><td>1918</td><td>2020</td><td>Matemática, física e cientista espacial                    </td></tr>\n",
              "\t<tr><th scope=row>8</th><td>Annie Easley     </td><td>estadunidense</td><td>1933</td><td>2011</td><td>Cientista da computação, matemática e cientista de foguetes</td></tr>\n",
              "\t<tr><th scope=row>9</th><td>Anita Borg       </td><td>estadunidense</td><td>1949</td><td>2003</td><td>Cientista da computação                                    </td></tr>\n",
              "</tbody>\n",
              "</table>\n"
            ],
            "text/markdown": "\nA data.frame: 3 × 5\n\n| <!--/--> | nome &lt;chr&gt; | nacionalidade &lt;chr&gt; | ano_nasc &lt;int&gt; | ano_morte &lt;int&gt; | ocupacao &lt;chr&gt; |\n|---|---|---|---|---|---|\n| 7 | Katherine Johnson | estadunidense | 1918 | 2020 | Matemática, física e cientista espacial                     |\n| 8 | Annie Easley      | estadunidense | 1933 | 2011 | Cientista da computação, matemática e cientista de foguetes |\n| 9 | Anita Borg        | estadunidense | 1949 | 2003 | Cientista da computação                                     |\n\n",
            "text/latex": "A data.frame: 3 × 5\n\\begin{tabular}{r|lllll}\n  & nome & nacionalidade & ano\\_nasc & ano\\_morte & ocupacao\\\\\n  & <chr> & <chr> & <int> & <int> & <chr>\\\\\n\\hline\n\t7 & Katherine Johnson & estadunidense & 1918 & 2020 & Matemática, física e cientista espacial                    \\\\\n\t8 & Annie Easley      & estadunidense & 1933 & 2011 & Cientista da computação, matemática e cientista de foguetes\\\\\n\t9 & Anita Borg        & estadunidense & 1949 & 2003 & Cientista da computação                                    \\\\\n\\end{tabular}\n",
            "text/plain": [
              "  nome              nacionalidade ano_nasc ano_morte\n",
              "7 Katherine Johnson estadunidense 1918     2020     \n",
              "8 Annie Easley      estadunidense 1933     2011     \n",
              "9 Anita Borg        estadunidense 1949     2003     \n",
              "  ocupacao                                                   \n",
              "7 Matemática, física e cientista espacial                    \n",
              "8 Cientista da computação, matemática e cientista de foguetes\n",
              "9 Cientista da computação                                    "
            ]
          },
          "metadata": {}
        }
      ]
    },
    {
      "cell_type": "code",
      "source": [
        "# com a função \"View()\" podemos visualizar todo conteúdo do data frame\n",
        "View(df)"
      ],
      "metadata": {
        "colab": {
          "base_uri": "https://localhost:8080/",
          "height": 380
        },
        "id": "l85NpLougW-9",
        "outputId": "8ddd3127-fc7f-4dfc-e6eb-d721a13d5f9a"
      },
      "execution_count": null,
      "outputs": [
        {
          "output_type": "display_data",
          "data": {
            "text/plain": [
              "  nome              nacionalidade ano_nasc ano_morte\n",
              "1 Charles Babbage   inglês        1791     1871     \n",
              "2 Ada Lovelace      inglesa       1815     1852     \n",
              "3 George Boole      inglês        1815     1864     \n",
              "4 Grace Hopper      estadunidense 1906     1992     \n",
              "5 Alan Turing       inglês        1912     1954     \n",
              "6 Hedy Lamarr       austríaca     1914     2000     \n",
              "7 Katherine Johnson estadunidense 1918     2020     \n",
              "8 Annie Easley      estadunidense 1933     2011     \n",
              "9 Anita Borg        estadunidense 1949     2003     \n",
              "  ocupacao                                                   \n",
              "1 Cientista, filósofo e etc                                  \n",
              "2 Matemática e escritora                                     \n",
              "3 Filósofo, criador da álgebra booleana e etc                \n",
              "4 Almirante e analista de sistemas                           \n",
              "5 Matemático, cientista da computação e etc                  \n",
              "6 Atriz e inventora                                          \n",
              "7 Matemática, física e cientista espacial                    \n",
              "8 Cientista da computação, matemática e cientista de foguetes\n",
              "9 Cientista da computação                                    "
            ],
            "text/html": [
              "<table class=\"dataframe\">\n",
              "<caption>A data.frame: 9 × 5</caption>\n",
              "<thead>\n",
              "\t<tr><th scope=col>nome</th><th scope=col>nacionalidade</th><th scope=col>ano_nasc</th><th scope=col>ano_morte</th><th scope=col>ocupacao</th></tr>\n",
              "\t<tr><th scope=col>&lt;chr&gt;</th><th scope=col>&lt;chr&gt;</th><th scope=col>&lt;int&gt;</th><th scope=col>&lt;int&gt;</th><th scope=col>&lt;chr&gt;</th></tr>\n",
              "</thead>\n",
              "<tbody>\n",
              "\t<tr><td>Charles Babbage  </td><td>inglês       </td><td>1791</td><td>1871</td><td>Cientista, filósofo e etc                                  </td></tr>\n",
              "\t<tr><td>Ada Lovelace     </td><td>inglesa      </td><td>1815</td><td>1852</td><td>Matemática e escritora                                     </td></tr>\n",
              "\t<tr><td>George Boole     </td><td>inglês       </td><td>1815</td><td>1864</td><td>Filósofo, criador da álgebra booleana e etc                </td></tr>\n",
              "\t<tr><td>Grace Hopper     </td><td>estadunidense</td><td>1906</td><td>1992</td><td>Almirante e analista de sistemas                           </td></tr>\n",
              "\t<tr><td>Alan Turing      </td><td>inglês       </td><td>1912</td><td>1954</td><td>Matemático, cientista da computação e etc                  </td></tr>\n",
              "\t<tr><td>Hedy Lamarr      </td><td>austríaca    </td><td>1914</td><td>2000</td><td>Atriz e inventora                                          </td></tr>\n",
              "\t<tr><td>Katherine Johnson</td><td>estadunidense</td><td>1918</td><td>2020</td><td>Matemática, física e cientista espacial                    </td></tr>\n",
              "\t<tr><td>Annie Easley     </td><td>estadunidense</td><td>1933</td><td>2011</td><td>Cientista da computação, matemática e cientista de foguetes</td></tr>\n",
              "\t<tr><td>Anita Borg       </td><td>estadunidense</td><td>1949</td><td>2003</td><td>Cientista da computação                                    </td></tr>\n",
              "</tbody>\n",
              "</table>\n"
            ],
            "text/markdown": "\nA data.frame: 9 × 5\n\n| nome &lt;chr&gt; | nacionalidade &lt;chr&gt; | ano_nasc &lt;int&gt; | ano_morte &lt;int&gt; | ocupacao &lt;chr&gt; |\n|---|---|---|---|---|\n| Charles Babbage   | inglês        | 1791 | 1871 | Cientista, filósofo e etc                                   |\n| Ada Lovelace      | inglesa       | 1815 | 1852 | Matemática e escritora                                      |\n| George Boole      | inglês        | 1815 | 1864 | Filósofo, criador da álgebra booleana e etc                 |\n| Grace Hopper      | estadunidense | 1906 | 1992 | Almirante e analista de sistemas                            |\n| Alan Turing       | inglês        | 1912 | 1954 | Matemático, cientista da computação e etc                   |\n| Hedy Lamarr       | austríaca     | 1914 | 2000 | Atriz e inventora                                           |\n| Katherine Johnson | estadunidense | 1918 | 2020 | Matemática, física e cientista espacial                     |\n| Annie Easley      | estadunidense | 1933 | 2011 | Cientista da computação, matemática e cientista de foguetes |\n| Anita Borg        | estadunidense | 1949 | 2003 | Cientista da computação                                     |\n\n",
            "text/latex": "A data.frame: 9 × 5\n\\begin{tabular}{lllll}\n nome & nacionalidade & ano\\_nasc & ano\\_morte & ocupacao\\\\\n <chr> & <chr> & <int> & <int> & <chr>\\\\\n\\hline\n\t Charles Babbage   & inglês        & 1791 & 1871 & Cientista, filósofo e etc                                  \\\\\n\t Ada Lovelace      & inglesa       & 1815 & 1852 & Matemática e escritora                                     \\\\\n\t George Boole      & inglês        & 1815 & 1864 & Filósofo, criador da álgebra booleana e etc                \\\\\n\t Grace Hopper      & estadunidense & 1906 & 1992 & Almirante e analista de sistemas                           \\\\\n\t Alan Turing       & inglês        & 1912 & 1954 & Matemático, cientista da computação e etc                  \\\\\n\t Hedy Lamarr       & austríaca     & 1914 & 2000 & Atriz e inventora                                          \\\\\n\t Katherine Johnson & estadunidense & 1918 & 2020 & Matemática, física e cientista espacial                    \\\\\n\t Annie Easley      & estadunidense & 1933 & 2011 & Cientista da computação, matemática e cientista de foguetes\\\\\n\t Anita Borg        & estadunidense & 1949 & 2003 & Cientista da computação                                    \\\\\n\\end{tabular}\n"
          },
          "metadata": {}
        }
      ]
    },
    {
      "cell_type": "code",
      "source": [
        "nrow(df) # retorna número de linhas do dataframe\n",
        "ncol(df) # retorna número de colunas do dataframe\n",
        "dim(df)  # retorna número de linhas e colunas"
      ],
      "metadata": {
        "colab": {
          "base_uri": "https://localhost:8080/",
          "height": 69
        },
        "id": "hoZnzEnjPa2z",
        "outputId": "6e796d2d-a0d0-4f30-ad24-0b103099c1a1"
      },
      "execution_count": null,
      "outputs": [
        {
          "output_type": "display_data",
          "data": {
            "text/html": [
              "9"
            ],
            "text/markdown": "9",
            "text/latex": "9",
            "text/plain": [
              "[1] 9"
            ]
          },
          "metadata": {}
        },
        {
          "output_type": "display_data",
          "data": {
            "text/html": [
              "5"
            ],
            "text/markdown": "5",
            "text/latex": "5",
            "text/plain": [
              "[1] 5"
            ]
          },
          "metadata": {}
        },
        {
          "output_type": "display_data",
          "data": {
            "text/html": [
              "<style>\n",
              ".list-inline {list-style: none; margin:0; padding: 0}\n",
              ".list-inline>li {display: inline-block}\n",
              ".list-inline>li:not(:last-child)::after {content: \"\\00b7\"; padding: 0 .5ex}\n",
              "</style>\n",
              "<ol class=list-inline><li>9</li><li>5</li></ol>\n"
            ],
            "text/markdown": "1. 9\n2. 5\n\n\n",
            "text/latex": "\\begin{enumerate*}\n\\item 9\n\\item 5\n\\end{enumerate*}\n",
            "text/plain": [
              "[1] 9 5"
            ]
          },
          "metadata": {}
        }
      ]
    },
    {
      "cell_type": "markdown",
      "source": [
        "### **Condicionais**"
      ],
      "metadata": {
        "id": "ioY6izjswmUp"
      }
    },
    {
      "cell_type": "markdown",
      "metadata": {
        "id": "2Zrsa_7oy-dq"
      },
      "source": [
        "#### if( )\n",
        "\n",
        "```r\n",
        "# estrutura do \"if\"\n",
        "if (condição) {\n",
        "    comando executado\n",
        "}\n",
        "```\n"
      ]
    },
    {
      "cell_type": "code",
      "metadata": {
        "id": "Ia8-f6kbxkSZ",
        "outputId": "61867d24-a965-4a7b-a065-999d58ea0059",
        "colab": {
          "base_uri": "https://localhost:8080/"
        }
      },
      "source": [
        "# atribuindo duas variáveis e, cada qual com um valor nnumérico\n",
        "a <- 1\n",
        "b <- 100\n",
        "\n",
        "# realizando a estrutura do \"if\" para verificar se \"(a < b)\" - a menor que b\n",
        "if (a < b) {\n",
        "    print('A é menor que B')\n",
        "}"
      ],
      "execution_count": null,
      "outputs": [
        {
          "output_type": "stream",
          "name": "stdout",
          "text": [
            "[1] \"A é menor que B\"\n"
          ]
        }
      ]
    },
    {
      "cell_type": "code",
      "source": [
        "# atribuindo duas variáveis e, cada qual com um valor nnumérico\n",
        "a <- 100\n",
        "b <- 1\n",
        "\n",
        "# realizando a estrutura do \"if\" para verificar se \"(a < b)\" - a menor que b\n",
        "if (a < b) {\n",
        "    print('A é menor que B')\n",
        "}"
      ],
      "metadata": {
        "id": "GQt0mXMZyfdi"
      },
      "execution_count": null,
      "outputs": []
    },
    {
      "cell_type": "markdown",
      "metadata": {
        "id": "DkRNRZmf0HT9"
      },
      "source": [
        "#### if ( ) e do else( )\n",
        "\n",
        "\n",
        "```r\n",
        "# estrutura do \"if\" e do \"else\"\n",
        "if (condição){\n",
        "    comando executado\n",
        "} else {\n",
        "    comando executado\n",
        "}\n",
        "```"
      ]
    },
    {
      "cell_type": "code",
      "source": [
        "# atribuindo duas variáveis e, cada qual com um valor nnumérico\n",
        "a <- 100\n",
        "b <- 1\n",
        "\n",
        "# realizando a estrutura do \"if\" para verificar se \"(a < b)\" - a menor que b\n",
        "if (a < b) {\n",
        "    print('A é menor que B')\n",
        "} else {\n",
        "    print('B é menor que A')\n",
        "}"
      ],
      "metadata": {
        "colab": {
          "base_uri": "https://localhost:8080/"
        },
        "id": "B-6amoBNyaSK",
        "outputId": "c0facc6b-21d3-4408-ea14-427190c091c8"
      },
      "execution_count": null,
      "outputs": [
        {
          "output_type": "stream",
          "name": "stdout",
          "text": [
            "[1] \"B é menor que A\"\n"
          ]
        }
      ]
    },
    {
      "cell_type": "markdown",
      "source": [
        "Podemos realizar a entrada via teclado de dois ou mais números e, através do `if` e `else` realizar a verificação de qual número é menor ou maior."
      ],
      "metadata": {
        "id": "N8hdtP31D4bm"
      }
    },
    {
      "cell_type": "code",
      "metadata": {
        "id": "XA-LAecRxkQc",
        "outputId": "6125210f-ead5-405c-f258-a71c56d94c6d",
        "colab": {
          "base_uri": "https://localhost:8080/"
        }
      },
      "source": [
        "# entrada via digitação de dois números e comparando se o primeiro número e maior ou menor que o segundo número digitado\n",
        "a <- as.integer(readline('Digite um número para A: '))\n",
        "b <- as.integer(readline('Digite outro número para B: '))\n",
        "\n",
        "if (a < b) {\n",
        "    print('A é menor que B')\n",
        "} else {\n",
        "    print('A é maior que B')\n",
        "}"
      ],
      "execution_count": null,
      "outputs": [
        {
          "output_type": "stream",
          "name": "stdout",
          "text": [
            "Digite um número para A: 15\n",
            "Digite outro número para B: -8\n",
            "[1] \"A é maior que B\"\n"
          ]
        }
      ]
    },
    {
      "cell_type": "markdown",
      "source": [
        "#### if ( ), else if( ) e else( )\n",
        "\n",
        "\n",
        "```r\n",
        "# estrutura do \"if\", \"else if\" e do \"else\"\n",
        "if (condição){\n",
        "    comando executado\n",
        "} else if {\n",
        "    comando executado\n",
        "} else {\n",
        "    comando executado\n",
        "}\n",
        "```"
      ],
      "metadata": {
        "id": "vOvId8OcFqvS"
      }
    },
    {
      "cell_type": "code",
      "source": [
        "# entrada via digitação de três números e comparando qual número é menor entre eles\n",
        "a = as.integer(readline('Digite um número para A: '))\n",
        "b = as.integer(readline('Digite outro número para B: '))\n",
        "c = as.integer(readline('Digite outro número para C: '))\n",
        "\n",
        "if (a < b & a < c) {\n",
        "    print('A é menor que B e C')\n",
        "} else if (b < a & b < c) {\n",
        "    print('B é menor que A e C')\n",
        "} else {\n",
        "    print('C é menor que A e B')\n",
        "}"
      ],
      "metadata": {
        "colab": {
          "base_uri": "https://localhost:8080/"
        },
        "id": "-uC6Bmtvy6qD",
        "outputId": "a936c4f8-8464-47e4-ef94-6e79a87b6866"
      },
      "execution_count": null,
      "outputs": [
        {
          "output_type": "stream",
          "name": "stdout",
          "text": [
            "Digite um número para A: 7\n",
            "Digite outro número para B: 8\n",
            "Digite outro número para C: 9\n",
            "[1] \"A é menor que B e C\"\n"
          ]
        }
      ]
    },
    {
      "cell_type": "markdown",
      "metadata": {
        "id": "S9IDm6Yr5dZM"
      },
      "source": [
        "#### ifelse( )\n",
        "\n",
        "```r\n",
        "# estrutura do ifelse\n",
        "ifelse (condição, 'retorno TRUE', 'retorno FALSE')\n",
        "```"
      ]
    },
    {
      "cell_type": "code",
      "metadata": {
        "id": "UA9ywBrZ6GtU",
        "outputId": "5ba55f66-d2b2-42e9-9c79-896b1390c47f",
        "colab": {
          "base_uri": "https://localhost:8080/",
          "height": 69
        }
      },
      "source": [
        "a = as.integer(readline(\"Digite um número para A: \"))\n",
        "b = as.integer(readline(\"Digite outro número para B: \"))\n",
        "\n",
        "ifelse (a > b, \"A é maior que B\", \"A é menor que B\")"
      ],
      "execution_count": null,
      "outputs": [
        {
          "name": "stdout",
          "output_type": "stream",
          "text": [
            "Digite um número para A: 5\n",
            "Digite outro número para B: 1\n"
          ]
        },
        {
          "output_type": "display_data",
          "data": {
            "text/html": [
              "'A é maior que B'"
            ],
            "text/markdown": "'A é maior que B'",
            "text/latex": "'A é maior que B'",
            "text/plain": [
              "[1] \"A é maior que B\""
            ]
          },
          "metadata": {}
        }
      ]
    },
    {
      "cell_type": "markdown",
      "metadata": {
        "id": "-iJgKytn631v"
      },
      "source": [
        "#Desafios condicionais em R"
      ]
    },
    {
      "cell_type": "markdown",
      "metadata": {
        "id": "wpR31exI7E2E"
      },
      "source": [
        "#### crie um chatbot simples que pergunte sua idade e, imprima as seguintes informações:\n",
        "- 1) caso sua idade entre 18 e ou menos, retorne: VOCÊ É UMA CRIANÇA!;\n",
        "- 2) caso sua idade entre 19 e 50, retorne: VOCÊ É UM ADULTO! e,\n",
        "- 3) caso sua idade mais que 51, retorne: VOCÊ É UM ADULTO EXPERIENTE!.\n"
      ]
    },
    {
      "cell_type": "code",
      "source": [
        "sua_idade = as.integer(readline('Digite sua idade: '))\n",
        "\n",
        "if (sua_idade < 18) {\n",
        "    print('Você ainda é uma criança!')\n",
        "} else {\n",
        "     print('Você já é um adulto!')\n",
        "}"
      ],
      "metadata": {
        "colab": {
          "base_uri": "https://localhost:8080/"
        },
        "id": "gmo25eJTmuCK",
        "outputId": "61cd4cac-587f-497c-ccbc-7c50040fa977"
      },
      "execution_count": null,
      "outputs": [
        {
          "output_type": "stream",
          "name": "stdout",
          "text": [
            "Digite sua idade: 17\n",
            "[1] \"Você ainda é uma criança!\"\n"
          ]
        }
      ]
    },
    {
      "cell_type": "code",
      "source": [
        "sua_idade = as.integer(readline('Digite sua idade: '))\n",
        "\n",
        "if (sua_idade < 18) {\n",
        "    print('Você ainda é uma criança!')\n",
        "} else if (sua_idade >= 18 & sua_idade <= 50) {\n",
        "    print('Você já é um adulto!')\n",
        "} else {\n",
        "    print('Você já é um adulto experiente!')\n",
        "}"
      ],
      "metadata": {
        "colab": {
          "base_uri": "https://localhost:8080/"
        },
        "id": "WM8YXeYXomGD",
        "outputId": "fc9a5b87-4127-4990-f9d3-145f9716e981"
      },
      "execution_count": null,
      "outputs": [
        {
          "output_type": "stream",
          "name": "stdout",
          "text": [
            "Digite sua idade: 21\n",
            "[1] \"Você já é um adulto!\"\n"
          ]
        }
      ]
    },
    {
      "cell_type": "code",
      "source": [
        "idade = as.integer(readline('Digite sua idade: '))\n",
        "\n",
        "ifelse (\n",
        "    (idade < 18 & idade <= 50),\n",
        "    'VOCÊ AINDA É UMA CRIANÇA!', \n",
        "    'VOCÊ É UM ADULTO!'\n",
        ")"
      ],
      "metadata": {
        "colab": {
          "base_uri": "https://localhost:8080/",
          "height": 52
        },
        "id": "bGvHEh8BrpeE",
        "outputId": "2e9ee99c-2c55-45bf-e98e-fd49d338b200"
      },
      "execution_count": null,
      "outputs": [
        {
          "name": "stdout",
          "output_type": "stream",
          "text": [
            "Digite sua idade: 55\n"
          ]
        },
        {
          "output_type": "display_data",
          "data": {
            "text/html": [
              "'VOCÊ É UM ADULTO!'"
            ],
            "text/markdown": "'VOCÊ É UM ADULTO!'",
            "text/latex": "'VOCÊ É UM ADULTO!'",
            "text/plain": [
              "[1] \"VOCÊ É UM ADULTO!\""
            ]
          },
          "metadata": {}
        }
      ]
    },
    {
      "cell_type": "markdown",
      "metadata": {
        "id": "h9uKqb6qFHWh"
      },
      "source": [
        "#Laços de Repetição (loops)\n",
        "\n",
        "### while / for"
      ]
    },
    {
      "cell_type": "markdown",
      "source": [
        "```r\n",
        "# sintaxe do \"while\"\n",
        "while (condição){\n",
        "  comandos\n",
        "}\n",
        "```"
      ],
      "metadata": {
        "id": "oxzx37l4l1hO"
      }
    },
    {
      "cell_type": "code",
      "metadata": {
        "id": "hN4S-S_fFofE",
        "outputId": "f9d8054a-6368-40e3-ecf2-8afa5dd53cf0",
        "colab": {
          "base_uri": "https://localhost:8080/"
        }
      },
      "source": [
        "# \"while\" na prática\n",
        "z <- 10\n",
        "\n",
        "while (z < 20){\n",
        "#   print(z)\n",
        "  z <- z + 1\n",
        "  print(z)\n",
        "}"
      ],
      "execution_count": null,
      "outputs": [
        {
          "output_type": "stream",
          "name": "stdout",
          "text": [
            "[1] 11\n",
            "[1] 12\n",
            "[1] 13\n",
            "[1] 14\n",
            "[1] 15\n",
            "[1] 16\n",
            "[1] 17\n",
            "[1] 18\n",
            "[1] 19\n",
            "[1] 20\n"
          ]
        }
      ]
    },
    {
      "cell_type": "markdown",
      "source": [
        "```r\n",
        "# sintaxe do \"for\"\n",
        "for (var in x){\n",
        "    comandos\n",
        "}\n",
        "```"
      ],
      "metadata": {
        "id": "HZA360GkFf3O"
      }
    },
    {
      "cell_type": "code",
      "metadata": {
        "id": "d3fr7pPHHKXh",
        "outputId": "6a8c80b4-cbf0-4e56-8ce7-0b479a558e0a",
        "colab": {
          "base_uri": "https://localhost:8080/"
        }
      },
      "source": [
        "# \"for\" na prática\n",
        "for(x in 1:15) {\n",
        "  print(x)\n",
        "}"
      ],
      "execution_count": null,
      "outputs": [
        {
          "output_type": "stream",
          "name": "stdout",
          "text": [
            "[1] 1\n",
            "[1] 2\n",
            "[1] 3\n",
            "[1] 4\n",
            "[1] 5\n",
            "[1] 6\n",
            "[1] 7\n",
            "[1] 8\n",
            "[1] 9\n",
            "[1] 10\n",
            "[1] 11\n",
            "[1] 12\n",
            "[1] 13\n",
            "[1] 14\n",
            "[1] 15\n"
          ]
        }
      ]
    },
    {
      "cell_type": "markdown",
      "metadata": {
        "id": "JIdvmQVdKIbP"
      },
      "source": [
        "##Funções\n",
        "\n",
        "'''Funções são blocos de códigos 'enclapusulados', onde armazena uma lista de isntruções para posteriormente utilizando o nome da função em seu código, chamando-a inserindo alguns parâmetros quando necessário. \n",
        "\n",
        "Temos as funções 'R base', ou seja são nativas como a função 'mean()que calcula a média e entre outras.'''\n",
        "\n"
      ]
    },
    {
      "cell_type": "code",
      "metadata": {
        "id": "aCkoDcpmZFhl"
      },
      "source": [
        "# função R BASE\n",
        "x <- c(1,2,3,4,5,6,7,8,9,10,\n",
        "        111,112,113,114,250, \n",
        "        355,451,678,782,999)"
      ],
      "execution_count": null,
      "outputs": []
    },
    {
      "cell_type": "code",
      "metadata": {
        "id": "3QCtpTcYZhjW",
        "outputId": "78b1781f-ff42-48c6-fa25-bb87cf91aa41",
        "colab": {
          "base_uri": "https://localhost:8080/",
          "height": 34
        }
      },
      "source": [
        "# média\n",
        "mean(x)"
      ],
      "execution_count": null,
      "outputs": [
        {
          "output_type": "display_data",
          "data": {
            "text/html": [
              "201"
            ],
            "text/markdown": "201",
            "text/latex": "201",
            "text/plain": [
              "[1] 201"
            ]
          },
          "metadata": {}
        }
      ]
    },
    {
      "cell_type": "code",
      "source": [
        "# mediana\n",
        "median(x)"
      ],
      "metadata": {
        "colab": {
          "base_uri": "https://localhost:8080/",
          "height": 34
        },
        "id": "jT8DKF-IGkWg",
        "outputId": "a70d7f93-4c2d-40d6-bf9a-532a2228e560"
      },
      "execution_count": null,
      "outputs": [
        {
          "output_type": "display_data",
          "data": {
            "text/html": [
              "60.5"
            ],
            "text/markdown": "60.5",
            "text/latex": "60.5",
            "text/plain": [
              "[1] 60.5"
            ]
          },
          "metadata": {}
        }
      ]
    },
    {
      "cell_type": "code",
      "metadata": {
        "id": "23PEr8lUXVOz",
        "outputId": "0c95bb16-2dda-419b-bcd9-f1897f48a641",
        "colab": {
          "base_uri": "https://localhost:8080/",
          "height": 34
        }
      },
      "source": [
        "# desvio padrão\n",
        "sd(x)"
      ],
      "execution_count": null,
      "outputs": [
        {
          "output_type": "display_data",
          "data": {
            "text/html": [
              "299.484645068122"
            ],
            "text/markdown": "299.484645068122",
            "text/latex": "299.484645068122",
            "text/plain": [
              "[1] 299.4846"
            ]
          },
          "metadata": {}
        }
      ]
    },
    {
      "cell_type": "code",
      "source": [
        "# variância\n",
        "var(x)"
      ],
      "metadata": {
        "colab": {
          "base_uri": "https://localhost:8080/",
          "height": 34
        },
        "id": "7njqoy4LGiv9",
        "outputId": "6db20af8-3303-4300-b7bb-e38c0b594270"
      },
      "execution_count": null,
      "outputs": [
        {
          "output_type": "display_data",
          "data": {
            "text/html": [
              "89691.0526315789"
            ],
            "text/markdown": "89691.0526315789",
            "text/latex": "89691.0526315789",
            "text/plain": [
              "[1] 89691.05"
            ]
          },
          "metadata": {}
        }
      ]
    },
    {
      "cell_type": "code",
      "source": [
        "# com a função \"summary\" visualizamos a estatística descritiva dos dados\n",
        "summary(x)"
      ],
      "metadata": {
        "colab": {
          "base_uri": "https://localhost:8080/",
          "height": 52
        },
        "id": "LVInpJZAGPS5",
        "outputId": "9068b4a1-ced7-416b-e95d-751a561e60c6"
      },
      "execution_count": null,
      "outputs": [
        {
          "output_type": "display_data",
          "data": {
            "text/plain": [
              "   Min. 1st Qu.  Median    Mean 3rd Qu.    Max. \n",
              "   1.00    5.75   60.50  201.00  276.25  999.00 "
            ]
          },
          "metadata": {}
        }
      ]
    },
    {
      "cell_type": "markdown",
      "source": [
        "Agora vamos importar o famoso dataset _iris_ e realizar algumas análise exploratória."
      ],
      "metadata": {
        "id": "jSBBUbBCdK8p"
      }
    },
    {
      "cell_type": "code",
      "metadata": {
        "id": "aB9fOQ6wZh0c",
        "outputId": "a57547fc-4180-454c-a618-a0593d152b90",
        "colab": {
          "base_uri": "https://localhost:8080/",
          "height": 286
        }
      },
      "source": [
        "# primeiras linhas dataframe\n",
        "head(iris)"
      ],
      "execution_count": null,
      "outputs": [
        {
          "output_type": "display_data",
          "data": {
            "text/html": [
              "<table class=\"dataframe\">\n",
              "<caption>A data.frame: 6 × 5</caption>\n",
              "<thead>\n",
              "\t<tr><th></th><th scope=col>Sepal.Length</th><th scope=col>Sepal.Width</th><th scope=col>Petal.Length</th><th scope=col>Petal.Width</th><th scope=col>Species</th></tr>\n",
              "\t<tr><th></th><th scope=col>&lt;dbl&gt;</th><th scope=col>&lt;dbl&gt;</th><th scope=col>&lt;dbl&gt;</th><th scope=col>&lt;dbl&gt;</th><th scope=col>&lt;fct&gt;</th></tr>\n",
              "</thead>\n",
              "<tbody>\n",
              "\t<tr><th scope=row>1</th><td>5.1</td><td>3.5</td><td>1.4</td><td>0.2</td><td>setosa</td></tr>\n",
              "\t<tr><th scope=row>2</th><td>4.9</td><td>3.0</td><td>1.4</td><td>0.2</td><td>setosa</td></tr>\n",
              "\t<tr><th scope=row>3</th><td>4.7</td><td>3.2</td><td>1.3</td><td>0.2</td><td>setosa</td></tr>\n",
              "\t<tr><th scope=row>4</th><td>4.6</td><td>3.1</td><td>1.5</td><td>0.2</td><td>setosa</td></tr>\n",
              "\t<tr><th scope=row>5</th><td>5.0</td><td>3.6</td><td>1.4</td><td>0.2</td><td>setosa</td></tr>\n",
              "\t<tr><th scope=row>6</th><td>5.4</td><td>3.9</td><td>1.7</td><td>0.4</td><td>setosa</td></tr>\n",
              "</tbody>\n",
              "</table>\n"
            ],
            "text/markdown": "\nA data.frame: 6 × 5\n\n| <!--/--> | Sepal.Length &lt;dbl&gt; | Sepal.Width &lt;dbl&gt; | Petal.Length &lt;dbl&gt; | Petal.Width &lt;dbl&gt; | Species &lt;fct&gt; |\n|---|---|---|---|---|---|\n| 1 | 5.1 | 3.5 | 1.4 | 0.2 | setosa |\n| 2 | 4.9 | 3.0 | 1.4 | 0.2 | setosa |\n| 3 | 4.7 | 3.2 | 1.3 | 0.2 | setosa |\n| 4 | 4.6 | 3.1 | 1.5 | 0.2 | setosa |\n| 5 | 5.0 | 3.6 | 1.4 | 0.2 | setosa |\n| 6 | 5.4 | 3.9 | 1.7 | 0.4 | setosa |\n\n",
            "text/latex": "A data.frame: 6 × 5\n\\begin{tabular}{r|lllll}\n  & Sepal.Length & Sepal.Width & Petal.Length & Petal.Width & Species\\\\\n  & <dbl> & <dbl> & <dbl> & <dbl> & <fct>\\\\\n\\hline\n\t1 & 5.1 & 3.5 & 1.4 & 0.2 & setosa\\\\\n\t2 & 4.9 & 3.0 & 1.4 & 0.2 & setosa\\\\\n\t3 & 4.7 & 3.2 & 1.3 & 0.2 & setosa\\\\\n\t4 & 4.6 & 3.1 & 1.5 & 0.2 & setosa\\\\\n\t5 & 5.0 & 3.6 & 1.4 & 0.2 & setosa\\\\\n\t6 & 5.4 & 3.9 & 1.7 & 0.4 & setosa\\\\\n\\end{tabular}\n",
            "text/plain": [
              "  Sepal.Length Sepal.Width Petal.Length Petal.Width Species\n",
              "1 5.1          3.5         1.4          0.2         setosa \n",
              "2 4.9          3.0         1.4          0.2         setosa \n",
              "3 4.7          3.2         1.3          0.2         setosa \n",
              "4 4.6          3.1         1.5          0.2         setosa \n",
              "5 5.0          3.6         1.4          0.2         setosa \n",
              "6 5.4          3.9         1.7          0.4         setosa "
            ]
          },
          "metadata": {}
        }
      ]
    },
    {
      "cell_type": "code",
      "metadata": {
        "id": "ad3sY6eqZhxA",
        "outputId": "0a3dea45-ccf9-4a44-e7bc-e7115dd6bd9b",
        "colab": {
          "base_uri": "https://localhost:8080/",
          "height": 286
        }
      },
      "source": [
        "# ultimas linhas dataframe\n",
        "tail(iris)"
      ],
      "execution_count": null,
      "outputs": [
        {
          "output_type": "display_data",
          "data": {
            "text/html": [
              "<table class=\"dataframe\">\n",
              "<caption>A data.frame: 6 × 5</caption>\n",
              "<thead>\n",
              "\t<tr><th></th><th scope=col>Sepal.Length</th><th scope=col>Sepal.Width</th><th scope=col>Petal.Length</th><th scope=col>Petal.Width</th><th scope=col>Species</th></tr>\n",
              "\t<tr><th></th><th scope=col>&lt;dbl&gt;</th><th scope=col>&lt;dbl&gt;</th><th scope=col>&lt;dbl&gt;</th><th scope=col>&lt;dbl&gt;</th><th scope=col>&lt;fct&gt;</th></tr>\n",
              "</thead>\n",
              "<tbody>\n",
              "\t<tr><th scope=row>145</th><td>6.7</td><td>3.3</td><td>5.7</td><td>2.5</td><td>virginica</td></tr>\n",
              "\t<tr><th scope=row>146</th><td>6.7</td><td>3.0</td><td>5.2</td><td>2.3</td><td>virginica</td></tr>\n",
              "\t<tr><th scope=row>147</th><td>6.3</td><td>2.5</td><td>5.0</td><td>1.9</td><td>virginica</td></tr>\n",
              "\t<tr><th scope=row>148</th><td>6.5</td><td>3.0</td><td>5.2</td><td>2.0</td><td>virginica</td></tr>\n",
              "\t<tr><th scope=row>149</th><td>6.2</td><td>3.4</td><td>5.4</td><td>2.3</td><td>virginica</td></tr>\n",
              "\t<tr><th scope=row>150</th><td>5.9</td><td>3.0</td><td>5.1</td><td>1.8</td><td>virginica</td></tr>\n",
              "</tbody>\n",
              "</table>\n"
            ],
            "text/markdown": "\nA data.frame: 6 × 5\n\n| <!--/--> | Sepal.Length &lt;dbl&gt; | Sepal.Width &lt;dbl&gt; | Petal.Length &lt;dbl&gt; | Petal.Width &lt;dbl&gt; | Species &lt;fct&gt; |\n|---|---|---|---|---|---|\n| 145 | 6.7 | 3.3 | 5.7 | 2.5 | virginica |\n| 146 | 6.7 | 3.0 | 5.2 | 2.3 | virginica |\n| 147 | 6.3 | 2.5 | 5.0 | 1.9 | virginica |\n| 148 | 6.5 | 3.0 | 5.2 | 2.0 | virginica |\n| 149 | 6.2 | 3.4 | 5.4 | 2.3 | virginica |\n| 150 | 5.9 | 3.0 | 5.1 | 1.8 | virginica |\n\n",
            "text/latex": "A data.frame: 6 × 5\n\\begin{tabular}{r|lllll}\n  & Sepal.Length & Sepal.Width & Petal.Length & Petal.Width & Species\\\\\n  & <dbl> & <dbl> & <dbl> & <dbl> & <fct>\\\\\n\\hline\n\t145 & 6.7 & 3.3 & 5.7 & 2.5 & virginica\\\\\n\t146 & 6.7 & 3.0 & 5.2 & 2.3 & virginica\\\\\n\t147 & 6.3 & 2.5 & 5.0 & 1.9 & virginica\\\\\n\t148 & 6.5 & 3.0 & 5.2 & 2.0 & virginica\\\\\n\t149 & 6.2 & 3.4 & 5.4 & 2.3 & virginica\\\\\n\t150 & 5.9 & 3.0 & 5.1 & 1.8 & virginica\\\\\n\\end{tabular}\n",
            "text/plain": [
              "    Sepal.Length Sepal.Width Petal.Length Petal.Width Species  \n",
              "145 6.7          3.3         5.7          2.5         virginica\n",
              "146 6.7          3.0         5.2          2.3         virginica\n",
              "147 6.3          2.5         5.0          1.9         virginica\n",
              "148 6.5          3.0         5.2          2.0         virginica\n",
              "149 6.2          3.4         5.4          2.3         virginica\n",
              "150 5.9          3.0         5.1          1.8         virginica"
            ]
          },
          "metadata": {}
        }
      ]
    },
    {
      "cell_type": "code",
      "source": [
        "# resumo estatístico \n",
        "print(summary(iris))"
      ],
      "metadata": {
        "colab": {
          "base_uri": "https://localhost:8080/"
        },
        "id": "CyA-oILDdl3n",
        "outputId": "57ed7292-e99f-466d-936a-d7e6194bff29"
      },
      "execution_count": null,
      "outputs": [
        {
          "output_type": "stream",
          "name": "stdout",
          "text": [
            "  Sepal.Length    Sepal.Width     Petal.Length    Petal.Width   \n",
            " Min.   :4.300   Min.   :2.000   Min.   :1.000   Min.   :0.100  \n",
            " 1st Qu.:5.100   1st Qu.:2.800   1st Qu.:1.600   1st Qu.:0.300  \n",
            " Median :5.800   Median :3.000   Median :4.350   Median :1.300  \n",
            " Mean   :5.843   Mean   :3.057   Mean   :3.758   Mean   :1.199  \n",
            " 3rd Qu.:6.400   3rd Qu.:3.300   3rd Qu.:5.100   3rd Qu.:1.800  \n",
            " Max.   :7.900   Max.   :4.400   Max.   :6.900   Max.   :2.500  \n",
            "       Species  \n",
            " setosa    :50  \n",
            " versicolor:50  \n",
            " virginica :50  \n",
            "                \n",
            "                \n",
            "                \n"
          ]
        }
      ]
    },
    {
      "cell_type": "code",
      "metadata": {
        "id": "CWcltQWqZ7QB"
      },
      "source": [
        "# abre pasta para caminho de arquivos, utilize no R STUDIO\n",
        "# file.choose()"
      ],
      "execution_count": null,
      "outputs": []
    },
    {
      "cell_type": "markdown",
      "metadata": {
        "id": "ysEQK4fPbE0T"
      },
      "source": [
        "# Criação de funções\n",
        "\n",
        "'''Podemos criar nossas próprias funções'''"
      ]
    },
    {
      "cell_type": "code",
      "metadata": {
        "id": "4s_5ewclZ7Wf",
        "outputId": "153136a4-f81e-46c5-f8c5-3a482134ad12",
        "colab": {
          "base_uri": "https://localhost:8080/",
          "height": 69
        }
      },
      "source": [
        "porcentagem <- function(num, por) {\n",
        "  num <- as.integer(readline(prompt=\"Digite o número para o cálculo: \"))\n",
        "  por <- as.integer(readline(prompt=\"Digite a porcentagem que gostaria de descobrir do número digitado: \"))\n",
        "\n",
        "  return (num * por/100)\n",
        "}\n",
        "\n",
        "porcentagem()"
      ],
      "execution_count": null,
      "outputs": [
        {
          "name": "stdout",
          "output_type": "stream",
          "text": [
            "Digite o número para o cálculo: 50\n",
            "Digite a porcentagem que gostaria de descobrir do número digitado: 10\n"
          ]
        },
        {
          "output_type": "display_data",
          "data": {
            "text/html": [
              "5"
            ],
            "text/markdown": "5",
            "text/latex": "5",
            "text/plain": [
              "[1] 5"
            ]
          },
          "metadata": {}
        }
      ]
    },
    {
      "cell_type": "code",
      "source": [
        "print_msg <- function(msg, name) {\n",
        "    msg <- 'Hello,'\n",
        "    name <- as.character(readline('Digite o seu nome: '))\n",
        "    # res <- paste(msg, name,'!')\n",
        "    return (paste(msg, name))\n",
        "\n",
        "    # print(res)\n",
        "}\n",
        "\n",
        "print_msg()"
      ],
      "metadata": {
        "colab": {
          "base_uri": "https://localhost:8080/",
          "height": 52
        },
        "id": "dK2D5uJeeC1k",
        "outputId": "f1fa7b65-9a6e-420a-ddb6-a06a213a9c84"
      },
      "execution_count": null,
      "outputs": [
        {
          "name": "stdout",
          "output_type": "stream",
          "text": [
            "Digite o seu nome: Fernando\n"
          ]
        },
        {
          "output_type": "display_data",
          "data": {
            "text/html": [
              "'Hello, Fernando'"
            ],
            "text/markdown": "'Hello, Fernando'",
            "text/latex": "'Hello, Fernando'",
            "text/plain": [
              "[1] \"Hello, Fernando\""
            ]
          },
          "metadata": {}
        }
      ]
    },
    {
      "cell_type": "markdown",
      "metadata": {
        "id": "YpErkN8udnai"
      },
      "source": [
        "#Pacotes\n",
        "'''São pacotes de códigos executados por terceiros.\n",
        "Temos pacotes para Machine Learning, Matemática, Web Scraping, Desenvolviemnto Web e entre outros'''\n",
        "\n",
        "Onde encontar esses pacotes?\n",
        "1) CRAN via linha de comando no próprio console RStudio com:\n",
        "  install.packages(\"nome-do-pacote\",dependentes=TRUE)\n",
        "\n",
        "2) Manualmente, no CRAN formato .zip ou .tar.gz; no menu do RStudio selecione Menu Tools > Install Packages > Install packages from pacage arquive file e selecione o pacote escolhido.\n",
        "\n",
        "3) No RStudio, na tela 4, em \"Packages\":busque, selecione e clique em \"Install\"."
      ]
    },
    {
      "cell_type": "code",
      "metadata": {
        "id": "Pd2DfcKoZ7dF",
        "colab": {
          "base_uri": "https://localhost:8080/"
        },
        "outputId": "d8b11679-2c12-4146-f8b4-5c3ef45f97a4"
      },
      "source": [
        "# instalando o pacote\n",
        "install.packages(\"ggplot2\", dependencies=TRUE)\n",
        "\n",
        "# carrega pacote para ser instalado no código\n",
        "library(ggplot2)"
      ],
      "execution_count": null,
      "outputs": [
        {
          "output_type": "stream",
          "name": "stderr",
          "text": [
            "Installing package into ‘/usr/local/lib/R/site-library’\n",
            "(as ‘lib’ is unspecified)\n",
            "\n",
            "also installing the dependencies ‘proxy’, ‘lazyeval’, ‘png’, ‘jpeg’, ‘checkmate’, ‘zoo’, ‘e1071’, ‘wk’, ‘rex’, ‘textshaping’, ‘Formula’, ‘latticeExtra’, ‘gridExtra’, ‘htmlTable’, ‘viridis’, ‘Rcpp’, ‘deldir’, ‘RcppEigen’, ‘sp’, ‘mvtnorm’, ‘TH.data’, ‘sandwich’, ‘htmlwidgets’, ‘SparseM’, ‘MatrixModels’, ‘classInt’, ‘s2’, ‘units’, ‘covr’, ‘ragg’, ‘ggplot2movies’, ‘hexbin’, ‘Hmisc’, ‘interp’, ‘mapproj’, ‘maps’, ‘maptools’, ‘multcomp’, ‘profvis’, ‘quantreg’, ‘rgeos’, ‘sf’, ‘vdiffr’\n",
            "\n",
            "\n",
            "Warning message in install.packages(\"ggplot2\", dependencies = TRUE):\n",
            "“installation of package ‘textshaping’ had non-zero exit status”\n",
            "Warning message in install.packages(\"ggplot2\", dependencies = TRUE):\n",
            "“installation of package ‘units’ had non-zero exit status”\n",
            "Warning message in install.packages(\"ggplot2\", dependencies = TRUE):\n",
            "“installation of package ‘ragg’ had non-zero exit status”\n",
            "Warning message in install.packages(\"ggplot2\", dependencies = TRUE):\n",
            "“installation of package ‘sf’ had non-zero exit status”\n"
          ]
        }
      ]
    },
    {
      "cell_type": "markdown",
      "metadata": {
        "id": "IPYTPrrQhqCa"
      },
      "source": [
        "#Tidyverse\n",
        "\n",
        "'''Conjunto de pacotes focados para análise de dados'''"
      ]
    },
    {
      "cell_type": "code",
      "metadata": {
        "id": "vL5mIHsthW2G",
        "colab": {
          "base_uri": "https://localhost:8080/"
        },
        "outputId": "4e25f194-3262-4218-8652-98673ddda0c2"
      },
      "source": [
        "install.packages(\"tidyverse\")\n",
        "\n",
        "# instalará:\n",
        "# ggplot2 (gráficos)\n",
        "# purrr (programação funcional)\n",
        "# tibble (criação de dataframes)\n",
        "# dplyr (manipulação de dataframes)\n",
        "# tidyr (transformação de dataframes)\n",
        "# stringr (lida com strings e regex)\n",
        "# readr (leitura de dados retangulares: cvs, tvs...)\n",
        "# forcats (lida com fatores) fatores são estruturas de dados utilizados para ordenar strings"
      ],
      "execution_count": null,
      "outputs": [
        {
          "output_type": "stream",
          "name": "stderr",
          "text": [
            "Installing package into ‘/usr/local/lib/R/site-library’\n",
            "(as ‘lib’ is unspecified)\n",
            "\n"
          ]
        }
      ]
    },
    {
      "cell_type": "markdown",
      "metadata": {
        "id": "duNxylmSxmaJ"
      },
      "source": [
        "#GGPLOT\n",
        "\n",
        "https://github.com/rstudio/cheatsheets/blob/master/data-visualization-2.1.pdf"
      ]
    },
    {
      "cell_type": "code",
      "metadata": {
        "id": "eKDt2RB1hW7T"
      },
      "source": [
        "# listando todos datasets do R base\n",
        "data(package = .packages(all.available=TRUE))\n",
        "# ou apenas data()"
      ],
      "execution_count": null,
      "outputs": []
    },
    {
      "cell_type": "markdown",
      "source": [
        "```r\n",
        "ggplot(data = <DATA>) +\n",
        "<GEOM_FUNCTION>(\n",
        "  mapping = aes(<MAPPINGS>),\n",
        "  stat = <STAT>,\n",
        "  position = <POSITION>\n",
        ") +\n",
        "<COORDINATE_FUNCTION> +\n",
        "<FACET_FUNCTION> # dividir o grafico em subplots\n",
        "```"
      ],
      "metadata": {
        "id": "Ur0W0s9uAiFM"
      }
    },
    {
      "cell_type": "code",
      "metadata": {
        "id": "NbpL5elMhXEi",
        "outputId": "fae90b6c-48bb-40e2-a20d-f1968eefb8df",
        "colab": {
          "base_uri": "https://localhost:8080/",
          "height": 611
        }
      },
      "source": [
        "# SCATERPLOT ou gráfico de dispersão\n",
        "library(tidyverse)\n",
        "# displ: o tamanho do motor de um carro, em litros\n",
        "# hwy: a eficiência de combustivel de um carro na estrada, em milhas por galão (mpg)\n",
        "ggplot(data = mpg) + geom_point(mapping = aes(x = displ, y = hwy))"
      ],
      "execution_count": null,
      "outputs": [
        {
          "output_type": "stream",
          "name": "stderr",
          "text": [
            "Warning message in system(\"timedatectl\", intern = TRUE):\n",
            "“running command 'timedatectl' had status 1”\n",
            "── \u001b[1mAttaching packages\u001b[22m ─────────────────────────────────────── tidyverse 1.3.2 ──\n",
            "\u001b[32m✔\u001b[39m \u001b[34mtibble \u001b[39m 3.1.7     \u001b[32m✔\u001b[39m \u001b[34mdplyr  \u001b[39m 1.0.9\n",
            "\u001b[32m✔\u001b[39m \u001b[34mtidyr  \u001b[39m 1.2.0     \u001b[32m✔\u001b[39m \u001b[34mstringr\u001b[39m 1.4.0\n",
            "\u001b[32m✔\u001b[39m \u001b[34mreadr  \u001b[39m 2.1.2     \u001b[32m✔\u001b[39m \u001b[34mforcats\u001b[39m 0.5.1\n",
            "\u001b[32m✔\u001b[39m \u001b[34mpurrr  \u001b[39m 0.3.4     \n",
            "── \u001b[1mConflicts\u001b[22m ────────────────────────────────────────── tidyverse_conflicts() ──\n",
            "\u001b[31m✖\u001b[39m \u001b[34mdplyr\u001b[39m::\u001b[32mfilter()\u001b[39m masks \u001b[34mstats\u001b[39m::filter()\n",
            "\u001b[31m✖\u001b[39m \u001b[34mdplyr\u001b[39m::\u001b[32mlag()\u001b[39m    masks \u001b[34mstats\u001b[39m::lag()\n"
          ]
        },
        {
          "output_type": "display_data",
          "data": {
            "text/plain": [
              "plot without title"
            ],
            "image/png": "[encoded data removed]"
          },
          "metadata": {
            "image/png": {
              "width": 420,
              "height": 420
            }
          }
        }
      ]
    },
    {
      "cell_type": "code",
      "metadata": {
        "id": "W59s1EvJhXQ5",
        "outputId": "1ba7068d-319a-40e4-b25b-17755cf59afc",
        "colab": {
          "base_uri": "https://localhost:8080/",
          "height": 1000
        }
      },
      "source": [
        "mpg"
      ],
      "execution_count": null,
      "outputs": [
        {
          "output_type": "display_data",
          "data": {
            "text/html": [
              "<table class=\"dataframe\">\n",
              "<caption>A tibble: 234 × 11</caption>\n",
              "<thead>\n",
              "\t<tr><th scope=col>manufacturer</th><th scope=col>model</th><th scope=col>displ</th><th scope=col>year</th><th scope=col>cyl</th><th scope=col>trans</th><th scope=col>drv</th><th scope=col>cty</th><th scope=col>hwy</th><th scope=col>fl</th><th scope=col>class</th></tr>\n",
              "\t<tr><th scope=col>&lt;chr&gt;</th><th scope=col>&lt;chr&gt;</th><th scope=col>&lt;dbl&gt;</th><th scope=col>&lt;int&gt;</th><th scope=col>&lt;int&gt;</th><th scope=col>&lt;chr&gt;</th><th scope=col>&lt;chr&gt;</th><th scope=col>&lt;int&gt;</th><th scope=col>&lt;int&gt;</th><th scope=col>&lt;chr&gt;</th><th scope=col>&lt;chr&gt;</th></tr>\n",
              "</thead>\n",
              "<tbody>\n",
              "\t<tr><td>audi     </td><td>a4                </td><td>1.8</td><td>1999</td><td>4</td><td>auto(l5)  </td><td>f</td><td>18</td><td>29</td><td>p</td><td>compact</td></tr>\n",
              "\t<tr><td>audi     </td><td>a4                </td><td>1.8</td><td>1999</td><td>4</td><td>manual(m5)</td><td>f</td><td>21</td><td>29</td><td>p</td><td>compact</td></tr>\n",
              "\t<tr><td>audi     </td><td>a4                </td><td>2.0</td><td>2008</td><td>4</td><td>manual(m6)</td><td>f</td><td>20</td><td>31</td><td>p</td><td>compact</td></tr>\n",
              "\t<tr><td>audi     </td><td>a4                </td><td>2.0</td><td>2008</td><td>4</td><td>auto(av)  </td><td>f</td><td>21</td><td>30</td><td>p</td><td>compact</td></tr>\n",
              "\t<tr><td>audi     </td><td>a4                </td><td>2.8</td><td>1999</td><td>6</td><td>auto(l5)  </td><td>f</td><td>16</td><td>26</td><td>p</td><td>compact</td></tr>\n",
              "\t<tr><td>audi     </td><td>a4                </td><td>2.8</td><td>1999</td><td>6</td><td>manual(m5)</td><td>f</td><td>18</td><td>26</td><td>p</td><td>compact</td></tr>\n",
              "\t<tr><td>audi     </td><td>a4                </td><td>3.1</td><td>2008</td><td>6</td><td>auto(av)  </td><td>f</td><td>18</td><td>27</td><td>p</td><td>compact</td></tr>\n",
              "\t<tr><td>audi     </td><td>a4 quattro        </td><td>1.8</td><td>1999</td><td>4</td><td>manual(m5)</td><td>4</td><td>18</td><td>26</td><td>p</td><td>compact</td></tr>\n",
              "\t<tr><td>audi     </td><td>a4 quattro        </td><td>1.8</td><td>1999</td><td>4</td><td>auto(l5)  </td><td>4</td><td>16</td><td>25</td><td>p</td><td>compact</td></tr>\n",
              "\t<tr><td>audi     </td><td>a4 quattro        </td><td>2.0</td><td>2008</td><td>4</td><td>manual(m6)</td><td>4</td><td>20</td><td>28</td><td>p</td><td>compact</td></tr>\n",
              "\t<tr><td>audi     </td><td>a4 quattro        </td><td>2.0</td><td>2008</td><td>4</td><td>auto(s6)  </td><td>4</td><td>19</td><td>27</td><td>p</td><td>compact</td></tr>\n",
              "\t<tr><td>audi     </td><td>a4 quattro        </td><td>2.8</td><td>1999</td><td>6</td><td>auto(l5)  </td><td>4</td><td>15</td><td>25</td><td>p</td><td>compact</td></tr>\n",
              "\t<tr><td>audi     </td><td>a4 quattro        </td><td>2.8</td><td>1999</td><td>6</td><td>manual(m5)</td><td>4</td><td>17</td><td>25</td><td>p</td><td>compact</td></tr>\n",
              "\t<tr><td>audi     </td><td>a4 quattro        </td><td>3.1</td><td>2008</td><td>6</td><td>auto(s6)  </td><td>4</td><td>17</td><td>25</td><td>p</td><td>compact</td></tr>\n",
              "\t<tr><td>audi     </td><td>a4 quattro        </td><td>3.1</td><td>2008</td><td>6</td><td>manual(m6)</td><td>4</td><td>15</td><td>25</td><td>p</td><td>compact</td></tr>\n",
              "\t<tr><td>audi     </td><td>a6 quattro        </td><td>2.8</td><td>1999</td><td>6</td><td>auto(l5)  </td><td>4</td><td>15</td><td>24</td><td>p</td><td>midsize</td></tr>\n",
              "\t<tr><td>audi     </td><td>a6 quattro        </td><td>3.1</td><td>2008</td><td>6</td><td>auto(s6)  </td><td>4</td><td>17</td><td>25</td><td>p</td><td>midsize</td></tr>\n",
              "\t<tr><td>audi     </td><td>a6 quattro        </td><td>4.2</td><td>2008</td><td>8</td><td>auto(s6)  </td><td>4</td><td>16</td><td>23</td><td>p</td><td>midsize</td></tr>\n",
              "\t<tr><td>chevrolet</td><td>c1500 suburban 2wd</td><td>5.3</td><td>2008</td><td>8</td><td>auto(l4)  </td><td>r</td><td>14</td><td>20</td><td>r</td><td>suv    </td></tr>\n",
              "\t<tr><td>chevrolet</td><td>c1500 suburban 2wd</td><td>5.3</td><td>2008</td><td>8</td><td>auto(l4)  </td><td>r</td><td>11</td><td>15</td><td>e</td><td>suv    </td></tr>\n",
              "\t<tr><td>chevrolet</td><td>c1500 suburban 2wd</td><td>5.3</td><td>2008</td><td>8</td><td>auto(l4)  </td><td>r</td><td>14</td><td>20</td><td>r</td><td>suv    </td></tr>\n",
              "\t<tr><td>chevrolet</td><td>c1500 suburban 2wd</td><td>5.7</td><td>1999</td><td>8</td><td>auto(l4)  </td><td>r</td><td>13</td><td>17</td><td>r</td><td>suv    </td></tr>\n",
              "\t<tr><td>chevrolet</td><td>c1500 suburban 2wd</td><td>6.0</td><td>2008</td><td>8</td><td>auto(l4)  </td><td>r</td><td>12</td><td>17</td><td>r</td><td>suv    </td></tr>\n",
              "\t<tr><td>chevrolet</td><td>corvette          </td><td>5.7</td><td>1999</td><td>8</td><td>manual(m6)</td><td>r</td><td>16</td><td>26</td><td>p</td><td>2seater</td></tr>\n",
              "\t<tr><td>chevrolet</td><td>corvette          </td><td>5.7</td><td>1999</td><td>8</td><td>auto(l4)  </td><td>r</td><td>15</td><td>23</td><td>p</td><td>2seater</td></tr>\n",
              "\t<tr><td>chevrolet</td><td>corvette          </td><td>6.2</td><td>2008</td><td>8</td><td>manual(m6)</td><td>r</td><td>16</td><td>26</td><td>p</td><td>2seater</td></tr>\n",
              "\t<tr><td>chevrolet</td><td>corvette          </td><td>6.2</td><td>2008</td><td>8</td><td>auto(s6)  </td><td>r</td><td>15</td><td>25</td><td>p</td><td>2seater</td></tr>\n",
              "\t<tr><td>chevrolet</td><td>corvette          </td><td>7.0</td><td>2008</td><td>8</td><td>manual(m6)</td><td>r</td><td>15</td><td>24</td><td>p</td><td>2seater</td></tr>\n",
              "\t<tr><td>chevrolet</td><td>k1500 tahoe 4wd   </td><td>5.3</td><td>2008</td><td>8</td><td>auto(l4)  </td><td>4</td><td>14</td><td>19</td><td>r</td><td>suv    </td></tr>\n",
              "\t<tr><td>chevrolet</td><td>k1500 tahoe 4wd   </td><td>5.3</td><td>2008</td><td>8</td><td>auto(l4)  </td><td>4</td><td>11</td><td>14</td><td>e</td><td>suv    </td></tr>\n",
              "\t<tr><td>⋮</td><td>⋮</td><td>⋮</td><td>⋮</td><td>⋮</td><td>⋮</td><td>⋮</td><td>⋮</td><td>⋮</td><td>⋮</td><td>⋮</td></tr>\n",
              "\t<tr><td>toyota    </td><td>toyota tacoma 4wd</td><td>3.4</td><td>1999</td><td>6</td><td>auto(l4)  </td><td>4</td><td>15</td><td>19</td><td>r</td><td>pickup    </td></tr>\n",
              "\t<tr><td>toyota    </td><td>toyota tacoma 4wd</td><td>4.0</td><td>2008</td><td>6</td><td>manual(m6)</td><td>4</td><td>15</td><td>18</td><td>r</td><td>pickup    </td></tr>\n",
              "\t<tr><td>toyota    </td><td>toyota tacoma 4wd</td><td>4.0</td><td>2008</td><td>6</td><td>auto(l5)  </td><td>4</td><td>16</td><td>20</td><td>r</td><td>pickup    </td></tr>\n",
              "\t<tr><td>volkswagen</td><td>gti              </td><td>2.0</td><td>1999</td><td>4</td><td>manual(m5)</td><td>f</td><td>21</td><td>29</td><td>r</td><td>compact   </td></tr>\n",
              "\t<tr><td>volkswagen</td><td>gti              </td><td>2.0</td><td>1999</td><td>4</td><td>auto(l4)  </td><td>f</td><td>19</td><td>26</td><td>r</td><td>compact   </td></tr>\n",
              "\t<tr><td>volkswagen</td><td>gti              </td><td>2.0</td><td>2008</td><td>4</td><td>manual(m6)</td><td>f</td><td>21</td><td>29</td><td>p</td><td>compact   </td></tr>\n",
              "\t<tr><td>volkswagen</td><td>gti              </td><td>2.0</td><td>2008</td><td>4</td><td>auto(s6)  </td><td>f</td><td>22</td><td>29</td><td>p</td><td>compact   </td></tr>\n",
              "\t<tr><td>volkswagen</td><td>gti              </td><td>2.8</td><td>1999</td><td>6</td><td>manual(m5)</td><td>f</td><td>17</td><td>24</td><td>r</td><td>compact   </td></tr>\n",
              "\t<tr><td>volkswagen</td><td>jetta            </td><td>1.9</td><td>1999</td><td>4</td><td>manual(m5)</td><td>f</td><td>33</td><td>44</td><td>d</td><td>compact   </td></tr>\n",
              "\t<tr><td>volkswagen</td><td>jetta            </td><td>2.0</td><td>1999</td><td>4</td><td>manual(m5)</td><td>f</td><td>21</td><td>29</td><td>r</td><td>compact   </td></tr>\n",
              "\t<tr><td>volkswagen</td><td>jetta            </td><td>2.0</td><td>1999</td><td>4</td><td>auto(l4)  </td><td>f</td><td>19</td><td>26</td><td>r</td><td>compact   </td></tr>\n",
              "\t<tr><td>volkswagen</td><td>jetta            </td><td>2.0</td><td>2008</td><td>4</td><td>auto(s6)  </td><td>f</td><td>22</td><td>29</td><td>p</td><td>compact   </td></tr>\n",
              "\t<tr><td>volkswagen</td><td>jetta            </td><td>2.0</td><td>2008</td><td>4</td><td>manual(m6)</td><td>f</td><td>21</td><td>29</td><td>p</td><td>compact   </td></tr>\n",
              "\t<tr><td>volkswagen</td><td>jetta            </td><td>2.5</td><td>2008</td><td>5</td><td>auto(s6)  </td><td>f</td><td>21</td><td>29</td><td>r</td><td>compact   </td></tr>\n",
              "\t<tr><td>volkswagen</td><td>jetta            </td><td>2.5</td><td>2008</td><td>5</td><td>manual(m5)</td><td>f</td><td>21</td><td>29</td><td>r</td><td>compact   </td></tr>\n",
              "\t<tr><td>volkswagen</td><td>jetta            </td><td>2.8</td><td>1999</td><td>6</td><td>auto(l4)  </td><td>f</td><td>16</td><td>23</td><td>r</td><td>compact   </td></tr>\n",
              "\t<tr><td>volkswagen</td><td>jetta            </td><td>2.8</td><td>1999</td><td>6</td><td>manual(m5)</td><td>f</td><td>17</td><td>24</td><td>r</td><td>compact   </td></tr>\n",
              "\t<tr><td>volkswagen</td><td>new beetle       </td><td>1.9</td><td>1999</td><td>4</td><td>manual(m5)</td><td>f</td><td>35</td><td>44</td><td>d</td><td>subcompact</td></tr>\n",
              "\t<tr><td>volkswagen</td><td>new beetle       </td><td>1.9</td><td>1999</td><td>4</td><td>auto(l4)  </td><td>f</td><td>29</td><td>41</td><td>d</td><td>subcompact</td></tr>\n",
              "\t<tr><td>volkswagen</td><td>new beetle       </td><td>2.0</td><td>1999</td><td>4</td><td>manual(m5)</td><td>f</td><td>21</td><td>29</td><td>r</td><td>subcompact</td></tr>\n",
              "\t<tr><td>volkswagen</td><td>new beetle       </td><td>2.0</td><td>1999</td><td>4</td><td>auto(l4)  </td><td>f</td><td>19</td><td>26</td><td>r</td><td>subcompact</td></tr>\n",
              "\t<tr><td>volkswagen</td><td>new beetle       </td><td>2.5</td><td>2008</td><td>5</td><td>manual(m5)</td><td>f</td><td>20</td><td>28</td><td>r</td><td>subcompact</td></tr>\n",
              "\t<tr><td>volkswagen</td><td>new beetle       </td><td>2.5</td><td>2008</td><td>5</td><td>auto(s6)  </td><td>f</td><td>20</td><td>29</td><td>r</td><td>subcompact</td></tr>\n",
              "\t<tr><td>volkswagen</td><td>passat           </td><td>1.8</td><td>1999</td><td>4</td><td>manual(m5)</td><td>f</td><td>21</td><td>29</td><td>p</td><td>midsize   </td></tr>\n",
              "\t<tr><td>volkswagen</td><td>passat           </td><td>1.8</td><td>1999</td><td>4</td><td>auto(l5)  </td><td>f</td><td>18</td><td>29</td><td>p</td><td>midsize   </td></tr>\n",
              "\t<tr><td>volkswagen</td><td>passat           </td><td>2.0</td><td>2008</td><td>4</td><td>auto(s6)  </td><td>f</td><td>19</td><td>28</td><td>p</td><td>midsize   </td></tr>\n",
              "\t<tr><td>volkswagen</td><td>passat           </td><td>2.0</td><td>2008</td><td>4</td><td>manual(m6)</td><td>f</td><td>21</td><td>29</td><td>p</td><td>midsize   </td></tr>\n",
              "\t<tr><td>volkswagen</td><td>passat           </td><td>2.8</td><td>1999</td><td>6</td><td>auto(l5)  </td><td>f</td><td>16</td><td>26</td><td>p</td><td>midsize   </td></tr>\n",
              "\t<tr><td>volkswagen</td><td>passat           </td><td>2.8</td><td>1999</td><td>6</td><td>manual(m5)</td><td>f</td><td>18</td><td>26</td><td>p</td><td>midsize   </td></tr>\n",
              "\t<tr><td>volkswagen</td><td>passat           </td><td>3.6</td><td>2008</td><td>6</td><td>auto(s6)  </td><td>f</td><td>17</td><td>26</td><td>p</td><td>midsize   </td></tr>\n",
              "</tbody>\n",
              "</table>\n"
            ],
            "text/markdown": "\nA tibble: 234 × 11\n\n| manufacturer &lt;chr&gt; | model &lt;chr&gt; | displ &lt;dbl&gt; | year &lt;int&gt; | cyl &lt;int&gt; | trans &lt;chr&gt; | drv &lt;chr&gt; | cty &lt;int&gt; | hwy &lt;int&gt; | fl &lt;chr&gt; | class &lt;chr&gt; |\n|---|---|---|---|---|---|---|---|---|---|---|\n| audi      | a4                 | 1.8 | 1999 | 4 | auto(l5)   | f | 18 | 29 | p | compact |\n| audi      | a4                 | 1.8 | 1999 | 4 | manual(m5) | f | 21 | 29 | p | compact |\n| audi      | a4                 | 2.0 | 2008 | 4 | manual(m6) | f | 20 | 31 | p | compact |\n| audi      | a4                 | 2.0 | 2008 | 4 | auto(av)   | f | 21 | 30 | p | compact |\n| audi      | a4                 | 2.8 | 1999 | 6 | auto(l5)   | f | 16 | 26 | p | compact |\n| audi      | a4                 | 2.8 | 1999 | 6 | manual(m5) | f | 18 | 26 | p | compact |\n| audi      | a4                 | 3.1 | 2008 | 6 | auto(av)   | f | 18 | 27 | p | compact |\n| audi      | a4 quattro         | 1.8 | 1999 | 4 | manual(m5) | 4 | 18 | 26 | p | compact |\n| audi      | a4 quattro         | 1.8 | 1999 | 4 | auto(l5)   | 4 | 16 | 25 | p | compact |\n| audi      | a4 quattro         | 2.0 | 2008 | 4 | manual(m6) | 4 | 20 | 28 | p | compact |\n| audi      | a4 quattro         | 2.0 | 2008 | 4 | auto(s6)   | 4 | 19 | 27 | p | compact |\n| audi      | a4 quattro         | 2.8 | 1999 | 6 | auto(l5)   | 4 | 15 | 25 | p | compact |\n| audi      | a4 quattro         | 2.8 | 1999 | 6 | manual(m5) | 4 | 17 | 25 | p | compact |\n| audi      | a4 quattro         | 3.1 | 2008 | 6 | auto(s6)   | 4 | 17 | 25 | p | compact |\n| audi      | a4 quattro         | 3.1 | 2008 | 6 | manual(m6) | 4 | 15 | 25 | p | compact |\n| audi      | a6 quattro         | 2.8 | 1999 | 6 | auto(l5)   | 4 | 15 | 24 | p | midsize |\n| audi      | a6 quattro         | 3.1 | 2008 | 6 | auto(s6)   | 4 | 17 | 25 | p | midsize |\n| audi      | a6 quattro         | 4.2 | 2008 | 8 | auto(s6)   | 4 | 16 | 23 | p | midsize |\n| chevrolet | c1500 suburban 2wd | 5.3 | 2008 | 8 | auto(l4)   | r | 14 | 20 | r | suv     |\n| chevrolet | c1500 suburban 2wd | 5.3 | 2008 | 8 | auto(l4)   | r | 11 | 15 | e | suv     |\n| chevrolet | c1500 suburban 2wd | 5.3 | 2008 | 8 | auto(l4)   | r | 14 | 20 | r | suv     |\n| chevrolet | c1500 suburban 2wd | 5.7 | 1999 | 8 | auto(l4)   | r | 13 | 17 | r | suv     |\n| chevrolet | c1500 suburban 2wd | 6.0 | 2008 | 8 | auto(l4)   | r | 12 | 17 | r | suv     |\n| chevrolet | corvette           | 5.7 | 1999 | 8 | manual(m6) | r | 16 | 26 | p | 2seater |\n| chevrolet | corvette           | 5.7 | 1999 | 8 | auto(l4)   | r | 15 | 23 | p | 2seater |\n| chevrolet | corvette           | 6.2 | 2008 | 8 | manual(m6) | r | 16 | 26 | p | 2seater |\n| chevrolet | corvette           | 6.2 | 2008 | 8 | auto(s6)   | r | 15 | 25 | p | 2seater |\n| chevrolet | corvette           | 7.0 | 2008 | 8 | manual(m6) | r | 15 | 24 | p | 2seater |\n| chevrolet | k1500 tahoe 4wd    | 5.3 | 2008 | 8 | auto(l4)   | 4 | 14 | 19 | r | suv     |\n| chevrolet | k1500 tahoe 4wd    | 5.3 | 2008 | 8 | auto(l4)   | 4 | 11 | 14 | e | suv     |\n| ⋮ | ⋮ | ⋮ | ⋮ | ⋮ | ⋮ | ⋮ | ⋮ | ⋮ | ⋮ | ⋮ |\n| toyota     | toyota tacoma 4wd | 3.4 | 1999 | 6 | auto(l4)   | 4 | 15 | 19 | r | pickup     |\n| toyota     | toyota tacoma 4wd | 4.0 | 2008 | 6 | manual(m6) | 4 | 15 | 18 | r | pickup     |\n| toyota     | toyota tacoma 4wd | 4.0 | 2008 | 6 | auto(l5)   | 4 | 16 | 20 | r | pickup     |\n| volkswagen | gti               | 2.0 | 1999 | 4 | manual(m5) | f | 21 | 29 | r | compact    |\n| volkswagen | gti               | 2.0 | 1999 | 4 | auto(l4)   | f | 19 | 26 | r | compact    |\n| volkswagen | gti               | 2.0 | 2008 | 4 | manual(m6) | f | 21 | 29 | p | compact    |\n| volkswagen | gti               | 2.0 | 2008 | 4 | auto(s6)   | f | 22 | 29 | p | compact    |\n| volkswagen | gti               | 2.8 | 1999 | 6 | manual(m5) | f | 17 | 24 | r | compact    |\n| volkswagen | jetta             | 1.9 | 1999 | 4 | manual(m5) | f | 33 | 44 | d | compact    |\n| volkswagen | jetta             | 2.0 | 1999 | 4 | manual(m5) | f | 21 | 29 | r | compact    |\n| volkswagen | jetta             | 2.0 | 1999 | 4 | auto(l4)   | f | 19 | 26 | r | compact    |\n| volkswagen | jetta             | 2.0 | 2008 | 4 | auto(s6)   | f | 22 | 29 | p | compact    |\n| volkswagen | jetta             | 2.0 | 2008 | 4 | manual(m6) | f | 21 | 29 | p | compact    |\n| volkswagen | jetta             | 2.5 | 2008 | 5 | auto(s6)   | f | 21 | 29 | r | compact    |\n| volkswagen | jetta             | 2.5 | 2008 | 5 | manual(m5) | f | 21 | 29 | r | compact    |\n| volkswagen | jetta             | 2.8 | 1999 | 6 | auto(l4)   | f | 16 | 23 | r | compact    |\n| volkswagen | jetta             | 2.8 | 1999 | 6 | manual(m5) | f | 17 | 24 | r | compact    |\n| volkswagen | new beetle        | 1.9 | 1999 | 4 | manual(m5) | f | 35 | 44 | d | subcompact |\n| volkswagen | new beetle        | 1.9 | 1999 | 4 | auto(l4)   | f | 29 | 41 | d | subcompact |\n| volkswagen | new beetle        | 2.0 | 1999 | 4 | manual(m5) | f | 21 | 29 | r | subcompact |\n| volkswagen | new beetle        | 2.0 | 1999 | 4 | auto(l4)   | f | 19 | 26 | r | subcompact |\n| volkswagen | new beetle        | 2.5 | 2008 | 5 | manual(m5) | f | 20 | 28 | r | subcompact |\n| volkswagen | new beetle        | 2.5 | 2008 | 5 | auto(s6)   | f | 20 | 29 | r | subcompact |\n| volkswagen | passat            | 1.8 | 1999 | 4 | manual(m5) | f | 21 | 29 | p | midsize    |\n| volkswagen | passat            | 1.8 | 1999 | 4 | auto(l5)   | f | 18 | 29 | p | midsize    |\n| volkswagen | passat            | 2.0 | 2008 | 4 | auto(s6)   | f | 19 | 28 | p | midsize    |\n| volkswagen | passat            | 2.0 | 2008 | 4 | manual(m6) | f | 21 | 29 | p | midsize    |\n| volkswagen | passat            | 2.8 | 1999 | 6 | auto(l5)   | f | 16 | 26 | p | midsize    |\n| volkswagen | passat            | 2.8 | 1999 | 6 | manual(m5) | f | 18 | 26 | p | midsize    |\n| volkswagen | passat            | 3.6 | 2008 | 6 | auto(s6)   | f | 17 | 26 | p | midsize    |\n\n",
            "text/latex": "A tibble: 234 × 11\n\\begin{tabular}{lllllllllll}\n manufacturer & model & displ & year & cyl & trans & drv & cty & hwy & fl & class\\\\\n <chr> & <chr> & <dbl> & <int> & <int> & <chr> & <chr> & <int> & <int> & <chr> & <chr>\\\\\n\\hline\n\t audi      & a4                 & 1.8 & 1999 & 4 & auto(l5)   & f & 18 & 29 & p & compact\\\\\n\t audi      & a4                 & 1.8 & 1999 & 4 & manual(m5) & f & 21 & 29 & p & compact\\\\\n\t audi      & a4                 & 2.0 & 2008 & 4 & manual(m6) & f & 20 & 31 & p & compact\\\\\n\t audi      & a4                 & 2.0 & 2008 & 4 & auto(av)   & f & 21 & 30 & p & compact\\\\\n\t audi      & a4                 & 2.8 & 1999 & 6 & auto(l5)   & f & 16 & 26 & p & compact\\\\\n\t audi      & a4                 & 2.8 & 1999 & 6 & manual(m5) & f & 18 & 26 & p & compact\\\\\n\t audi      & a4                 & 3.1 & 2008 & 6 & auto(av)   & f & 18 & 27 & p & compact\\\\\n\t audi      & a4 quattro         & 1.8 & 1999 & 4 & manual(m5) & 4 & 18 & 26 & p & compact\\\\\n\t audi      & a4 quattro         & 1.8 & 1999 & 4 & auto(l5)   & 4 & 16 & 25 & p & compact\\\\\n\t audi      & a4 quattro         & 2.0 & 2008 & 4 & manual(m6) & 4 & 20 & 28 & p & compact\\\\\n\t audi      & a4 quattro         & 2.0 & 2008 & 4 & auto(s6)   & 4 & 19 & 27 & p & compact\\\\\n\t audi      & a4 quattro         & 2.8 & 1999 & 6 & auto(l5)   & 4 & 15 & 25 & p & compact\\\\\n\t audi      & a4 quattro         & 2.8 & 1999 & 6 & manual(m5) & 4 & 17 & 25 & p & compact\\\\\n\t audi      & a4 quattro         & 3.1 & 2008 & 6 & auto(s6)   & 4 & 17 & 25 & p & compact\\\\\n\t audi      & a4 quattro         & 3.1 & 2008 & 6 & manual(m6) & 4 & 15 & 25 & p & compact\\\\\n\t audi      & a6 quattro         & 2.8 & 1999 & 6 & auto(l5)   & 4 & 15 & 24 & p & midsize\\\\\n\t audi      & a6 quattro         & 3.1 & 2008 & 6 & auto(s6)   & 4 & 17 & 25 & p & midsize\\\\\n\t audi      & a6 quattro         & 4.2 & 2008 & 8 & auto(s6)   & 4 & 16 & 23 & p & midsize\\\\\n\t chevrolet & c1500 suburban 2wd & 5.3 & 2008 & 8 & auto(l4)   & r & 14 & 20 & r & suv    \\\\\n\t chevrolet & c1500 suburban 2wd & 5.3 & 2008 & 8 & auto(l4)   & r & 11 & 15 & e & suv    \\\\\n\t chevrolet & c1500 suburban 2wd & 5.3 & 2008 & 8 & auto(l4)   & r & 14 & 20 & r & suv    \\\\\n\t chevrolet & c1500 suburban 2wd & 5.7 & 1999 & 8 & auto(l4)   & r & 13 & 17 & r & suv    \\\\\n\t chevrolet & c1500 suburban 2wd & 6.0 & 2008 & 8 & auto(l4)   & r & 12 & 17 & r & suv    \\\\\n\t chevrolet & corvette           & 5.7 & 1999 & 8 & manual(m6) & r & 16 & 26 & p & 2seater\\\\\n\t chevrolet & corvette           & 5.7 & 1999 & 8 & auto(l4)   & r & 15 & 23 & p & 2seater\\\\\n\t chevrolet & corvette           & 6.2 & 2008 & 8 & manual(m6) & r & 16 & 26 & p & 2seater\\\\\n\t chevrolet & corvette           & 6.2 & 2008 & 8 & auto(s6)   & r & 15 & 25 & p & 2seater\\\\\n\t chevrolet & corvette           & 7.0 & 2008 & 8 & manual(m6) & r & 15 & 24 & p & 2seater\\\\\n\t chevrolet & k1500 tahoe 4wd    & 5.3 & 2008 & 8 & auto(l4)   & 4 & 14 & 19 & r & suv    \\\\\n\t chevrolet & k1500 tahoe 4wd    & 5.3 & 2008 & 8 & auto(l4)   & 4 & 11 & 14 & e & suv    \\\\\n\t ⋮ & ⋮ & ⋮ & ⋮ & ⋮ & ⋮ & ⋮ & ⋮ & ⋮ & ⋮ & ⋮\\\\\n\t toyota     & toyota tacoma 4wd & 3.4 & 1999 & 6 & auto(l4)   & 4 & 15 & 19 & r & pickup    \\\\\n\t toyota     & toyota tacoma 4wd & 4.0 & 2008 & 6 & manual(m6) & 4 & 15 & 18 & r & pickup    \\\\\n\t toyota     & toyota tacoma 4wd & 4.0 & 2008 & 6 & auto(l5)   & 4 & 16 & 20 & r & pickup    \\\\\n\t volkswagen & gti               & 2.0 & 1999 & 4 & manual(m5) & f & 21 & 29 & r & compact   \\\\\n\t volkswagen & gti               & 2.0 & 1999 & 4 & auto(l4)   & f & 19 & 26 & r & compact   \\\\\n\t volkswagen & gti               & 2.0 & 2008 & 4 & manual(m6) & f & 21 & 29 & p & compact   \\\\\n\t volkswagen & gti               & 2.0 & 2008 & 4 & auto(s6)   & f & 22 & 29 & p & compact   \\\\\n\t volkswagen & gti               & 2.8 & 1999 & 6 & manual(m5) & f & 17 & 24 & r & compact   \\\\\n\t volkswagen & jetta             & 1.9 & 1999 & 4 & manual(m5) & f & 33 & 44 & d & compact   \\\\\n\t volkswagen & jetta             & 2.0 & 1999 & 4 & manual(m5) & f & 21 & 29 & r & compact   \\\\\n\t volkswagen & jetta             & 2.0 & 1999 & 4 & auto(l4)   & f & 19 & 26 & r & compact   \\\\\n\t volkswagen & jetta             & 2.0 & 2008 & 4 & auto(s6)   & f & 22 & 29 & p & compact   \\\\\n\t volkswagen & jetta             & 2.0 & 2008 & 4 & manual(m6) & f & 21 & 29 & p & compact   \\\\\n\t volkswagen & jetta             & 2.5 & 2008 & 5 & auto(s6)   & f & 21 & 29 & r & compact   \\\\\n\t volkswagen & jetta             & 2.5 & 2008 & 5 & manual(m5) & f & 21 & 29 & r & compact   \\\\\n\t volkswagen & jetta             & 2.8 & 1999 & 6 & auto(l4)   & f & 16 & 23 & r & compact   \\\\\n\t volkswagen & jetta             & 2.8 & 1999 & 6 & manual(m5) & f & 17 & 24 & r & compact   \\\\\n\t volkswagen & new beetle        & 1.9 & 1999 & 4 & manual(m5) & f & 35 & 44 & d & subcompact\\\\\n\t volkswagen & new beetle        & 1.9 & 1999 & 4 & auto(l4)   & f & 29 & 41 & d & subcompact\\\\\n\t volkswagen & new beetle        & 2.0 & 1999 & 4 & manual(m5) & f & 21 & 29 & r & subcompact\\\\\n\t volkswagen & new beetle        & 2.0 & 1999 & 4 & auto(l4)   & f & 19 & 26 & r & subcompact\\\\\n\t volkswagen & new beetle        & 2.5 & 2008 & 5 & manual(m5) & f & 20 & 28 & r & subcompact\\\\\n\t volkswagen & new beetle        & 2.5 & 2008 & 5 & auto(s6)   & f & 20 & 29 & r & subcompact\\\\\n\t volkswagen & passat            & 1.8 & 1999 & 4 & manual(m5) & f & 21 & 29 & p & midsize   \\\\\n\t volkswagen & passat            & 1.8 & 1999 & 4 & auto(l5)   & f & 18 & 29 & p & midsize   \\\\\n\t volkswagen & passat            & 2.0 & 2008 & 4 & auto(s6)   & f & 19 & 28 & p & midsize   \\\\\n\t volkswagen & passat            & 2.0 & 2008 & 4 & manual(m6) & f & 21 & 29 & p & midsize   \\\\\n\t volkswagen & passat            & 2.8 & 1999 & 6 & auto(l5)   & f & 16 & 26 & p & midsize   \\\\\n\t volkswagen & passat            & 2.8 & 1999 & 6 & manual(m5) & f & 18 & 26 & p & midsize   \\\\\n\t volkswagen & passat            & 3.6 & 2008 & 6 & auto(s6)   & f & 17 & 26 & p & midsize   \\\\\n\\end{tabular}\n",
            "text/plain": [
              "    manufacturer model              displ year cyl trans      drv cty hwy fl\n",
              "1   audi         a4                 1.8   1999 4   auto(l5)   f   18  29  p \n",
              "2   audi         a4                 1.8   1999 4   manual(m5) f   21  29  p \n",
              "3   audi         a4                 2.0   2008 4   manual(m6) f   20  31  p \n",
              "4   audi         a4                 2.0   2008 4   auto(av)   f   21  30  p \n",
              "5   audi         a4                 2.8   1999 6   auto(l5)   f   16  26  p \n",
              "6   audi         a4                 2.8   1999 6   manual(m5) f   18  26  p \n",
              "7   audi         a4                 3.1   2008 6   auto(av)   f   18  27  p \n",
              "8   audi         a4 quattro         1.8   1999 4   manual(m5) 4   18  26  p \n",
              "9   audi         a4 quattro         1.8   1999 4   auto(l5)   4   16  25  p \n",
              "10  audi         a4 quattro         2.0   2008 4   manual(m6) 4   20  28  p \n",
              "11  audi         a4 quattro         2.0   2008 4   auto(s6)   4   19  27  p \n",
              "12  audi         a4 quattro         2.8   1999 6   auto(l5)   4   15  25  p \n",
              "13  audi         a4 quattro         2.8   1999 6   manual(m5) 4   17  25  p \n",
              "14  audi         a4 quattro         3.1   2008 6   auto(s6)   4   17  25  p \n",
              "15  audi         a4 quattro         3.1   2008 6   manual(m6) 4   15  25  p \n",
              "16  audi         a6 quattro         2.8   1999 6   auto(l5)   4   15  24  p \n",
              "17  audi         a6 quattro         3.1   2008 6   auto(s6)   4   17  25  p \n",
              "18  audi         a6 quattro         4.2   2008 8   auto(s6)   4   16  23  p \n",
              "19  chevrolet    c1500 suburban 2wd 5.3   2008 8   auto(l4)   r   14  20  r \n",
              "20  chevrolet    c1500 suburban 2wd 5.3   2008 8   auto(l4)   r   11  15  e \n",
              "21  chevrolet    c1500 suburban 2wd 5.3   2008 8   auto(l4)   r   14  20  r \n",
              "22  chevrolet    c1500 suburban 2wd 5.7   1999 8   auto(l4)   r   13  17  r \n",
              "23  chevrolet    c1500 suburban 2wd 6.0   2008 8   auto(l4)   r   12  17  r \n",
              "24  chevrolet    corvette           5.7   1999 8   manual(m6) r   16  26  p \n",
              "25  chevrolet    corvette           5.7   1999 8   auto(l4)   r   15  23  p \n",
              "26  chevrolet    corvette           6.2   2008 8   manual(m6) r   16  26  p \n",
              "27  chevrolet    corvette           6.2   2008 8   auto(s6)   r   15  25  p \n",
              "28  chevrolet    corvette           7.0   2008 8   manual(m6) r   15  24  p \n",
              "29  chevrolet    k1500 tahoe 4wd    5.3   2008 8   auto(l4)   4   14  19  r \n",
              "30  chevrolet    k1500 tahoe 4wd    5.3   2008 8   auto(l4)   4   11  14  e \n",
              "⋮   ⋮            ⋮                  ⋮     ⋮    ⋮   ⋮          ⋮   ⋮   ⋮   ⋮ \n",
              "205 toyota       toyota tacoma 4wd  3.4   1999 6   auto(l4)   4   15  19  r \n",
              "206 toyota       toyota tacoma 4wd  4.0   2008 6   manual(m6) 4   15  18  r \n",
              "207 toyota       toyota tacoma 4wd  4.0   2008 6   auto(l5)   4   16  20  r \n",
              "208 volkswagen   gti                2.0   1999 4   manual(m5) f   21  29  r \n",
              "209 volkswagen   gti                2.0   1999 4   auto(l4)   f   19  26  r \n",
              "210 volkswagen   gti                2.0   2008 4   manual(m6) f   21  29  p \n",
              "211 volkswagen   gti                2.0   2008 4   auto(s6)   f   22  29  p \n",
              "212 volkswagen   gti                2.8   1999 6   manual(m5) f   17  24  r \n",
              "213 volkswagen   jetta              1.9   1999 4   manual(m5) f   33  44  d \n",
              "214 volkswagen   jetta              2.0   1999 4   manual(m5) f   21  29  r \n",
              "215 volkswagen   jetta              2.0   1999 4   auto(l4)   f   19  26  r \n",
              "216 volkswagen   jetta              2.0   2008 4   auto(s6)   f   22  29  p \n",
              "217 volkswagen   jetta              2.0   2008 4   manual(m6) f   21  29  p \n",
              "218 volkswagen   jetta              2.5   2008 5   auto(s6)   f   21  29  r \n",
              "219 volkswagen   jetta              2.5   2008 5   manual(m5) f   21  29  r \n",
              "220 volkswagen   jetta              2.8   1999 6   auto(l4)   f   16  23  r \n",
              "221 volkswagen   jetta              2.8   1999 6   manual(m5) f   17  24  r \n",
              "222 volkswagen   new beetle         1.9   1999 4   manual(m5) f   35  44  d \n",
              "223 volkswagen   new beetle         1.9   1999 4   auto(l4)   f   29  41  d \n",
              "224 volkswagen   new beetle         2.0   1999 4   manual(m5) f   21  29  r \n",
              "225 volkswagen   new beetle         2.0   1999 4   auto(l4)   f   19  26  r \n",
              "226 volkswagen   new beetle         2.5   2008 5   manual(m5) f   20  28  r \n",
              "227 volkswagen   new beetle         2.5   2008 5   auto(s6)   f   20  29  r \n",
              "228 volkswagen   passat             1.8   1999 4   manual(m5) f   21  29  p \n",
              "229 volkswagen   passat             1.8   1999 4   auto(l5)   f   18  29  p \n",
              "230 volkswagen   passat             2.0   2008 4   auto(s6)   f   19  28  p \n",
              "231 volkswagen   passat             2.0   2008 4   manual(m6) f   21  29  p \n",
              "232 volkswagen   passat             2.8   1999 6   auto(l5)   f   16  26  p \n",
              "233 volkswagen   passat             2.8   1999 6   manual(m5) f   18  26  p \n",
              "234 volkswagen   passat             3.6   2008 6   auto(s6)   f   17  26  p \n",
              "    class     \n",
              "1   compact   \n",
              "2   compact   \n",
              "3   compact   \n",
              "4   compact   \n",
              "5   compact   \n",
              "6   compact   \n",
              "7   compact   \n",
              "8   compact   \n",
              "9   compact   \n",
              "10  compact   \n",
              "11  compact   \n",
              "12  compact   \n",
              "13  compact   \n",
              "14  compact   \n",
              "15  compact   \n",
              "16  midsize   \n",
              "17  midsize   \n",
              "18  midsize   \n",
              "19  suv       \n",
              "20  suv       \n",
              "21  suv       \n",
              "22  suv       \n",
              "23  suv       \n",
              "24  2seater   \n",
              "25  2seater   \n",
              "26  2seater   \n",
              "27  2seater   \n",
              "28  2seater   \n",
              "29  suv       \n",
              "30  suv       \n",
              "⋮   ⋮         \n",
              "205 pickup    \n",
              "206 pickup    \n",
              "207 pickup    \n",
              "208 compact   \n",
              "209 compact   \n",
              "210 compact   \n",
              "211 compact   \n",
              "212 compact   \n",
              "213 compact   \n",
              "214 compact   \n",
              "215 compact   \n",
              "216 compact   \n",
              "217 compact   \n",
              "218 compact   \n",
              "219 compact   \n",
              "220 compact   \n",
              "221 compact   \n",
              "222 subcompact\n",
              "223 subcompact\n",
              "224 subcompact\n",
              "225 subcompact\n",
              "226 subcompact\n",
              "227 subcompact\n",
              "228 midsize   \n",
              "229 midsize   \n",
              "230 midsize   \n",
              "231 midsize   \n",
              "232 midsize   \n",
              "233 midsize   \n",
              "234 midsize   "
            ]
          },
          "metadata": {}
        }
      ]
    },
    {
      "cell_type": "code",
      "metadata": {
        "id": "MtiFc4yphXUJ",
        "outputId": "f917fc55-64ae-452b-b018-95c372097f8a",
        "colab": {
          "base_uri": "https://localhost:8080/",
          "height": 437
        }
      },
      "source": [
        "# gráfico de barras\n",
        "ggplot(diamonds, aes(x =cut)) +\n",
        "  geom_bar()"
      ],
      "execution_count": null,
      "outputs": [
        {
          "output_type": "display_data",
          "data": {
            "text/plain": [
              "plot without title"
            ],
            "image/png": "[encoded data removed]"
          },
          "metadata": {
            "image/png": {
              "width": 420,
              "height": 420
            }
          }
        }
      ]
    },
    {
      "cell_type": "markdown",
      "metadata": {
        "id": "gH-nRySo3Tzi"
      },
      "source": [
        "#Tibble\n",
        "\n",
        "'''Tibbles são com dataframes, entretanto, apresentam melhorias de produtividade'''"
      ]
    },
    {
      "cell_type": "markdown",
      "metadata": {
        "id": "Tc9GCC6B4J0i"
      },
      "source": [
        "#DPLYR\n",
        "\n",
        "'''Pacote mais usado para transformação de dados'''\n",
        "\n",
        "file:///home/fgalvao77/Downloads/data-transformation.pdf\n",
        "\n",
        "https://github.com/rstudio/cheatsheets/blob/master/data-transformation.pdf"
      ]
    },
    {
      "cell_type": "code",
      "metadata": {
        "id": "W1voAxB6hXPD",
        "outputId": "e6f2d597-bb96-43a7-e582-9be043573859",
        "colab": {
          "base_uri": "https://localhost:8080/",
          "height": 537
        }
      },
      "source": [
        "library(dplyr)\n",
        "\n",
        "mtcars %>%\n",
        "  filter(mpg > 20)"
      ],
      "execution_count": null,
      "outputs": [
        {
          "output_type": "display_data",
          "data": {
            "text/html": [
              "<table class=\"dataframe\">\n",
              "<caption>A data.frame: 14 × 11</caption>\n",
              "<thead>\n",
              "\t<tr><th></th><th scope=col>mpg</th><th scope=col>cyl</th><th scope=col>disp</th><th scope=col>hp</th><th scope=col>drat</th><th scope=col>wt</th><th scope=col>qsec</th><th scope=col>vs</th><th scope=col>am</th><th scope=col>gear</th><th scope=col>carb</th></tr>\n",
              "\t<tr><th></th><th scope=col>&lt;dbl&gt;</th><th scope=col>&lt;dbl&gt;</th><th scope=col>&lt;dbl&gt;</th><th scope=col>&lt;dbl&gt;</th><th scope=col>&lt;dbl&gt;</th><th scope=col>&lt;dbl&gt;</th><th scope=col>&lt;dbl&gt;</th><th scope=col>&lt;dbl&gt;</th><th scope=col>&lt;dbl&gt;</th><th scope=col>&lt;dbl&gt;</th><th scope=col>&lt;dbl&gt;</th></tr>\n",
              "</thead>\n",
              "<tbody>\n",
              "\t<tr><th scope=row>Mazda RX4</th><td>21.0</td><td>6</td><td>160.0</td><td>110</td><td>3.90</td><td>2.620</td><td>16.46</td><td>0</td><td>1</td><td>4</td><td>4</td></tr>\n",
              "\t<tr><th scope=row>Mazda RX4 Wag</th><td>21.0</td><td>6</td><td>160.0</td><td>110</td><td>3.90</td><td>2.875</td><td>17.02</td><td>0</td><td>1</td><td>4</td><td>4</td></tr>\n",
              "\t<tr><th scope=row>Datsun 710</th><td>22.8</td><td>4</td><td>108.0</td><td> 93</td><td>3.85</td><td>2.320</td><td>18.61</td><td>1</td><td>1</td><td>4</td><td>1</td></tr>\n",
              "\t<tr><th scope=row>Hornet 4 Drive</th><td>21.4</td><td>6</td><td>258.0</td><td>110</td><td>3.08</td><td>3.215</td><td>19.44</td><td>1</td><td>0</td><td>3</td><td>1</td></tr>\n",
              "\t<tr><th scope=row>Merc 240D</th><td>24.4</td><td>4</td><td>146.7</td><td> 62</td><td>3.69</td><td>3.190</td><td>20.00</td><td>1</td><td>0</td><td>4</td><td>2</td></tr>\n",
              "\t<tr><th scope=row>Merc 230</th><td>22.8</td><td>4</td><td>140.8</td><td> 95</td><td>3.92</td><td>3.150</td><td>22.90</td><td>1</td><td>0</td><td>4</td><td>2</td></tr>\n",
              "\t<tr><th scope=row>Fiat 128</th><td>32.4</td><td>4</td><td> 78.7</td><td> 66</td><td>4.08</td><td>2.200</td><td>19.47</td><td>1</td><td>1</td><td>4</td><td>1</td></tr>\n",
              "\t<tr><th scope=row>Honda Civic</th><td>30.4</td><td>4</td><td> 75.7</td><td> 52</td><td>4.93</td><td>1.615</td><td>18.52</td><td>1</td><td>1</td><td>4</td><td>2</td></tr>\n",
              "\t<tr><th scope=row>Toyota Corolla</th><td>33.9</td><td>4</td><td> 71.1</td><td> 65</td><td>4.22</td><td>1.835</td><td>19.90</td><td>1</td><td>1</td><td>4</td><td>1</td></tr>\n",
              "\t<tr><th scope=row>Toyota Corona</th><td>21.5</td><td>4</td><td>120.1</td><td> 97</td><td>3.70</td><td>2.465</td><td>20.01</td><td>1</td><td>0</td><td>3</td><td>1</td></tr>\n",
              "\t<tr><th scope=row>Fiat X1-9</th><td>27.3</td><td>4</td><td> 79.0</td><td> 66</td><td>4.08</td><td>1.935</td><td>18.90</td><td>1</td><td>1</td><td>4</td><td>1</td></tr>\n",
              "\t<tr><th scope=row>Porsche 914-2</th><td>26.0</td><td>4</td><td>120.3</td><td> 91</td><td>4.43</td><td>2.140</td><td>16.70</td><td>0</td><td>1</td><td>5</td><td>2</td></tr>\n",
              "\t<tr><th scope=row>Lotus Europa</th><td>30.4</td><td>4</td><td> 95.1</td><td>113</td><td>3.77</td><td>1.513</td><td>16.90</td><td>1</td><td>1</td><td>5</td><td>2</td></tr>\n",
              "\t<tr><th scope=row>Volvo 142E</th><td>21.4</td><td>4</td><td>121.0</td><td>109</td><td>4.11</td><td>2.780</td><td>18.60</td><td>1</td><td>1</td><td>4</td><td>2</td></tr>\n",
              "</tbody>\n",
              "</table>\n"
            ],
            "text/markdown": "\nA data.frame: 14 × 11\n\n| <!--/--> | mpg &lt;dbl&gt; | cyl &lt;dbl&gt; | disp &lt;dbl&gt; | hp &lt;dbl&gt; | drat &lt;dbl&gt; | wt &lt;dbl&gt; | qsec &lt;dbl&gt; | vs &lt;dbl&gt; | am &lt;dbl&gt; | gear &lt;dbl&gt; | carb &lt;dbl&gt; |\n|---|---|---|---|---|---|---|---|---|---|---|---|\n| Mazda RX4 | 21.0 | 6 | 160.0 | 110 | 3.90 | 2.620 | 16.46 | 0 | 1 | 4 | 4 |\n| Mazda RX4 Wag | 21.0 | 6 | 160.0 | 110 | 3.90 | 2.875 | 17.02 | 0 | 1 | 4 | 4 |\n| Datsun 710 | 22.8 | 4 | 108.0 |  93 | 3.85 | 2.320 | 18.61 | 1 | 1 | 4 | 1 |\n| Hornet 4 Drive | 21.4 | 6 | 258.0 | 110 | 3.08 | 3.215 | 19.44 | 1 | 0 | 3 | 1 |\n| Merc 240D | 24.4 | 4 | 146.7 |  62 | 3.69 | 3.190 | 20.00 | 1 | 0 | 4 | 2 |\n| Merc 230 | 22.8 | 4 | 140.8 |  95 | 3.92 | 3.150 | 22.90 | 1 | 0 | 4 | 2 |\n| Fiat 128 | 32.4 | 4 |  78.7 |  66 | 4.08 | 2.200 | 19.47 | 1 | 1 | 4 | 1 |\n| Honda Civic | 30.4 | 4 |  75.7 |  52 | 4.93 | 1.615 | 18.52 | 1 | 1 | 4 | 2 |\n| Toyota Corolla | 33.9 | 4 |  71.1 |  65 | 4.22 | 1.835 | 19.90 | 1 | 1 | 4 | 1 |\n| Toyota Corona | 21.5 | 4 | 120.1 |  97 | 3.70 | 2.465 | 20.01 | 1 | 0 | 3 | 1 |\n| Fiat X1-9 | 27.3 | 4 |  79.0 |  66 | 4.08 | 1.935 | 18.90 | 1 | 1 | 4 | 1 |\n| Porsche 914-2 | 26.0 | 4 | 120.3 |  91 | 4.43 | 2.140 | 16.70 | 0 | 1 | 5 | 2 |\n| Lotus Europa | 30.4 | 4 |  95.1 | 113 | 3.77 | 1.513 | 16.90 | 1 | 1 | 5 | 2 |\n| Volvo 142E | 21.4 | 4 | 121.0 | 109 | 4.11 | 2.780 | 18.60 | 1 | 1 | 4 | 2 |\n\n",
            "text/latex": "A data.frame: 14 × 11\n\\begin{tabular}{r|lllllllllll}\n  & mpg & cyl & disp & hp & drat & wt & qsec & vs & am & gear & carb\\\\\n  & <dbl> & <dbl> & <dbl> & <dbl> & <dbl> & <dbl> & <dbl> & <dbl> & <dbl> & <dbl> & <dbl>\\\\\n\\hline\n\tMazda RX4 & 21.0 & 6 & 160.0 & 110 & 3.90 & 2.620 & 16.46 & 0 & 1 & 4 & 4\\\\\n\tMazda RX4 Wag & 21.0 & 6 & 160.0 & 110 & 3.90 & 2.875 & 17.02 & 0 & 1 & 4 & 4\\\\\n\tDatsun 710 & 22.8 & 4 & 108.0 &  93 & 3.85 & 2.320 & 18.61 & 1 & 1 & 4 & 1\\\\\n\tHornet 4 Drive & 21.4 & 6 & 258.0 & 110 & 3.08 & 3.215 & 19.44 & 1 & 0 & 3 & 1\\\\\n\tMerc 240D & 24.4 & 4 & 146.7 &  62 & 3.69 & 3.190 & 20.00 & 1 & 0 & 4 & 2\\\\\n\tMerc 230 & 22.8 & 4 & 140.8 &  95 & 3.92 & 3.150 & 22.90 & 1 & 0 & 4 & 2\\\\\n\tFiat 128 & 32.4 & 4 &  78.7 &  66 & 4.08 & 2.200 & 19.47 & 1 & 1 & 4 & 1\\\\\n\tHonda Civic & 30.4 & 4 &  75.7 &  52 & 4.93 & 1.615 & 18.52 & 1 & 1 & 4 & 2\\\\\n\tToyota Corolla & 33.9 & 4 &  71.1 &  65 & 4.22 & 1.835 & 19.90 & 1 & 1 & 4 & 1\\\\\n\tToyota Corona & 21.5 & 4 & 120.1 &  97 & 3.70 & 2.465 & 20.01 & 1 & 0 & 3 & 1\\\\\n\tFiat X1-9 & 27.3 & 4 &  79.0 &  66 & 4.08 & 1.935 & 18.90 & 1 & 1 & 4 & 1\\\\\n\tPorsche 914-2 & 26.0 & 4 & 120.3 &  91 & 4.43 & 2.140 & 16.70 & 0 & 1 & 5 & 2\\\\\n\tLotus Europa & 30.4 & 4 &  95.1 & 113 & 3.77 & 1.513 & 16.90 & 1 & 1 & 5 & 2\\\\\n\tVolvo 142E & 21.4 & 4 & 121.0 & 109 & 4.11 & 2.780 & 18.60 & 1 & 1 & 4 & 2\\\\\n\\end{tabular}\n",
            "text/plain": [
              "               mpg  cyl disp  hp  drat wt    qsec  vs am gear carb\n",
              "Mazda RX4      21.0 6   160.0 110 3.90 2.620 16.46 0  1  4    4   \n",
              "Mazda RX4 Wag  21.0 6   160.0 110 3.90 2.875 17.02 0  1  4    4   \n",
              "Datsun 710     22.8 4   108.0  93 3.85 2.320 18.61 1  1  4    1   \n",
              "Hornet 4 Drive 21.4 6   258.0 110 3.08 3.215 19.44 1  0  3    1   \n",
              "Merc 240D      24.4 4   146.7  62 3.69 3.190 20.00 1  0  4    2   \n",
              "Merc 230       22.8 4   140.8  95 3.92 3.150 22.90 1  0  4    2   \n",
              "Fiat 128       32.4 4    78.7  66 4.08 2.200 19.47 1  1  4    1   \n",
              "Honda Civic    30.4 4    75.7  52 4.93 1.615 18.52 1  1  4    2   \n",
              "Toyota Corolla 33.9 4    71.1  65 4.22 1.835 19.90 1  1  4    1   \n",
              "Toyota Corona  21.5 4   120.1  97 3.70 2.465 20.01 1  0  3    1   \n",
              "Fiat X1-9      27.3 4    79.0  66 4.08 1.935 18.90 1  1  4    1   \n",
              "Porsche 914-2  26.0 4   120.3  91 4.43 2.140 16.70 0  1  5    2   \n",
              "Lotus Europa   30.4 4    95.1 113 3.77 1.513 16.90 1  1  5    2   \n",
              "Volvo 142E     21.4 4   121.0 109 4.11 2.780 18.60 1  1  4    2   "
            ]
          },
          "metadata": {}
        }
      ]
    },
    {
      "cell_type": "code",
      "metadata": {
        "id": "FMeHN-1AhXNx",
        "outputId": "1923d562-9388-4677-be8b-02c5a1f97de8",
        "colab": {
          "base_uri": "https://localhost:8080/",
          "height": 1000
        }
      },
      "source": [
        "mtcars %>%\n",
        "  select(mpg)"
      ],
      "execution_count": null,
      "outputs": [
        {
          "output_type": "display_data",
          "data": {
            "text/html": [
              "<table class=\"dataframe\">\n",
              "<caption>A data.frame: 32 × 1</caption>\n",
              "<thead>\n",
              "\t<tr><th></th><th scope=col>mpg</th></tr>\n",
              "\t<tr><th></th><th scope=col>&lt;dbl&gt;</th></tr>\n",
              "</thead>\n",
              "<tbody>\n",
              "\t<tr><th scope=row>Mazda RX4</th><td>21.0</td></tr>\n",
              "\t<tr><th scope=row>Mazda RX4 Wag</th><td>21.0</td></tr>\n",
              "\t<tr><th scope=row>Datsun 710</th><td>22.8</td></tr>\n",
              "\t<tr><th scope=row>Hornet 4 Drive</th><td>21.4</td></tr>\n",
              "\t<tr><th scope=row>Hornet Sportabout</th><td>18.7</td></tr>\n",
              "\t<tr><th scope=row>Valiant</th><td>18.1</td></tr>\n",
              "\t<tr><th scope=row>Duster 360</th><td>14.3</td></tr>\n",
              "\t<tr><th scope=row>Merc 240D</th><td>24.4</td></tr>\n",
              "\t<tr><th scope=row>Merc 230</th><td>22.8</td></tr>\n",
              "\t<tr><th scope=row>Merc 280</th><td>19.2</td></tr>\n",
              "\t<tr><th scope=row>Merc 280C</th><td>17.8</td></tr>\n",
              "\t<tr><th scope=row>Merc 450SE</th><td>16.4</td></tr>\n",
              "\t<tr><th scope=row>Merc 450SL</th><td>17.3</td></tr>\n",
              "\t<tr><th scope=row>Merc 450SLC</th><td>15.2</td></tr>\n",
              "\t<tr><th scope=row>Cadillac Fleetwood</th><td>10.4</td></tr>\n",
              "\t<tr><th scope=row>Lincoln Continental</th><td>10.4</td></tr>\n",
              "\t<tr><th scope=row>Chrysler Imperial</th><td>14.7</td></tr>\n",
              "\t<tr><th scope=row>Fiat 128</th><td>32.4</td></tr>\n",
              "\t<tr><th scope=row>Honda Civic</th><td>30.4</td></tr>\n",
              "\t<tr><th scope=row>Toyota Corolla</th><td>33.9</td></tr>\n",
              "\t<tr><th scope=row>Toyota Corona</th><td>21.5</td></tr>\n",
              "\t<tr><th scope=row>Dodge Challenger</th><td>15.5</td></tr>\n",
              "\t<tr><th scope=row>AMC Javelin</th><td>15.2</td></tr>\n",
              "\t<tr><th scope=row>Camaro Z28</th><td>13.3</td></tr>\n",
              "\t<tr><th scope=row>Pontiac Firebird</th><td>19.2</td></tr>\n",
              "\t<tr><th scope=row>Fiat X1-9</th><td>27.3</td></tr>\n",
              "\t<tr><th scope=row>Porsche 914-2</th><td>26.0</td></tr>\n",
              "\t<tr><th scope=row>Lotus Europa</th><td>30.4</td></tr>\n",
              "\t<tr><th scope=row>Ford Pantera L</th><td>15.8</td></tr>\n",
              "\t<tr><th scope=row>Ferrari Dino</th><td>19.7</td></tr>\n",
              "\t<tr><th scope=row>Maserati Bora</th><td>15.0</td></tr>\n",
              "\t<tr><th scope=row>Volvo 142E</th><td>21.4</td></tr>\n",
              "</tbody>\n",
              "</table>\n"
            ],
            "text/markdown": "\nA data.frame: 32 × 1\n\n| <!--/--> | mpg &lt;dbl&gt; |\n|---|---|\n| Mazda RX4 | 21.0 |\n| Mazda RX4 Wag | 21.0 |\n| Datsun 710 | 22.8 |\n| Hornet 4 Drive | 21.4 |\n| Hornet Sportabout | 18.7 |\n| Valiant | 18.1 |\n| Duster 360 | 14.3 |\n| Merc 240D | 24.4 |\n| Merc 230 | 22.8 |\n| Merc 280 | 19.2 |\n| Merc 280C | 17.8 |\n| Merc 450SE | 16.4 |\n| Merc 450SL | 17.3 |\n| Merc 450SLC | 15.2 |\n| Cadillac Fleetwood | 10.4 |\n| Lincoln Continental | 10.4 |\n| Chrysler Imperial | 14.7 |\n| Fiat 128 | 32.4 |\n| Honda Civic | 30.4 |\n| Toyota Corolla | 33.9 |\n| Toyota Corona | 21.5 |\n| Dodge Challenger | 15.5 |\n| AMC Javelin | 15.2 |\n| Camaro Z28 | 13.3 |\n| Pontiac Firebird | 19.2 |\n| Fiat X1-9 | 27.3 |\n| Porsche 914-2 | 26.0 |\n| Lotus Europa | 30.4 |\n| Ford Pantera L | 15.8 |\n| Ferrari Dino | 19.7 |\n| Maserati Bora | 15.0 |\n| Volvo 142E | 21.4 |\n\n",
            "text/latex": "A data.frame: 32 × 1\n\\begin{tabular}{r|l}\n  & mpg\\\\\n  & <dbl>\\\\\n\\hline\n\tMazda RX4 & 21.0\\\\\n\tMazda RX4 Wag & 21.0\\\\\n\tDatsun 710 & 22.8\\\\\n\tHornet 4 Drive & 21.4\\\\\n\tHornet Sportabout & 18.7\\\\\n\tValiant & 18.1\\\\\n\tDuster 360 & 14.3\\\\\n\tMerc 240D & 24.4\\\\\n\tMerc 230 & 22.8\\\\\n\tMerc 280 & 19.2\\\\\n\tMerc 280C & 17.8\\\\\n\tMerc 450SE & 16.4\\\\\n\tMerc 450SL & 17.3\\\\\n\tMerc 450SLC & 15.2\\\\\n\tCadillac Fleetwood & 10.4\\\\\n\tLincoln Continental & 10.4\\\\\n\tChrysler Imperial & 14.7\\\\\n\tFiat 128 & 32.4\\\\\n\tHonda Civic & 30.4\\\\\n\tToyota Corolla & 33.9\\\\\n\tToyota Corona & 21.5\\\\\n\tDodge Challenger & 15.5\\\\\n\tAMC Javelin & 15.2\\\\\n\tCamaro Z28 & 13.3\\\\\n\tPontiac Firebird & 19.2\\\\\n\tFiat X1-9 & 27.3\\\\\n\tPorsche 914-2 & 26.0\\\\\n\tLotus Europa & 30.4\\\\\n\tFord Pantera L & 15.8\\\\\n\tFerrari Dino & 19.7\\\\\n\tMaserati Bora & 15.0\\\\\n\tVolvo 142E & 21.4\\\\\n\\end{tabular}\n",
            "text/plain": [
              "                    mpg \n",
              "Mazda RX4           21.0\n",
              "Mazda RX4 Wag       21.0\n",
              "Datsun 710          22.8\n",
              "Hornet 4 Drive      21.4\n",
              "Hornet Sportabout   18.7\n",
              "Valiant             18.1\n",
              "Duster 360          14.3\n",
              "Merc 240D           24.4\n",
              "Merc 230            22.8\n",
              "Merc 280            19.2\n",
              "Merc 280C           17.8\n",
              "Merc 450SE          16.4\n",
              "Merc 450SL          17.3\n",
              "Merc 450SLC         15.2\n",
              "Cadillac Fleetwood  10.4\n",
              "Lincoln Continental 10.4\n",
              "Chrysler Imperial   14.7\n",
              "Fiat 128            32.4\n",
              "Honda Civic         30.4\n",
              "Toyota Corolla      33.9\n",
              "Toyota Corona       21.5\n",
              "Dodge Challenger    15.5\n",
              "AMC Javelin         15.2\n",
              "Camaro Z28          13.3\n",
              "Pontiac Firebird    19.2\n",
              "Fiat X1-9           27.3\n",
              "Porsche 914-2       26.0\n",
              "Lotus Europa        30.4\n",
              "Ford Pantera L      15.8\n",
              "Ferrari Dino        19.7\n",
              "Maserati Bora       15.0\n",
              "Volvo 142E          21.4"
            ]
          },
          "metadata": {}
        }
      ]
    },
    {
      "cell_type": "code",
      "metadata": {
        "id": "Uv8IA4XIhXJ4",
        "outputId": "330eda72-7e8e-4425-c1b6-67154d21c827",
        "colab": {
          "base_uri": "https://localhost:8080/",
          "height": 1000
        }
      },
      "source": [
        "mtcars %>%\n",
        "  mutate(\n",
        "    economy = ifelse(mpg>20,\"CARRO ECONÔMICO\",\"CARRO BEBERÃO\")\n",
        "  ) %>%\n",
        "  select(mpg, economy)"
      ],
      "execution_count": null,
      "outputs": [
        {
          "output_type": "display_data",
          "data": {
            "text/html": [
              "<table class=\"dataframe\">\n",
              "<caption>A data.frame: 32 × 2</caption>\n",
              "<thead>\n",
              "\t<tr><th></th><th scope=col>mpg</th><th scope=col>economy</th></tr>\n",
              "\t<tr><th></th><th scope=col>&lt;dbl&gt;</th><th scope=col>&lt;chr&gt;</th></tr>\n",
              "</thead>\n",
              "<tbody>\n",
              "\t<tr><th scope=row>Mazda RX4</th><td>21.0</td><td>CARRO ECONÔMICO</td></tr>\n",
              "\t<tr><th scope=row>Mazda RX4 Wag</th><td>21.0</td><td>CARRO ECONÔMICO</td></tr>\n",
              "\t<tr><th scope=row>Datsun 710</th><td>22.8</td><td>CARRO ECONÔMICO</td></tr>\n",
              "\t<tr><th scope=row>Hornet 4 Drive</th><td>21.4</td><td>CARRO ECONÔMICO</td></tr>\n",
              "\t<tr><th scope=row>Hornet Sportabout</th><td>18.7</td><td>CARRO BEBERÃO  </td></tr>\n",
              "\t<tr><th scope=row>Valiant</th><td>18.1</td><td>CARRO BEBERÃO  </td></tr>\n",
              "\t<tr><th scope=row>Duster 360</th><td>14.3</td><td>CARRO BEBERÃO  </td></tr>\n",
              "\t<tr><th scope=row>Merc 240D</th><td>24.4</td><td>CARRO ECONÔMICO</td></tr>\n",
              "\t<tr><th scope=row>Merc 230</th><td>22.8</td><td>CARRO ECONÔMICO</td></tr>\n",
              "\t<tr><th scope=row>Merc 280</th><td>19.2</td><td>CARRO BEBERÃO  </td></tr>\n",
              "\t<tr><th scope=row>Merc 280C</th><td>17.8</td><td>CARRO BEBERÃO  </td></tr>\n",
              "\t<tr><th scope=row>Merc 450SE</th><td>16.4</td><td>CARRO BEBERÃO  </td></tr>\n",
              "\t<tr><th scope=row>Merc 450SL</th><td>17.3</td><td>CARRO BEBERÃO  </td></tr>\n",
              "\t<tr><th scope=row>Merc 450SLC</th><td>15.2</td><td>CARRO BEBERÃO  </td></tr>\n",
              "\t<tr><th scope=row>Cadillac Fleetwood</th><td>10.4</td><td>CARRO BEBERÃO  </td></tr>\n",
              "\t<tr><th scope=row>Lincoln Continental</th><td>10.4</td><td>CARRO BEBERÃO  </td></tr>\n",
              "\t<tr><th scope=row>Chrysler Imperial</th><td>14.7</td><td>CARRO BEBERÃO  </td></tr>\n",
              "\t<tr><th scope=row>Fiat 128</th><td>32.4</td><td>CARRO ECONÔMICO</td></tr>\n",
              "\t<tr><th scope=row>Honda Civic</th><td>30.4</td><td>CARRO ECONÔMICO</td></tr>\n",
              "\t<tr><th scope=row>Toyota Corolla</th><td>33.9</td><td>CARRO ECONÔMICO</td></tr>\n",
              "\t<tr><th scope=row>Toyota Corona</th><td>21.5</td><td>CARRO ECONÔMICO</td></tr>\n",
              "\t<tr><th scope=row>Dodge Challenger</th><td>15.5</td><td>CARRO BEBERÃO  </td></tr>\n",
              "\t<tr><th scope=row>AMC Javelin</th><td>15.2</td><td>CARRO BEBERÃO  </td></tr>\n",
              "\t<tr><th scope=row>Camaro Z28</th><td>13.3</td><td>CARRO BEBERÃO  </td></tr>\n",
              "\t<tr><th scope=row>Pontiac Firebird</th><td>19.2</td><td>CARRO BEBERÃO  </td></tr>\n",
              "\t<tr><th scope=row>Fiat X1-9</th><td>27.3</td><td>CARRO ECONÔMICO</td></tr>\n",
              "\t<tr><th scope=row>Porsche 914-2</th><td>26.0</td><td>CARRO ECONÔMICO</td></tr>\n",
              "\t<tr><th scope=row>Lotus Europa</th><td>30.4</td><td>CARRO ECONÔMICO</td></tr>\n",
              "\t<tr><th scope=row>Ford Pantera L</th><td>15.8</td><td>CARRO BEBERÃO  </td></tr>\n",
              "\t<tr><th scope=row>Ferrari Dino</th><td>19.7</td><td>CARRO BEBERÃO  </td></tr>\n",
              "\t<tr><th scope=row>Maserati Bora</th><td>15.0</td><td>CARRO BEBERÃO  </td></tr>\n",
              "\t<tr><th scope=row>Volvo 142E</th><td>21.4</td><td>CARRO ECONÔMICO</td></tr>\n",
              "</tbody>\n",
              "</table>\n"
            ],
            "text/markdown": "\nA data.frame: 32 × 2\n\n| <!--/--> | mpg &lt;dbl&gt; | economy &lt;chr&gt; |\n|---|---|---|\n| Mazda RX4 | 21.0 | CARRO ECONÔMICO |\n| Mazda RX4 Wag | 21.0 | CARRO ECONÔMICO |\n| Datsun 710 | 22.8 | CARRO ECONÔMICO |\n| Hornet 4 Drive | 21.4 | CARRO ECONÔMICO |\n| Hornet Sportabout | 18.7 | CARRO BEBERÃO   |\n| Valiant | 18.1 | CARRO BEBERÃO   |\n| Duster 360 | 14.3 | CARRO BEBERÃO   |\n| Merc 240D | 24.4 | CARRO ECONÔMICO |\n| Merc 230 | 22.8 | CARRO ECONÔMICO |\n| Merc 280 | 19.2 | CARRO BEBERÃO   |\n| Merc 280C | 17.8 | CARRO BEBERÃO   |\n| Merc 450SE | 16.4 | CARRO BEBERÃO   |\n| Merc 450SL | 17.3 | CARRO BEBERÃO   |\n| Merc 450SLC | 15.2 | CARRO BEBERÃO   |\n| Cadillac Fleetwood | 10.4 | CARRO BEBERÃO   |\n| Lincoln Continental | 10.4 | CARRO BEBERÃO   |\n| Chrysler Imperial | 14.7 | CARRO BEBERÃO   |\n| Fiat 128 | 32.4 | CARRO ECONÔMICO |\n| Honda Civic | 30.4 | CARRO ECONÔMICO |\n| Toyota Corolla | 33.9 | CARRO ECONÔMICO |\n| Toyota Corona | 21.5 | CARRO ECONÔMICO |\n| Dodge Challenger | 15.5 | CARRO BEBERÃO   |\n| AMC Javelin | 15.2 | CARRO BEBERÃO   |\n| Camaro Z28 | 13.3 | CARRO BEBERÃO   |\n| Pontiac Firebird | 19.2 | CARRO BEBERÃO   |\n| Fiat X1-9 | 27.3 | CARRO ECONÔMICO |\n| Porsche 914-2 | 26.0 | CARRO ECONÔMICO |\n| Lotus Europa | 30.4 | CARRO ECONÔMICO |\n| Ford Pantera L | 15.8 | CARRO BEBERÃO   |\n| Ferrari Dino | 19.7 | CARRO BEBERÃO   |\n| Maserati Bora | 15.0 | CARRO BEBERÃO   |\n| Volvo 142E | 21.4 | CARRO ECONÔMICO |\n\n",
            "text/latex": "A data.frame: 32 × 2\n\\begin{tabular}{r|ll}\n  & mpg & economy\\\\\n  & <dbl> & <chr>\\\\\n\\hline\n\tMazda RX4 & 21.0 & CARRO ECONÔMICO\\\\\n\tMazda RX4 Wag & 21.0 & CARRO ECONÔMICO\\\\\n\tDatsun 710 & 22.8 & CARRO ECONÔMICO\\\\\n\tHornet 4 Drive & 21.4 & CARRO ECONÔMICO\\\\\n\tHornet Sportabout & 18.7 & CARRO BEBERÃO  \\\\\n\tValiant & 18.1 & CARRO BEBERÃO  \\\\\n\tDuster 360 & 14.3 & CARRO BEBERÃO  \\\\\n\tMerc 240D & 24.4 & CARRO ECONÔMICO\\\\\n\tMerc 230 & 22.8 & CARRO ECONÔMICO\\\\\n\tMerc 280 & 19.2 & CARRO BEBERÃO  \\\\\n\tMerc 280C & 17.8 & CARRO BEBERÃO  \\\\\n\tMerc 450SE & 16.4 & CARRO BEBERÃO  \\\\\n\tMerc 450SL & 17.3 & CARRO BEBERÃO  \\\\\n\tMerc 450SLC & 15.2 & CARRO BEBERÃO  \\\\\n\tCadillac Fleetwood & 10.4 & CARRO BEBERÃO  \\\\\n\tLincoln Continental & 10.4 & CARRO BEBERÃO  \\\\\n\tChrysler Imperial & 14.7 & CARRO BEBERÃO  \\\\\n\tFiat 128 & 32.4 & CARRO ECONÔMICO\\\\\n\tHonda Civic & 30.4 & CARRO ECONÔMICO\\\\\n\tToyota Corolla & 33.9 & CARRO ECONÔMICO\\\\\n\tToyota Corona & 21.5 & CARRO ECONÔMICO\\\\\n\tDodge Challenger & 15.5 & CARRO BEBERÃO  \\\\\n\tAMC Javelin & 15.2 & CARRO BEBERÃO  \\\\\n\tCamaro Z28 & 13.3 & CARRO BEBERÃO  \\\\\n\tPontiac Firebird & 19.2 & CARRO BEBERÃO  \\\\\n\tFiat X1-9 & 27.3 & CARRO ECONÔMICO\\\\\n\tPorsche 914-2 & 26.0 & CARRO ECONÔMICO\\\\\n\tLotus Europa & 30.4 & CARRO ECONÔMICO\\\\\n\tFord Pantera L & 15.8 & CARRO BEBERÃO  \\\\\n\tFerrari Dino & 19.7 & CARRO BEBERÃO  \\\\\n\tMaserati Bora & 15.0 & CARRO BEBERÃO  \\\\\n\tVolvo 142E & 21.4 & CARRO ECONÔMICO\\\\\n\\end{tabular}\n",
            "text/plain": [
              "                    mpg  economy        \n",
              "Mazda RX4           21.0 CARRO ECONÔMICO\n",
              "Mazda RX4 Wag       21.0 CARRO ECONÔMICO\n",
              "Datsun 710          22.8 CARRO ECONÔMICO\n",
              "Hornet 4 Drive      21.4 CARRO ECONÔMICO\n",
              "Hornet Sportabout   18.7 CARRO BEBERÃO  \n",
              "Valiant             18.1 CARRO BEBERÃO  \n",
              "Duster 360          14.3 CARRO BEBERÃO  \n",
              "Merc 240D           24.4 CARRO ECONÔMICO\n",
              "Merc 230            22.8 CARRO ECONÔMICO\n",
              "Merc 280            19.2 CARRO BEBERÃO  \n",
              "Merc 280C           17.8 CARRO BEBERÃO  \n",
              "Merc 450SE          16.4 CARRO BEBERÃO  \n",
              "Merc 450SL          17.3 CARRO BEBERÃO  \n",
              "Merc 450SLC         15.2 CARRO BEBERÃO  \n",
              "Cadillac Fleetwood  10.4 CARRO BEBERÃO  \n",
              "Lincoln Continental 10.4 CARRO BEBERÃO  \n",
              "Chrysler Imperial   14.7 CARRO BEBERÃO  \n",
              "Fiat 128            32.4 CARRO ECONÔMICO\n",
              "Honda Civic         30.4 CARRO ECONÔMICO\n",
              "Toyota Corolla      33.9 CARRO ECONÔMICO\n",
              "Toyota Corona       21.5 CARRO ECONÔMICO\n",
              "Dodge Challenger    15.5 CARRO BEBERÃO  \n",
              "AMC Javelin         15.2 CARRO BEBERÃO  \n",
              "Camaro Z28          13.3 CARRO BEBERÃO  \n",
              "Pontiac Firebird    19.2 CARRO BEBERÃO  \n",
              "Fiat X1-9           27.3 CARRO ECONÔMICO\n",
              "Porsche 914-2       26.0 CARRO ECONÔMICO\n",
              "Lotus Europa        30.4 CARRO ECONÔMICO\n",
              "Ford Pantera L      15.8 CARRO BEBERÃO  \n",
              "Ferrari Dino        19.7 CARRO BEBERÃO  \n",
              "Maserati Bora       15.0 CARRO BEBERÃO  \n",
              "Volvo 142E          21.4 CARRO ECONÔMICO"
            ]
          },
          "metadata": {}
        }
      ]
    },
    {
      "cell_type": "code",
      "metadata": {
        "id": "P39oQIADhXHk",
        "outputId": "06593e95-cd08-4a88-b1d7-ce742ee700ae",
        "colab": {
          "base_uri": "https://localhost:8080/",
          "height": 1000
        }
      },
      "source": [
        "mtcars %>%\n",
        "  arrange(mpg) %>%\n",
        "  select(everything())"
      ],
      "execution_count": null,
      "outputs": [
        {
          "output_type": "display_data",
          "data": {
            "text/html": [
              "<table class=\"dataframe\">\n",
              "<caption>A data.frame: 32 × 11</caption>\n",
              "<thead>\n",
              "\t<tr><th></th><th scope=col>mpg</th><th scope=col>cyl</th><th scope=col>disp</th><th scope=col>hp</th><th scope=col>drat</th><th scope=col>wt</th><th scope=col>qsec</th><th scope=col>vs</th><th scope=col>am</th><th scope=col>gear</th><th scope=col>carb</th></tr>\n",
              "\t<tr><th></th><th scope=col>&lt;dbl&gt;</th><th scope=col>&lt;dbl&gt;</th><th scope=col>&lt;dbl&gt;</th><th scope=col>&lt;dbl&gt;</th><th scope=col>&lt;dbl&gt;</th><th scope=col>&lt;dbl&gt;</th><th scope=col>&lt;dbl&gt;</th><th scope=col>&lt;dbl&gt;</th><th scope=col>&lt;dbl&gt;</th><th scope=col>&lt;dbl&gt;</th><th scope=col>&lt;dbl&gt;</th></tr>\n",
              "</thead>\n",
              "<tbody>\n",
              "\t<tr><th scope=row>Cadillac Fleetwood</th><td>10.4</td><td>8</td><td>472.0</td><td>205</td><td>2.93</td><td>5.250</td><td>17.98</td><td>0</td><td>0</td><td>3</td><td>4</td></tr>\n",
              "\t<tr><th scope=row>Lincoln Continental</th><td>10.4</td><td>8</td><td>460.0</td><td>215</td><td>3.00</td><td>5.424</td><td>17.82</td><td>0</td><td>0</td><td>3</td><td>4</td></tr>\n",
              "\t<tr><th scope=row>Camaro Z28</th><td>13.3</td><td>8</td><td>350.0</td><td>245</td><td>3.73</td><td>3.840</td><td>15.41</td><td>0</td><td>0</td><td>3</td><td>4</td></tr>\n",
              "\t<tr><th scope=row>Duster 360</th><td>14.3</td><td>8</td><td>360.0</td><td>245</td><td>3.21</td><td>3.570</td><td>15.84</td><td>0</td><td>0</td><td>3</td><td>4</td></tr>\n",
              "\t<tr><th scope=row>Chrysler Imperial</th><td>14.7</td><td>8</td><td>440.0</td><td>230</td><td>3.23</td><td>5.345</td><td>17.42</td><td>0</td><td>0</td><td>3</td><td>4</td></tr>\n",
              "\t<tr><th scope=row>Maserati Bora</th><td>15.0</td><td>8</td><td>301.0</td><td>335</td><td>3.54</td><td>3.570</td><td>14.60</td><td>0</td><td>1</td><td>5</td><td>8</td></tr>\n",
              "\t<tr><th scope=row>Merc 450SLC</th><td>15.2</td><td>8</td><td>275.8</td><td>180</td><td>3.07</td><td>3.780</td><td>18.00</td><td>0</td><td>0</td><td>3</td><td>3</td></tr>\n",
              "\t<tr><th scope=row>AMC Javelin</th><td>15.2</td><td>8</td><td>304.0</td><td>150</td><td>3.15</td><td>3.435</td><td>17.30</td><td>0</td><td>0</td><td>3</td><td>2</td></tr>\n",
              "\t<tr><th scope=row>Dodge Challenger</th><td>15.5</td><td>8</td><td>318.0</td><td>150</td><td>2.76</td><td>3.520</td><td>16.87</td><td>0</td><td>0</td><td>3</td><td>2</td></tr>\n",
              "\t<tr><th scope=row>Ford Pantera L</th><td>15.8</td><td>8</td><td>351.0</td><td>264</td><td>4.22</td><td>3.170</td><td>14.50</td><td>0</td><td>1</td><td>5</td><td>4</td></tr>\n",
              "\t<tr><th scope=row>Merc 450SE</th><td>16.4</td><td>8</td><td>275.8</td><td>180</td><td>3.07</td><td>4.070</td><td>17.40</td><td>0</td><td>0</td><td>3</td><td>3</td></tr>\n",
              "\t<tr><th scope=row>Merc 450SL</th><td>17.3</td><td>8</td><td>275.8</td><td>180</td><td>3.07</td><td>3.730</td><td>17.60</td><td>0</td><td>0</td><td>3</td><td>3</td></tr>\n",
              "\t<tr><th scope=row>Merc 280C</th><td>17.8</td><td>6</td><td>167.6</td><td>123</td><td>3.92</td><td>3.440</td><td>18.90</td><td>1</td><td>0</td><td>4</td><td>4</td></tr>\n",
              "\t<tr><th scope=row>Valiant</th><td>18.1</td><td>6</td><td>225.0</td><td>105</td><td>2.76</td><td>3.460</td><td>20.22</td><td>1</td><td>0</td><td>3</td><td>1</td></tr>\n",
              "\t<tr><th scope=row>Hornet Sportabout</th><td>18.7</td><td>8</td><td>360.0</td><td>175</td><td>3.15</td><td>3.440</td><td>17.02</td><td>0</td><td>0</td><td>3</td><td>2</td></tr>\n",
              "\t<tr><th scope=row>Merc 280</th><td>19.2</td><td>6</td><td>167.6</td><td>123</td><td>3.92</td><td>3.440</td><td>18.30</td><td>1</td><td>0</td><td>4</td><td>4</td></tr>\n",
              "\t<tr><th scope=row>Pontiac Firebird</th><td>19.2</td><td>8</td><td>400.0</td><td>175</td><td>3.08</td><td>3.845</td><td>17.05</td><td>0</td><td>0</td><td>3</td><td>2</td></tr>\n",
              "\t<tr><th scope=row>Ferrari Dino</th><td>19.7</td><td>6</td><td>145.0</td><td>175</td><td>3.62</td><td>2.770</td><td>15.50</td><td>0</td><td>1</td><td>5</td><td>6</td></tr>\n",
              "\t<tr><th scope=row>Mazda RX4</th><td>21.0</td><td>6</td><td>160.0</td><td>110</td><td>3.90</td><td>2.620</td><td>16.46</td><td>0</td><td>1</td><td>4</td><td>4</td></tr>\n",
              "\t<tr><th scope=row>Mazda RX4 Wag</th><td>21.0</td><td>6</td><td>160.0</td><td>110</td><td>3.90</td><td>2.875</td><td>17.02</td><td>0</td><td>1</td><td>4</td><td>4</td></tr>\n",
              "\t<tr><th scope=row>Hornet 4 Drive</th><td>21.4</td><td>6</td><td>258.0</td><td>110</td><td>3.08</td><td>3.215</td><td>19.44</td><td>1</td><td>0</td><td>3</td><td>1</td></tr>\n",
              "\t<tr><th scope=row>Volvo 142E</th><td>21.4</td><td>4</td><td>121.0</td><td>109</td><td>4.11</td><td>2.780</td><td>18.60</td><td>1</td><td>1</td><td>4</td><td>2</td></tr>\n",
              "\t<tr><th scope=row>Toyota Corona</th><td>21.5</td><td>4</td><td>120.1</td><td> 97</td><td>3.70</td><td>2.465</td><td>20.01</td><td>1</td><td>0</td><td>3</td><td>1</td></tr>\n",
              "\t<tr><th scope=row>Datsun 710</th><td>22.8</td><td>4</td><td>108.0</td><td> 93</td><td>3.85</td><td>2.320</td><td>18.61</td><td>1</td><td>1</td><td>4</td><td>1</td></tr>\n",
              "\t<tr><th scope=row>Merc 230</th><td>22.8</td><td>4</td><td>140.8</td><td> 95</td><td>3.92</td><td>3.150</td><td>22.90</td><td>1</td><td>0</td><td>4</td><td>2</td></tr>\n",
              "\t<tr><th scope=row>Merc 240D</th><td>24.4</td><td>4</td><td>146.7</td><td> 62</td><td>3.69</td><td>3.190</td><td>20.00</td><td>1</td><td>0</td><td>4</td><td>2</td></tr>\n",
              "\t<tr><th scope=row>Porsche 914-2</th><td>26.0</td><td>4</td><td>120.3</td><td> 91</td><td>4.43</td><td>2.140</td><td>16.70</td><td>0</td><td>1</td><td>5</td><td>2</td></tr>\n",
              "\t<tr><th scope=row>Fiat X1-9</th><td>27.3</td><td>4</td><td> 79.0</td><td> 66</td><td>4.08</td><td>1.935</td><td>18.90</td><td>1</td><td>1</td><td>4</td><td>1</td></tr>\n",
              "\t<tr><th scope=row>Honda Civic</th><td>30.4</td><td>4</td><td> 75.7</td><td> 52</td><td>4.93</td><td>1.615</td><td>18.52</td><td>1</td><td>1</td><td>4</td><td>2</td></tr>\n",
              "\t<tr><th scope=row>Lotus Europa</th><td>30.4</td><td>4</td><td> 95.1</td><td>113</td><td>3.77</td><td>1.513</td><td>16.90</td><td>1</td><td>1</td><td>5</td><td>2</td></tr>\n",
              "\t<tr><th scope=row>Fiat 128</th><td>32.4</td><td>4</td><td> 78.7</td><td> 66</td><td>4.08</td><td>2.200</td><td>19.47</td><td>1</td><td>1</td><td>4</td><td>1</td></tr>\n",
              "\t<tr><th scope=row>Toyota Corolla</th><td>33.9</td><td>4</td><td> 71.1</td><td> 65</td><td>4.22</td><td>1.835</td><td>19.90</td><td>1</td><td>1</td><td>4</td><td>1</td></tr>\n",
              "</tbody>\n",
              "</table>\n"
            ],
            "text/markdown": "\nA data.frame: 32 × 11\n\n| <!--/--> | mpg &lt;dbl&gt; | cyl &lt;dbl&gt; | disp &lt;dbl&gt; | hp &lt;dbl&gt; | drat &lt;dbl&gt; | wt &lt;dbl&gt; | qsec &lt;dbl&gt; | vs &lt;dbl&gt; | am &lt;dbl&gt; | gear &lt;dbl&gt; | carb &lt;dbl&gt; |\n|---|---|---|---|---|---|---|---|---|---|---|---|\n| Cadillac Fleetwood | 10.4 | 8 | 472.0 | 205 | 2.93 | 5.250 | 17.98 | 0 | 0 | 3 | 4 |\n| Lincoln Continental | 10.4 | 8 | 460.0 | 215 | 3.00 | 5.424 | 17.82 | 0 | 0 | 3 | 4 |\n| Camaro Z28 | 13.3 | 8 | 350.0 | 245 | 3.73 | 3.840 | 15.41 | 0 | 0 | 3 | 4 |\n| Duster 360 | 14.3 | 8 | 360.0 | 245 | 3.21 | 3.570 | 15.84 | 0 | 0 | 3 | 4 |\n| Chrysler Imperial | 14.7 | 8 | 440.0 | 230 | 3.23 | 5.345 | 17.42 | 0 | 0 | 3 | 4 |\n| Maserati Bora | 15.0 | 8 | 301.0 | 335 | 3.54 | 3.570 | 14.60 | 0 | 1 | 5 | 8 |\n| Merc 450SLC | 15.2 | 8 | 275.8 | 180 | 3.07 | 3.780 | 18.00 | 0 | 0 | 3 | 3 |\n| AMC Javelin | 15.2 | 8 | 304.0 | 150 | 3.15 | 3.435 | 17.30 | 0 | 0 | 3 | 2 |\n| Dodge Challenger | 15.5 | 8 | 318.0 | 150 | 2.76 | 3.520 | 16.87 | 0 | 0 | 3 | 2 |\n| Ford Pantera L | 15.8 | 8 | 351.0 | 264 | 4.22 | 3.170 | 14.50 | 0 | 1 | 5 | 4 |\n| Merc 450SE | 16.4 | 8 | 275.8 | 180 | 3.07 | 4.070 | 17.40 | 0 | 0 | 3 | 3 |\n| Merc 450SL | 17.3 | 8 | 275.8 | 180 | 3.07 | 3.730 | 17.60 | 0 | 0 | 3 | 3 |\n| Merc 280C | 17.8 | 6 | 167.6 | 123 | 3.92 | 3.440 | 18.90 | 1 | 0 | 4 | 4 |\n| Valiant | 18.1 | 6 | 225.0 | 105 | 2.76 | 3.460 | 20.22 | 1 | 0 | 3 | 1 |\n| Hornet Sportabout | 18.7 | 8 | 360.0 | 175 | 3.15 | 3.440 | 17.02 | 0 | 0 | 3 | 2 |\n| Merc 280 | 19.2 | 6 | 167.6 | 123 | 3.92 | 3.440 | 18.30 | 1 | 0 | 4 | 4 |\n| Pontiac Firebird | 19.2 | 8 | 400.0 | 175 | 3.08 | 3.845 | 17.05 | 0 | 0 | 3 | 2 |\n| Ferrari Dino | 19.7 | 6 | 145.0 | 175 | 3.62 | 2.770 | 15.50 | 0 | 1 | 5 | 6 |\n| Mazda RX4 | 21.0 | 6 | 160.0 | 110 | 3.90 | 2.620 | 16.46 | 0 | 1 | 4 | 4 |\n| Mazda RX4 Wag | 21.0 | 6 | 160.0 | 110 | 3.90 | 2.875 | 17.02 | 0 | 1 | 4 | 4 |\n| Hornet 4 Drive | 21.4 | 6 | 258.0 | 110 | 3.08 | 3.215 | 19.44 | 1 | 0 | 3 | 1 |\n| Volvo 142E | 21.4 | 4 | 121.0 | 109 | 4.11 | 2.780 | 18.60 | 1 | 1 | 4 | 2 |\n| Toyota Corona | 21.5 | 4 | 120.1 |  97 | 3.70 | 2.465 | 20.01 | 1 | 0 | 3 | 1 |\n| Datsun 710 | 22.8 | 4 | 108.0 |  93 | 3.85 | 2.320 | 18.61 | 1 | 1 | 4 | 1 |\n| Merc 230 | 22.8 | 4 | 140.8 |  95 | 3.92 | 3.150 | 22.90 | 1 | 0 | 4 | 2 |\n| Merc 240D | 24.4 | 4 | 146.7 |  62 | 3.69 | 3.190 | 20.00 | 1 | 0 | 4 | 2 |\n| Porsche 914-2 | 26.0 | 4 | 120.3 |  91 | 4.43 | 2.140 | 16.70 | 0 | 1 | 5 | 2 |\n| Fiat X1-9 | 27.3 | 4 |  79.0 |  66 | 4.08 | 1.935 | 18.90 | 1 | 1 | 4 | 1 |\n| Honda Civic | 30.4 | 4 |  75.7 |  52 | 4.93 | 1.615 | 18.52 | 1 | 1 | 4 | 2 |\n| Lotus Europa | 30.4 | 4 |  95.1 | 113 | 3.77 | 1.513 | 16.90 | 1 | 1 | 5 | 2 |\n| Fiat 128 | 32.4 | 4 |  78.7 |  66 | 4.08 | 2.200 | 19.47 | 1 | 1 | 4 | 1 |\n| Toyota Corolla | 33.9 | 4 |  71.1 |  65 | 4.22 | 1.835 | 19.90 | 1 | 1 | 4 | 1 |\n\n",
            "text/latex": "A data.frame: 32 × 11\n\\begin{tabular}{r|lllllllllll}\n  & mpg & cyl & disp & hp & drat & wt & qsec & vs & am & gear & carb\\\\\n  & <dbl> & <dbl> & <dbl> & <dbl> & <dbl> & <dbl> & <dbl> & <dbl> & <dbl> & <dbl> & <dbl>\\\\\n\\hline\n\tCadillac Fleetwood & 10.4 & 8 & 472.0 & 205 & 2.93 & 5.250 & 17.98 & 0 & 0 & 3 & 4\\\\\n\tLincoln Continental & 10.4 & 8 & 460.0 & 215 & 3.00 & 5.424 & 17.82 & 0 & 0 & 3 & 4\\\\\n\tCamaro Z28 & 13.3 & 8 & 350.0 & 245 & 3.73 & 3.840 & 15.41 & 0 & 0 & 3 & 4\\\\\n\tDuster 360 & 14.3 & 8 & 360.0 & 245 & 3.21 & 3.570 & 15.84 & 0 & 0 & 3 & 4\\\\\n\tChrysler Imperial & 14.7 & 8 & 440.0 & 230 & 3.23 & 5.345 & 17.42 & 0 & 0 & 3 & 4\\\\\n\tMaserati Bora & 15.0 & 8 & 301.0 & 335 & 3.54 & 3.570 & 14.60 & 0 & 1 & 5 & 8\\\\\n\tMerc 450SLC & 15.2 & 8 & 275.8 & 180 & 3.07 & 3.780 & 18.00 & 0 & 0 & 3 & 3\\\\\n\tAMC Javelin & 15.2 & 8 & 304.0 & 150 & 3.15 & 3.435 & 17.30 & 0 & 0 & 3 & 2\\\\\n\tDodge Challenger & 15.5 & 8 & 318.0 & 150 & 2.76 & 3.520 & 16.87 & 0 & 0 & 3 & 2\\\\\n\tFord Pantera L & 15.8 & 8 & 351.0 & 264 & 4.22 & 3.170 & 14.50 & 0 & 1 & 5 & 4\\\\\n\tMerc 450SE & 16.4 & 8 & 275.8 & 180 & 3.07 & 4.070 & 17.40 & 0 & 0 & 3 & 3\\\\\n\tMerc 450SL & 17.3 & 8 & 275.8 & 180 & 3.07 & 3.730 & 17.60 & 0 & 0 & 3 & 3\\\\\n\tMerc 280C & 17.8 & 6 & 167.6 & 123 & 3.92 & 3.440 & 18.90 & 1 & 0 & 4 & 4\\\\\n\tValiant & 18.1 & 6 & 225.0 & 105 & 2.76 & 3.460 & 20.22 & 1 & 0 & 3 & 1\\\\\n\tHornet Sportabout & 18.7 & 8 & 360.0 & 175 & 3.15 & 3.440 & 17.02 & 0 & 0 & 3 & 2\\\\\n\tMerc 280 & 19.2 & 6 & 167.6 & 123 & 3.92 & 3.440 & 18.30 & 1 & 0 & 4 & 4\\\\\n\tPontiac Firebird & 19.2 & 8 & 400.0 & 175 & 3.08 & 3.845 & 17.05 & 0 & 0 & 3 & 2\\\\\n\tFerrari Dino & 19.7 & 6 & 145.0 & 175 & 3.62 & 2.770 & 15.50 & 0 & 1 & 5 & 6\\\\\n\tMazda RX4 & 21.0 & 6 & 160.0 & 110 & 3.90 & 2.620 & 16.46 & 0 & 1 & 4 & 4\\\\\n\tMazda RX4 Wag & 21.0 & 6 & 160.0 & 110 & 3.90 & 2.875 & 17.02 & 0 & 1 & 4 & 4\\\\\n\tHornet 4 Drive & 21.4 & 6 & 258.0 & 110 & 3.08 & 3.215 & 19.44 & 1 & 0 & 3 & 1\\\\\n\tVolvo 142E & 21.4 & 4 & 121.0 & 109 & 4.11 & 2.780 & 18.60 & 1 & 1 & 4 & 2\\\\\n\tToyota Corona & 21.5 & 4 & 120.1 &  97 & 3.70 & 2.465 & 20.01 & 1 & 0 & 3 & 1\\\\\n\tDatsun 710 & 22.8 & 4 & 108.0 &  93 & 3.85 & 2.320 & 18.61 & 1 & 1 & 4 & 1\\\\\n\tMerc 230 & 22.8 & 4 & 140.8 &  95 & 3.92 & 3.150 & 22.90 & 1 & 0 & 4 & 2\\\\\n\tMerc 240D & 24.4 & 4 & 146.7 &  62 & 3.69 & 3.190 & 20.00 & 1 & 0 & 4 & 2\\\\\n\tPorsche 914-2 & 26.0 & 4 & 120.3 &  91 & 4.43 & 2.140 & 16.70 & 0 & 1 & 5 & 2\\\\\n\tFiat X1-9 & 27.3 & 4 &  79.0 &  66 & 4.08 & 1.935 & 18.90 & 1 & 1 & 4 & 1\\\\\n\tHonda Civic & 30.4 & 4 &  75.7 &  52 & 4.93 & 1.615 & 18.52 & 1 & 1 & 4 & 2\\\\\n\tLotus Europa & 30.4 & 4 &  95.1 & 113 & 3.77 & 1.513 & 16.90 & 1 & 1 & 5 & 2\\\\\n\tFiat 128 & 32.4 & 4 &  78.7 &  66 & 4.08 & 2.200 & 19.47 & 1 & 1 & 4 & 1\\\\\n\tToyota Corolla & 33.9 & 4 &  71.1 &  65 & 4.22 & 1.835 & 19.90 & 1 & 1 & 4 & 1\\\\\n\\end{tabular}\n",
            "text/plain": [
              "                    mpg  cyl disp  hp  drat wt    qsec  vs am gear carb\n",
              "Cadillac Fleetwood  10.4 8   472.0 205 2.93 5.250 17.98 0  0  3    4   \n",
              "Lincoln Continental 10.4 8   460.0 215 3.00 5.424 17.82 0  0  3    4   \n",
              "Camaro Z28          13.3 8   350.0 245 3.73 3.840 15.41 0  0  3    4   \n",
              "Duster 360          14.3 8   360.0 245 3.21 3.570 15.84 0  0  3    4   \n",
              "Chrysler Imperial   14.7 8   440.0 230 3.23 5.345 17.42 0  0  3    4   \n",
              "Maserati Bora       15.0 8   301.0 335 3.54 3.570 14.60 0  1  5    8   \n",
              "Merc 450SLC         15.2 8   275.8 180 3.07 3.780 18.00 0  0  3    3   \n",
              "AMC Javelin         15.2 8   304.0 150 3.15 3.435 17.30 0  0  3    2   \n",
              "Dodge Challenger    15.5 8   318.0 150 2.76 3.520 16.87 0  0  3    2   \n",
              "Ford Pantera L      15.8 8   351.0 264 4.22 3.170 14.50 0  1  5    4   \n",
              "Merc 450SE          16.4 8   275.8 180 3.07 4.070 17.40 0  0  3    3   \n",
              "Merc 450SL          17.3 8   275.8 180 3.07 3.730 17.60 0  0  3    3   \n",
              "Merc 280C           17.8 6   167.6 123 3.92 3.440 18.90 1  0  4    4   \n",
              "Valiant             18.1 6   225.0 105 2.76 3.460 20.22 1  0  3    1   \n",
              "Hornet Sportabout   18.7 8   360.0 175 3.15 3.440 17.02 0  0  3    2   \n",
              "Merc 280            19.2 6   167.6 123 3.92 3.440 18.30 1  0  4    4   \n",
              "Pontiac Firebird    19.2 8   400.0 175 3.08 3.845 17.05 0  0  3    2   \n",
              "Ferrari Dino        19.7 6   145.0 175 3.62 2.770 15.50 0  1  5    6   \n",
              "Mazda RX4           21.0 6   160.0 110 3.90 2.620 16.46 0  1  4    4   \n",
              "Mazda RX4 Wag       21.0 6   160.0 110 3.90 2.875 17.02 0  1  4    4   \n",
              "Hornet 4 Drive      21.4 6   258.0 110 3.08 3.215 19.44 1  0  3    1   \n",
              "Volvo 142E          21.4 4   121.0 109 4.11 2.780 18.60 1  1  4    2   \n",
              "Toyota Corona       21.5 4   120.1  97 3.70 2.465 20.01 1  0  3    1   \n",
              "Datsun 710          22.8 4   108.0  93 3.85 2.320 18.61 1  1  4    1   \n",
              "Merc 230            22.8 4   140.8  95 3.92 3.150 22.90 1  0  4    2   \n",
              "Merc 240D           24.4 4   146.7  62 3.69 3.190 20.00 1  0  4    2   \n",
              "Porsche 914-2       26.0 4   120.3  91 4.43 2.140 16.70 0  1  5    2   \n",
              "Fiat X1-9           27.3 4    79.0  66 4.08 1.935 18.90 1  1  4    1   \n",
              "Honda Civic         30.4 4    75.7  52 4.93 1.615 18.52 1  1  4    2   \n",
              "Lotus Europa        30.4 4    95.1 113 3.77 1.513 16.90 1  1  5    2   \n",
              "Fiat 128            32.4 4    78.7  66 4.08 2.200 19.47 1  1  4    1   \n",
              "Toyota Corolla      33.9 4    71.1  65 4.22 1.835 19.90 1  1  4    1   "
            ]
          },
          "metadata": {}
        }
      ]
    },
    {
      "cell_type": "code",
      "metadata": {
        "id": "0mQKab838oE-",
        "outputId": "fcf94a20-1604-43b7-ae59-9bfac95e05d4",
        "colab": {
          "base_uri": "https://localhost:8080/",
          "height": 147
        }
      },
      "source": [
        "mtcars %>%\n",
        "  summarise(media_mpg = median(mpg, na.rm = TRUE))"
      ],
      "execution_count": null,
      "outputs": [
        {
          "output_type": "display_data",
          "data": {
            "text/html": [
              "<table class=\"dataframe\">\n",
              "<caption>A data.frame: 1 × 1</caption>\n",
              "<thead>\n",
              "\t<tr><th scope=col>media_mpg</th></tr>\n",
              "\t<tr><th scope=col>&lt;dbl&gt;</th></tr>\n",
              "</thead>\n",
              "<tbody>\n",
              "\t<tr><td>19.2</td></tr>\n",
              "</tbody>\n",
              "</table>\n"
            ],
            "text/markdown": "\nA data.frame: 1 × 1\n\n| media_mpg &lt;dbl&gt; |\n|---|\n| 19.2 |\n\n",
            "text/latex": "A data.frame: 1 × 1\n\\begin{tabular}{l}\n media\\_mpg\\\\\n <dbl>\\\\\n\\hline\n\t 19.2\\\\\n\\end{tabular}\n",
            "text/plain": [
              "  media_mpg\n",
              "1 19.2     "
            ]
          },
          "metadata": {}
        }
      ]
    },
    {
      "cell_type": "markdown",
      "metadata": {
        "id": "lxnK5CFW9jJg"
      },
      "source": [
        "#TIDYR\n",
        "\n",
        "'''funções principais: gather() e spread()"
      ]
    },
    {
      "cell_type": "code",
      "metadata": {
        "id": "fW2Mh8AX949T"
      },
      "source": [
        "library(tibble)\n",
        "library(tidyr)\n",
        "\n",
        "df <- tibble(w = 1, x = 2, y = 3)\n",
        "z = gather(df, \"variavel\", \"valor\")"
      ],
      "execution_count": null,
      "outputs": []
    },
    {
      "cell_type": "code",
      "metadata": {
        "id": "hCxXdOrU95Iy",
        "outputId": "17d5778d-5217-48ec-b859-c70cc8b17864",
        "colab": {
          "base_uri": "https://localhost:8080/",
          "height": 129
        }
      },
      "source": [
        "df"
      ],
      "execution_count": null,
      "outputs": [
        {
          "output_type": "display_data",
          "data": {
            "text/html": [
              "<table class=\"dataframe\">\n",
              "<caption>A tibble: 1 × 3</caption>\n",
              "<thead>\n",
              "\t<tr><th scope=col>w</th><th scope=col>x</th><th scope=col>y</th></tr>\n",
              "\t<tr><th scope=col>&lt;dbl&gt;</th><th scope=col>&lt;dbl&gt;</th><th scope=col>&lt;dbl&gt;</th></tr>\n",
              "</thead>\n",
              "<tbody>\n",
              "\t<tr><td>1</td><td>2</td><td>3</td></tr>\n",
              "</tbody>\n",
              "</table>\n"
            ],
            "text/markdown": "\nA tibble: 1 × 3\n\n| w &lt;dbl&gt; | x &lt;dbl&gt; | y &lt;dbl&gt; |\n|---|---|---|\n| 1 | 2 | 3 |\n\n",
            "text/latex": "A tibble: 1 × 3\n\\begin{tabular}{lll}\n w & x & y\\\\\n <dbl> & <dbl> & <dbl>\\\\\n\\hline\n\t 1 & 2 & 3\\\\\n\\end{tabular}\n",
            "text/plain": [
              "  w x y\n",
              "1 1 2 3"
            ]
          },
          "metadata": {}
        }
      ]
    },
    {
      "cell_type": "code",
      "metadata": {
        "id": "hiRwIGV195W1",
        "outputId": "6577a7b0-8560-4fc4-e3e3-9ab9d73e41e3",
        "colab": {
          "base_uri": "https://localhost:8080/",
          "height": 192
        }
      },
      "source": [
        "z"
      ],
      "execution_count": null,
      "outputs": [
        {
          "output_type": "display_data",
          "data": {
            "text/html": [
              "<table class=\"dataframe\">\n",
              "<caption>A tibble: 3 × 2</caption>\n",
              "<thead>\n",
              "\t<tr><th scope=col>variavel</th><th scope=col>valor</th></tr>\n",
              "\t<tr><th scope=col>&lt;chr&gt;</th><th scope=col>&lt;dbl&gt;</th></tr>\n",
              "</thead>\n",
              "<tbody>\n",
              "\t<tr><td>w</td><td>1</td></tr>\n",
              "\t<tr><td>x</td><td>2</td></tr>\n",
              "\t<tr><td>y</td><td>3</td></tr>\n",
              "</tbody>\n",
              "</table>\n"
            ],
            "text/markdown": "\nA tibble: 3 × 2\n\n| variavel &lt;chr&gt; | valor &lt;dbl&gt; |\n|---|---|\n| w | 1 |\n| x | 2 |\n| y | 3 |\n\n",
            "text/latex": "A tibble: 3 × 2\n\\begin{tabular}{ll}\n variavel & valor\\\\\n <chr> & <dbl>\\\\\n\\hline\n\t w & 1\\\\\n\t x & 2\\\\\n\t y & 3\\\\\n\\end{tabular}\n",
            "text/plain": [
              "  variavel valor\n",
              "1 w        1    \n",
              "2 x        2    \n",
              "3 y        3    "
            ]
          },
          "metadata": {}
        }
      ]
    },
    {
      "cell_type": "code",
      "metadata": {
        "id": "8VkBBucX95gm",
        "outputId": "0506da4a-ff59-453f-9ee4-a4515613ab77",
        "colab": {
          "base_uri": "https://localhost:8080/",
          "height": 129
        }
      },
      "source": [
        "z2 = spread(z, \"variavel\", \"valor\")\n",
        "z2"
      ],
      "execution_count": null,
      "outputs": [
        {
          "output_type": "display_data",
          "data": {
            "text/html": [
              "<table class=\"dataframe\">\n",
              "<caption>A tibble: 1 × 3</caption>\n",
              "<thead>\n",
              "\t<tr><th scope=col>w</th><th scope=col>x</th><th scope=col>y</th></tr>\n",
              "\t<tr><th scope=col>&lt;dbl&gt;</th><th scope=col>&lt;dbl&gt;</th><th scope=col>&lt;dbl&gt;</th></tr>\n",
              "</thead>\n",
              "<tbody>\n",
              "\t<tr><td>1</td><td>2</td><td>3</td></tr>\n",
              "</tbody>\n",
              "</table>\n"
            ],
            "text/markdown": "\nA tibble: 1 × 3\n\n| w &lt;dbl&gt; | x &lt;dbl&gt; | y &lt;dbl&gt; |\n|---|---|---|\n| 1 | 2 | 3 |\n\n",
            "text/latex": "A tibble: 1 × 3\n\\begin{tabular}{lll}\n w & x & y\\\\\n <dbl> & <dbl> & <dbl>\\\\\n\\hline\n\t 1 & 2 & 3\\\\\n\\end{tabular}\n",
            "text/plain": [
              "  w x y\n",
              "1 1 2 3"
            ]
          },
          "metadata": {}
        }
      ]
    },
    {
      "cell_type": "markdown",
      "metadata": {
        "id": "ScqNcZx6y7qc"
      },
      "source": [
        "#READR\n",
        "\n",
        "'''Realiza leitura de dados nos formatos .txt, .cvs, .fwf e .log.\n",
        "  Ele permite realizar até 10x mais veloz que comandos usuais.\n",
        "  Não há necessidade de converter caracteres em fatores (stringAsFactors = False)\n",
        "\n",
        "https://rawgit.com/rstudio/cheatsheets/master/data-import.pdf\n"
      ]
    },
    {
      "cell_type": "code",
      "metadata": {
        "id": "vWCS3rKO-3rc"
      },
      "source": [
        "library(readr)\n",
        "# read_delim(), read_csv(), read_tsv(), read2_csv\n",
        "# read_fwf(), read_table()\n",
        "# read_log()\n",
        "# read)file() # lê um arquivo em \"string\""
      ],
      "execution_count": null,
      "outputs": []
    },
    {
      "cell_type": "markdown",
      "metadata": {
        "id": "AKOgSlv72pF7"
      },
      "source": [
        "#STRINGR"
      ]
    },
    {
      "cell_type": "code",
      "metadata": {
        "id": "kQZPPg9a-3-O",
        "outputId": "cb73206b-be39-4489-dd43-1de4a3d2e8a5",
        "colab": {
          "base_uri": "https://localhost:8080/",
          "height": 34
        }
      },
      "source": [
        "library(stringr)\n",
        "texto = \"Este é um texto para simples conferência de caractares.\"\n",
        "str_length(texto)"
      ],
      "execution_count": null,
      "outputs": [
        {
          "output_type": "display_data",
          "data": {
            "text/html": [
              "55"
            ],
            "text/markdown": "55",
            "text/latex": "55",
            "text/plain": [
              "[1] 55"
            ]
          },
          "metadata": {}
        }
      ]
    },
    {
      "cell_type": "code",
      "metadata": {
        "id": "fKoB_mmv3lsY",
        "outputId": "ed4ca110-820a-4d64-df1f-3d9a2697c910",
        "colab": {
          "base_uri": "https://localhost:8080/",
          "height": 34
        }
      },
      "source": [
        "str_to_upper(texto)"
      ],
      "execution_count": null,
      "outputs": [
        {
          "output_type": "display_data",
          "data": {
            "text/html": [
              "'ESTE É UM TEXTO PARA SIMPLES CONFERÊNCIA DE CARACTARES.'"
            ],
            "text/markdown": "'ESTE É UM TEXTO PARA SIMPLES CONFERÊNCIA DE CARACTARES.'",
            "text/latex": "'ESTE É UM TEXTO PARA SIMPLES CONFERÊNCIA DE CARACTARES.'",
            "text/plain": [
              "[1] \"ESTE É UM TEXTO PARA SIMPLES CONFERÊNCIA DE CARACTARES.\""
            ]
          },
          "metadata": {}
        }
      ]
    },
    {
      "cell_type": "code",
      "metadata": {
        "id": "1E2KP1Yx3l4R",
        "outputId": "fd057bb5-db1e-409b-9762-0dee62a2315d",
        "colab": {
          "base_uri": "https://localhost:8080/",
          "height": 34
        }
      },
      "source": [
        "s1 = \"Minha idade é\"\n",
        "s2 = \" \"\n",
        "s3 = \"42 anos\"\n",
        "str_c(s1,s2,s3)"
      ],
      "execution_count": null,
      "outputs": [
        {
          "output_type": "display_data",
          "data": {
            "text/html": [
              "'Minha idade é 42 anos'"
            ],
            "text/markdown": "'Minha idade é 42 anos'",
            "text/latex": "'Minha idade é 42 anos'",
            "text/plain": [
              "[1] \"Minha idade é 42 anos\""
            ]
          },
          "metadata": {}
        }
      ]
    },
    {
      "cell_type": "markdown",
      "metadata": {
        "id": "oKHxT-sH4UZA"
      },
      "source": [
        "#Pipe %>%\n",
        "\n",
        "'''O operador %>% (pipe) veio para tornar a leitura de códigos mais legivel/compreensivel.\n",
        "Foi introduzido junto ao pacote magrittr e já exustem em outros pacotes criados para sua utilização.'''\n",
        "\n",
        "De inicio, vamos instalar e carregar o magrittr"
      ]
    },
    {
      "cell_type": "code",
      "metadata": {
        "id": "8fmbObEg5w3W",
        "outputId": "865ff764-41d6-423e-833e-0e0711c7fae8",
        "colab": {
          "base_uri": "https://localhost:8080/"
        }
      },
      "source": [
        "install.packages(\"magrittr\")\n",
        "library(magrittr)"
      ],
      "execution_count": null,
      "outputs": [
        {
          "output_type": "stream",
          "name": "stderr",
          "text": [
            "Installing package into ‘/usr/local/lib/R/site-library’\n",
            "(as ‘lib’ is unspecified)\n",
            "\n",
            "\n",
            "Attaching package: ‘magrittr’\n",
            "\n",
            "\n",
            "The following object is masked from ‘package:purrr’:\n",
            "\n",
            "    set_names\n",
            "\n",
            "\n",
            "The following object is masked from ‘package:tidyr’:\n",
            "\n",
            "    extract\n",
            "\n",
            "\n"
          ]
        }
      ]
    },
    {
      "cell_type": "code",
      "metadata": {
        "id": "l-9QYaqE6DXw"
      },
      "source": [
        "# funcao(a, b) # sem pipe\n",
        "# a %>% f(b) # com pipe"
      ],
      "execution_count": null,
      "outputs": []
    },
    {
      "cell_type": "code",
      "metadata": {
        "id": "c-FCQvLm6Dla",
        "outputId": "91718ebe-5365-428c-ef78-0b53a3ab2278",
        "colab": {
          "base_uri": "https://localhost:8080/",
          "height": 34
        }
      },
      "source": [
        "a <- c(1, 2, 3, 4)\n",
        "sqrt(sum(a))"
      ],
      "execution_count": null,
      "outputs": [
        {
          "output_type": "display_data",
          "data": {
            "text/html": [
              "3.16227766016838"
            ],
            "text/markdown": "3.16227766016838",
            "text/latex": "3.16227766016838",
            "text/plain": [
              "[1] 3.162278"
            ]
          },
          "metadata": {}
        }
      ]
    },
    {
      "cell_type": "code",
      "metadata": {
        "id": "y2qO4oSy6D0A",
        "outputId": "e0fb0ced-6fa2-4856-fc41-6ad5fc19951c",
        "colab": {
          "base_uri": "https://localhost:8080/",
          "height": 34
        }
      },
      "source": [
        "a %>% sum() %>% sqrt"
      ],
      "execution_count": null,
      "outputs": [
        {
          "output_type": "display_data",
          "data": {
            "text/html": [
              "3.16227766016838"
            ],
            "text/markdown": "3.16227766016838",
            "text/latex": "3.16227766016838",
            "text/plain": [
              "[1] 3.162278"
            ]
          },
          "metadata": {}
        }
      ]
    },
    {
      "cell_type": "code",
      "source": [
        "library(tidyverse)\n",
        "library(modelr)\n",
        "options(na.action = na.warn)"
      ],
      "metadata": {
        "id": "8WZxGDrxnv98"
      },
      "execution_count": null,
      "outputs": []
    },
    {
      "cell_type": "code",
      "source": [
        "ggplot(sim1, aes(x, y)) + \n",
        "    geom_point()"
      ],
      "metadata": {
        "colab": {
          "base_uri": "https://localhost:8080/",
          "height": 437
        },
        "id": "eSleWaWZnv6-",
        "outputId": "d62de79e-5212-475c-b0c6-190a4b5c05e3"
      },
      "execution_count": null,
      "outputs": [
        {
          "output_type": "display_data",
          "data": {
            "text/plain": [
              "plot without title"
            ],
            "image/png": "[encoded data removed]"
          },
          "metadata": {
            "image/png": {
              "width": 420,
              "height": 420
            }
          }
        }
      ]
    },
    {
      "cell_type": "code",
      "source": [
        "ggplot(diamonds, aes(cut, price)) + geom_boxplot()\n",
        "ggplot(diamonds, aes(color, price)) + geom_boxplot()\n",
        "ggplot(diamonds, aes(clarity, price)) + geom_boxplot()"
      ],
      "metadata": {
        "colab": {
          "base_uri": "https://localhost:8080/",
          "height": 1000
        },
        "id": "OQ2NX15Fnv4A",
        "outputId": "91ab70a0-a2fd-4bdf-c9ca-7d1eb7290d9e"
      },
      "execution_count": null,
      "outputs": [
        {
          "output_type": "display_data",
          "data": {
            "text/plain": [
              "plot without title"
            ],
            "image/png": "[encoded data removed]"
          },
          "metadata": {
            "image/png": {
              "width": 420,
              "height": 420
            }
          }
        },
        {
          "output_type": "display_data",
          "data": {
            "text/plain": [
              "plot without title"
            ],
            "image/png": "[encoded data removed]"
          },
          "metadata": {
            "image/png": {
              "width": 420,
              "height": 420
            }
          }
        },
        {
          "output_type": "display_data",
          "data": {
            "text/plain": [
              "plot without title"
            ],
            "image/png": "[encoded data removed]"
          },
          "metadata": {
            "image/png": {
              "width": 420,
              "height": 420
            }
          }
        }
      ]
    },
    {
      "cell_type": "code",
      "source": [
        "install.packages('nycflights13')\n",
        "install.packages('lubridate')"
      ],
      "metadata": {
        "colab": {
          "base_uri": "https://localhost:8080/"
        },
        "id": "wYt9apMapTMx",
        "outputId": "eed8f977-c892-4626-96e8-f4e66ac2304f"
      },
      "execution_count": null,
      "outputs": [
        {
          "output_type": "stream",
          "name": "stderr",
          "text": [
            "Installing package into ‘/usr/local/lib/R/site-library’\n",
            "(as ‘lib’ is unspecified)\n",
            "\n",
            "Installing package into ‘/usr/local/lib/R/site-library’\n",
            "(as ‘lib’ is unspecified)\n",
            "\n"
          ]
        }
      ]
    },
    {
      "cell_type": "code",
      "source": [
        "library(tidyverse)\n",
        "library(modelr)\n",
        "options(na.action = na.warn)\n",
        "\n",
        "library(nycflights13)\n",
        "library(lubridate)"
      ],
      "metadata": {
        "id": "PSD0CfAgpTJ8",
        "colab": {
          "base_uri": "https://localhost:8080/"
        },
        "outputId": "6216dbde-4977-4cdc-a776-62316942b08d"
      },
      "execution_count": null,
      "outputs": [
        {
          "output_type": "stream",
          "name": "stderr",
          "text": [
            "\n",
            "Attaching package: ‘lubridate’\n",
            "\n",
            "\n",
            "The following objects are masked from ‘package:base’:\n",
            "\n",
            "    date, intersect, setdiff, union\n",
            "\n",
            "\n"
          ]
        }
      ]
    },
    {
      "cell_type": "code",
      "source": [
        "head(diamonds, 5)"
      ],
      "metadata": {
        "colab": {
          "base_uri": "https://localhost:8080/",
          "height": 255
        },
        "id": "X4phzxrhp5HF",
        "outputId": "d58d6e7d-102c-48d0-bcd8-0a59217f7990"
      },
      "execution_count": null,
      "outputs": [
        {
          "output_type": "display_data",
          "data": {
            "text/html": [
              "<table class=\"dataframe\">\n",
              "<caption>A tibble: 5 × 10</caption>\n",
              "<thead>\n",
              "\t<tr><th scope=col>carat</th><th scope=col>cut</th><th scope=col>color</th><th scope=col>clarity</th><th scope=col>depth</th><th scope=col>table</th><th scope=col>price</th><th scope=col>x</th><th scope=col>y</th><th scope=col>z</th></tr>\n",
              "\t<tr><th scope=col>&lt;dbl&gt;</th><th scope=col>&lt;ord&gt;</th><th scope=col>&lt;ord&gt;</th><th scope=col>&lt;ord&gt;</th><th scope=col>&lt;dbl&gt;</th><th scope=col>&lt;dbl&gt;</th><th scope=col>&lt;int&gt;</th><th scope=col>&lt;dbl&gt;</th><th scope=col>&lt;dbl&gt;</th><th scope=col>&lt;dbl&gt;</th></tr>\n",
              "</thead>\n",
              "<tbody>\n",
              "\t<tr><td>0.23</td><td>Ideal  </td><td>E</td><td>SI2</td><td>61.5</td><td>55</td><td>326</td><td>3.95</td><td>3.98</td><td>2.43</td></tr>\n",
              "\t<tr><td>0.21</td><td>Premium</td><td>E</td><td>SI1</td><td>59.8</td><td>61</td><td>326</td><td>3.89</td><td>3.84</td><td>2.31</td></tr>\n",
              "\t<tr><td>0.23</td><td>Good   </td><td>E</td><td>VS1</td><td>56.9</td><td>65</td><td>327</td><td>4.05</td><td>4.07</td><td>2.31</td></tr>\n",
              "\t<tr><td>0.29</td><td>Premium</td><td>I</td><td>VS2</td><td>62.4</td><td>58</td><td>334</td><td>4.20</td><td>4.23</td><td>2.63</td></tr>\n",
              "\t<tr><td>0.31</td><td>Good   </td><td>J</td><td>SI2</td><td>63.3</td><td>58</td><td>335</td><td>4.34</td><td>4.35</td><td>2.75</td></tr>\n",
              "</tbody>\n",
              "</table>\n"
            ],
            "text/markdown": "\nA tibble: 5 × 10\n\n| carat &lt;dbl&gt; | cut &lt;ord&gt; | color &lt;ord&gt; | clarity &lt;ord&gt; | depth &lt;dbl&gt; | table &lt;dbl&gt; | price &lt;int&gt; | x &lt;dbl&gt; | y &lt;dbl&gt; | z &lt;dbl&gt; |\n|---|---|---|---|---|---|---|---|---|---|\n| 0.23 | Ideal   | E | SI2 | 61.5 | 55 | 326 | 3.95 | 3.98 | 2.43 |\n| 0.21 | Premium | E | SI1 | 59.8 | 61 | 326 | 3.89 | 3.84 | 2.31 |\n| 0.23 | Good    | E | VS1 | 56.9 | 65 | 327 | 4.05 | 4.07 | 2.31 |\n| 0.29 | Premium | I | VS2 | 62.4 | 58 | 334 | 4.20 | 4.23 | 2.63 |\n| 0.31 | Good    | J | SI2 | 63.3 | 58 | 335 | 4.34 | 4.35 | 2.75 |\n\n",
            "text/latex": "A tibble: 5 × 10\n\\begin{tabular}{llllllllll}\n carat & cut & color & clarity & depth & table & price & x & y & z\\\\\n <dbl> & <ord> & <ord> & <ord> & <dbl> & <dbl> & <int> & <dbl> & <dbl> & <dbl>\\\\\n\\hline\n\t 0.23 & Ideal   & E & SI2 & 61.5 & 55 & 326 & 3.95 & 3.98 & 2.43\\\\\n\t 0.21 & Premium & E & SI1 & 59.8 & 61 & 326 & 3.89 & 3.84 & 2.31\\\\\n\t 0.23 & Good    & E & VS1 & 56.9 & 65 & 327 & 4.05 & 4.07 & 2.31\\\\\n\t 0.29 & Premium & I & VS2 & 62.4 & 58 & 334 & 4.20 & 4.23 & 2.63\\\\\n\t 0.31 & Good    & J & SI2 & 63.3 & 58 & 335 & 4.34 & 4.35 & 2.75\\\\\n\\end{tabular}\n",
            "text/plain": [
              "  carat cut     color clarity depth table price x    y    z   \n",
              "1 0.23  Ideal   E     SI2     61.5  55    326   3.95 3.98 2.43\n",
              "2 0.21  Premium E     SI1     59.8  61    326   3.89 3.84 2.31\n",
              "3 0.23  Good    E     VS1     56.9  65    327   4.05 4.07 2.31\n",
              "4 0.29  Premium I     VS2     62.4  58    334   4.20 4.23 2.63\n",
              "5 0.31  Good    J     SI2     63.3  58    335   4.34 4.35 2.75"
            ]
          },
          "metadata": {}
        }
      ]
    },
    {
      "cell_type": "code",
      "source": [
        "ggplot(diamonds, aes(carat, price)) + \n",
        "  geom_hex(bins = 50)"
      ],
      "metadata": {
        "colab": {
          "base_uri": "https://localhost:8080/",
          "height": 437
        },
        "id": "pZcixoHEnv06",
        "outputId": "4a344a51-9664-4db7-a971-11301be62d55"
      },
      "execution_count": null,
      "outputs": [
        {
          "output_type": "display_data",
          "data": {
            "text/plain": [
              "plot without title"
            ],
            "image/png": "[encoded data removed]"
          },
          "metadata": {
            "image/png": {
              "width": 420,
              "height": 420
            }
          }
        }
      ]
    },
    {
      "cell_type": "code",
      "source": [
        "diamonds2 <- diamonds %>% \n",
        "  filter(carat <= 2.5) %>% \n",
        "  mutate(lprice = log2(price), lcarat = log2(carat))"
      ],
      "metadata": {
        "id": "L_qq0KpKpLAe"
      },
      "execution_count": null,
      "outputs": []
    },
    {
      "cell_type": "code",
      "source": [
        "ggplot(diamonds2, aes(lcarat, lprice)) + \n",
        "  geom_hex(bins = 50)"
      ],
      "metadata": {
        "colab": {
          "base_uri": "https://localhost:8080/",
          "height": 437
        },
        "id": "kMAk8olMpK9F",
        "outputId": "af26f120-32e8-4085-8a23-cd5b8fb557ad"
      },
      "execution_count": null,
      "outputs": [
        {
          "output_type": "display_data",
          "data": {
            "text/plain": [
              "plot without title"
            ],
            "image/png": "[encoded data removed]"
          },
          "metadata": {
            "image/png": {
              "width": 420,
              "height": 420
            }
          }
        }
      ]
    },
    {
      "cell_type": "code",
      "source": [
        ""
      ],
      "metadata": {
        "id": "feNHBGwipK6E"
      },
      "execution_count": null,
      "outputs": []
    },
    {
      "cell_type": "code",
      "source": [
        ""
      ],
      "metadata": {
        "id": "f8S6ICbLkQwI"
      },
      "execution_count": null,
      "outputs": []
    },
    {
      "cell_type": "code",
      "source": [
        ""
      ],
      "metadata": {
        "id": "lOvrGGtLkQsT"
      },
      "execution_count": null,
      "outputs": []
    }
  ]
}